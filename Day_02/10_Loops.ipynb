{
 "cells": [
  {
   "cell_type": "markdown",
   "id": "68fe0790-f033-4d28-b36d-4b0d44fac9c3",
   "metadata": {},
   "source": [
    "### Loop:\n",
    "> Looping means repeating something over and over until a particular condition is satisfied.\n",
    "\n",
    "> There are Two types of Loop in Python\n",
    "> * While Loop\n",
    "> * For Loop"
   ]
  },
  {
   "cell_type": "markdown",
   "id": "5a0076c6-1425-4de3-a1cc-efde9031ad72",
   "metadata": {},
   "source": [
    "1.  While Loop Syntax"
   ]
  },
  {
   "cell_type": "code",
   "execution_count": 2,
   "id": "0191e5d3-52e4-44d8-a31a-de6d1d3e055c",
   "metadata": {},
   "outputs": [
    {
     "name": "stdout",
     "output_type": "stream",
     "text": [
      "2\n",
      "3\n",
      "4\n",
      "5\n"
     ]
    }
   ],
   "source": [
    "count = 1\n",
    "while(count < 5):\n",
    "    count=count+1\n",
    "    print(count)"
   ]
  },
  {
   "cell_type": "markdown",
   "id": "971fd4a0-449b-4a72-bebf-26edfbd23b8e",
   "metadata": {},
   "source": [
    "> What is the Difference Between above and below Program.\n",
    "\n",
    "\n",
    "> Why difference in result while same code are written."
   ]
  },
  {
   "cell_type": "code",
   "execution_count": 3,
   "id": "e0dbe659-ebbc-4f1a-a596-a2b4bb4104b2",
   "metadata": {},
   "outputs": [
    {
     "name": "stdout",
     "output_type": "stream",
     "text": [
      "1\n",
      "2\n",
      "3\n",
      "4\n"
     ]
    }
   ],
   "source": [
    "count = 1\n",
    "while(count < 5):\n",
    "    print(count)\n",
    "    count=count+1"
   ]
  },
  {
   "cell_type": "markdown",
   "id": "6aee6d91-59ae-4a89-9a0e-8bd6f4cf6098",
   "metadata": {},
   "source": [
    "##### While loop with else statment"
   ]
  },
  {
   "cell_type": "code",
   "execution_count": 6,
   "id": "779fdbd1-86f9-418b-b226-063fd41fc6fd",
   "metadata": {},
   "outputs": [
    {
     "name": "stdout",
     "output_type": "stream",
     "text": [
      "2\n",
      "3\n",
      "4\n",
      "5\n",
      "End of Program\n"
     ]
    }
   ],
   "source": [
    "count = 1\n",
    "while(count < 5):\n",
    "    count=count+1\n",
    "    print(count)\n",
    "else:\n",
    "    print('End of Program')"
   ]
  },
  {
   "cell_type": "markdown",
   "id": "345cc7b0-57d6-4125-a2c2-429dc431000d",
   "metadata": {},
   "source": [
    "2. For loop Syntax"
   ]
  },
  {
   "cell_type": "code",
   "execution_count": 16,
   "id": "b2234576-7855-46c3-b104-28e77ea9ccbb",
   "metadata": {},
   "outputs": [
    {
     "name": "stdout",
     "output_type": "stream",
     "text": [
      "0\n",
      "1\n",
      "2\n",
      "3\n",
      "4\n"
     ]
    }
   ],
   "source": [
    "for i in range(5):\n",
    "    print(i)"
   ]
  },
  {
   "cell_type": "code",
   "execution_count": 17,
   "id": "7f7195b4-6c39-45a1-b0f1-789b10c63bcc",
   "metadata": {},
   "outputs": [
    {
     "name": "stdout",
     "output_type": "stream",
     "text": [
      "2\n",
      "3\n",
      "4\n"
     ]
    }
   ],
   "source": [
    "for i in range(2,5):\n",
    "    print(i)"
   ]
  },
  {
   "cell_type": "code",
   "execution_count": 18,
   "id": "130249be-0d21-4389-b6dd-81056fa69441",
   "metadata": {},
   "outputs": [
    {
     "name": "stdout",
     "output_type": "stream",
     "text": [
      "2\n",
      "5\n",
      "8\n",
      "11\n",
      "14\n"
     ]
    }
   ],
   "source": [
    "for i in range(2,15,3):\n",
    "    print(i)"
   ]
  },
  {
   "cell_type": "code",
   "execution_count": 2,
   "id": "175d5472-331b-4a12-a01e-fe3331a704b2",
   "metadata": {},
   "outputs": [
    {
     "name": "stdout",
     "output_type": "stream",
     "text": [
      "D\n",
      "A\n",
      "T\n",
      "A\n",
      " \n",
      "A\n",
      "N\n",
      "A\n",
      "L\n",
      "Y\n",
      "S\n",
      "I\n",
      "S\n"
     ]
    }
   ],
   "source": [
    "course = 'DATA ANALYSIS'\n",
    "for i in course:\n",
    "    print(i)"
   ]
  },
  {
   "cell_type": "code",
   "execution_count": 8,
   "id": "3746c263-6f11-4d80-9e4f-a923dbfeeac7",
   "metadata": {},
   "outputs": [
    {
     "name": "stdout",
     "output_type": "stream",
     "text": [
      "D\n",
      "A\n",
      "T\n",
      "A\n",
      " \n",
      "A\n",
      "N\n",
      "A\n",
      "L\n",
      "Y\n",
      "S\n",
      "I\n",
      "S\n"
     ]
    }
   ],
   "source": [
    "for a in 'DATA ANALYSIS':\n",
    "    print(a)"
   ]
  },
  {
   "cell_type": "code",
   "execution_count": 9,
   "id": "1b634496-a0f4-4146-8ade-7d43352a88bc",
   "metadata": {},
   "outputs": [
    {
     "name": "stdout",
     "output_type": "stream",
     "text": [
      "Apple\n",
      "Banana\n",
      "Orange\n"
     ]
    }
   ],
   "source": [
    "fruits=['Apple', 'Banana', 'Orange']\n",
    "for a in fruits:\n",
    "    print(a)"
   ]
  },
  {
   "cell_type": "markdown",
   "id": "80a3dfd8-1070-4ab8-9f4c-bcdb776908f2",
   "metadata": {},
   "source": [
    "#### Using Break statment\n",
    "> Break statment is used to exit from the loop (terminate the loop)"
   ]
  },
  {
   "cell_type": "code",
   "execution_count": 13,
   "id": "cabe40cc-634a-4cbc-9eee-1f05bcb08498",
   "metadata": {},
   "outputs": [
    {
     "name": "stdout",
     "output_type": "stream",
     "text": [
      "Apple\n"
     ]
    }
   ],
   "source": [
    "fruits=['Apple', 'Banana', 'Orange']\n",
    "for a in fruits:\n",
    "    if a =='Banana':\n",
    "        break\n",
    "    print(a)"
   ]
  },
  {
   "cell_type": "markdown",
   "id": "aeb00fd1-c052-42b4-95e2-1cb9e00b1c3f",
   "metadata": {},
   "source": [
    "#### Continue Statment\n",
    "> It is used to stop the curret iteration and continue from the next "
   ]
  },
  {
   "cell_type": "code",
   "execution_count": 14,
   "id": "376c47fc-91e4-4403-a44a-5d50205a75ad",
   "metadata": {},
   "outputs": [
    {
     "name": "stdout",
     "output_type": "stream",
     "text": [
      "Apple\n",
      "Orange\n"
     ]
    }
   ],
   "source": [
    "fruits=['Apple', 'Banana', 'Orange']\n",
    "for a in fruits:\n",
    "    if a =='Banana':\n",
    "        continue\n",
    "    print(a)"
   ]
  },
  {
   "cell_type": "markdown",
   "id": "1d764a1f-9963-4234-8535-8446dfdecd37",
   "metadata": {},
   "source": [
    "#### Nested Loop\n",
    "> A nested loop is a loop inside a loop.\n",
    "\n",
    "> The \"inner loop\" will be executed one time for each iteration of the \"outer loop\":\":"
   ]
  },
  {
   "cell_type": "code",
   "execution_count": 27,
   "id": "c0214ae2-fc50-4a6e-8974-d73bf6c702e6",
   "metadata": {},
   "outputs": [
    {
     "name": "stdout",
     "output_type": "stream",
     "text": [
      "red apple\n",
      "red banana\n",
      "red cherry\n",
      "big apple\n",
      "big banana\n",
      "big cherry\n",
      "tasty apple\n",
      "tasty banana\n",
      "tasty cherry\n"
     ]
    }
   ],
   "source": [
    "adj = [\"red\", \"big\", \"tasty\"]\n",
    "fruits = [\"apple\", \"banana\", \"cherry\"]\n",
    "\n",
    "for x in adj:\n",
    "  for y in fruits:\n",
    "    print(x, y)"
   ]
  },
  {
   "cell_type": "code",
   "execution_count": null,
   "id": "76b546e7-ac17-430a-8c3e-3d8d8ba3880f",
   "metadata": {},
   "outputs": [],
   "source": []
  }
 ],
 "metadata": {
  "kernelspec": {
   "display_name": "Python 3 (ipykernel)",
   "language": "python",
   "name": "python3"
  },
  "language_info": {
   "codemirror_mode": {
    "name": "ipython",
    "version": 3
   },
   "file_extension": ".py",
   "mimetype": "text/x-python",
   "name": "python",
   "nbconvert_exporter": "python",
   "pygments_lexer": "ipython3",
   "version": "3.11.7"
  }
 },
 "nbformat": 4,
 "nbformat_minor": 5
}
