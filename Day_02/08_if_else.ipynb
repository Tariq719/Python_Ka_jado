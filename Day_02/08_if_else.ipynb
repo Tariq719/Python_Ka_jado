{
 "cells": [
  {
   "cell_type": "markdown",
   "id": "1fa093fe-84ab-48c1-98ca-7e763824493c",
   "metadata": {},
   "source": [
    "#### if_else condition"
   ]
  },
  {
   "cell_type": "code",
   "execution_count": 1,
   "id": "0b151c4e-3361-4961-a22b-8882b604e0fd",
   "metadata": {},
   "outputs": [
    {
     "name": "stdin",
     "output_type": "stream",
     "text": [
      "what is your age?  33\n"
     ]
    },
    {
     "name": "stdout",
     "output_type": "stream",
     "text": [
      "You are eligible for admission in 9th class\n"
     ]
    }
   ],
   "source": [
    "age = int(input('what is your age? '))                   # put your year\n",
    "admission_age = 14                                       # conditional age for 9th class admission\n",
    "if age >= admission_age:                                 # if condition\n",
    "    print('You are eligible for admission in 9th class') # print function inside if condition\n",
    "else:                                                    # else statment\n",
    "    print('You are not eligible for admission')          # print function inside else statment"
   ]
  },
  {
   "cell_type": "code",
   "execution_count": 4,
   "id": "522e6261-9d70-4bc0-a116-a99240b34f07",
   "metadata": {},
   "outputs": [
    {
     "name": "stdin",
     "output_type": "stream",
     "text": [
      "what is your age?  12\n"
     ]
    },
    {
     "name": "stdout",
     "output_type": "stream",
     "text": [
      "Eligible for school but Not able for 9th class admission\n"
     ]
    }
   ],
   "source": [
    "age = int(input('what is your age? '))                   # put your year\n",
    "if age == 14 or age > 14:\n",
    "    print('Able for admission')\n",
    "elif age > 4 and age < 14:\n",
    "    print('Eligible for school but Not able for 9th class admission')\n",
    "else:\n",
    "    print('Not eligible for school')"
   ]
  },
  {
   "cell_type": "code",
   "execution_count": null,
   "id": "d726149f-e6e4-406b-9c04-40ca041e2c75",
   "metadata": {},
   "outputs": [],
   "source": []
  }
 ],
 "metadata": {
  "kernelspec": {
   "display_name": "Python 3 (ipykernel)",
   "language": "python",
   "name": "python3"
  },
  "language_info": {
   "codemirror_mode": {
    "name": "ipython",
    "version": 3
   },
   "file_extension": ".py",
   "mimetype": "text/x-python",
   "name": "python",
   "nbconvert_exporter": "python",
   "pygments_lexer": "ipython3",
   "version": "3.11.7"
  }
 },
 "nbformat": 4,
 "nbformat_minor": 5
}
