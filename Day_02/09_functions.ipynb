{
 "cells": [
  {
   "cell_type": "markdown",
   "id": "4978259a-0a91-45b3-b046-538068bc43a0",
   "metadata": {},
   "source": [
    "#### Fuction\n",
    "> A function is a block of code which only runs when it is called.\n",
    "\n",
    "> You can pass data, known as parameters, into a function.\n",
    "\n",
    "> A function can return data as a result."
   ]
  },
  {
   "cell_type": "code",
   "execution_count": 1,
   "id": "99f0d3e7-3885-450d-83fa-bfa2f7d04578",
   "metadata": {},
   "outputs": [],
   "source": [
    "# Function Declaration:\n",
    "# The syntax to delare a function is:"
   ]
  },
  {
   "cell_type": "markdown",
   "id": "1f069cc4-ea86-49fb-a2ce-e130449d8729",
   "metadata": {},
   "source": [
    "![SNOWFALL](function.PNG) \n"
   ]
  },
  {
   "cell_type": "code",
   "execution_count": 2,
   "id": "20758862-7096-465c-b24a-fd7db1574fcb",
   "metadata": {},
   "outputs": [],
   "source": [
    "# Symple python function\n",
    "def demo():\n",
    "    print('Data Analysis Class')"
   ]
  },
  {
   "cell_type": "code",
   "execution_count": 3,
   "id": "79557513-a4a9-4333-8019-08468c255164",
   "metadata": {},
   "outputs": [
    {
     "name": "stdout",
     "output_type": "stream",
     "text": [
      "Data Analysis Class\n"
     ]
    }
   ],
   "source": [
    "# Calling a function\n",
    "# Function can be called by writing the name of the function outside function body.\n",
    "\n",
    "demo()"
   ]
  },
  {
   "cell_type": "code",
   "execution_count": 4,
   "id": "afb15464-64a1-4b5d-ab07-68252cf7edc9",
   "metadata": {},
   "outputs": [
    {
     "name": "stdout",
     "output_type": "stream",
     "text": [
      "Data Analysis Class\n"
     ]
    }
   ],
   "source": [
    "# Python function syntax with Parameters\n",
    "def demo(text):\n",
    "    print(text)\n",
    "\n",
    "demo('Data Analysis Class')"
   ]
  },
  {
   "cell_type": "code",
   "execution_count": 5,
   "id": "79d22706-e215-4738-b441-fc0ab17b1b5f",
   "metadata": {},
   "outputs": [
    {
     "name": "stdout",
     "output_type": "stream",
     "text": [
      "3\n"
     ]
    }
   ],
   "source": [
    "# Add Two Numbers\n",
    "\n",
    "def demo(num1,num2):\n",
    "    print(num1+num2)\n",
    "\n",
    "demo(1,2)"
   ]
  },
  {
   "cell_type": "code",
   "execution_count": 21,
   "id": "4dedb9a3-256d-408e-a5e1-5b08a019b5d8",
   "metadata": {},
   "outputs": [
    {
     "name": "stdout",
     "output_type": "stream",
     "text": [
      "7\n"
     ]
    }
   ],
   "source": [
    "# 2nd method\n",
    "\n",
    "def demo(num1: int, num2: int):\n",
    "    num3 = num1+num2\n",
    "    print(num3)\n",
    "\n",
    "demo(4,3)"
   ]
  },
  {
   "cell_type": "code",
   "execution_count": 24,
   "id": "be232e01-10bb-43a7-a059-e1c172e86b9a",
   "metadata": {},
   "outputs": [
    {
     "data": {
      "text/plain": [
       "47"
      ]
     },
     "execution_count": 24,
     "metadata": {},
     "output_type": "execute_result"
    }
   ],
   "source": [
    "# 3rd method\n",
    "\n",
    "def demo(num1, num2):\n",
    "    num3 = num1 + num2\n",
    "    return num3\n",
    "\n",
    "num1 , num2 = 45 , 2\n",
    "demo(num1, num2)"
   ]
  },
  {
   "cell_type": "code",
   "execution_count": 25,
   "id": "3d52667e-ec18-4a16-9055-fa2ab3b1c8c6",
   "metadata": {},
   "outputs": [
    {
     "data": {
      "text/plain": [
       "67"
      ]
     },
     "execution_count": 25,
     "metadata": {},
     "output_type": "execute_result"
    }
   ],
   "source": [
    "# 4th method\n",
    "\n",
    "def demo(num1, num2):\n",
    "    num3 = num1 + num2\n",
    "    return num3\n",
    "\n",
    "num4 , num5 = 45 , 22\n",
    "demo(num4, num5)"
   ]
  },
  {
   "cell_type": "code",
   "execution_count": 31,
   "id": "59fa6645-155d-48fd-a7a6-94bdd241eba5",
   "metadata": {},
   "outputs": [
    {
     "name": "stdout",
     "output_type": "stream",
     "text": [
      "67\n"
     ]
    }
   ],
   "source": [
    "# 5th method\n",
    "\n",
    "def demoo(num1, num2):\n",
    "    num3 = num1 + num2\n",
    "    return num3\n",
    "\n",
    "num4 , num5 = 42 , 25\n",
    "ans = demoo(num4, num5)\n",
    "print(ans)"
   ]
  },
  {
   "cell_type": "code",
   "execution_count": 38,
   "id": "c28fccda-7f7f-4fd5-b9a9-0b264c1ab13b",
   "metadata": {},
   "outputs": [
    {
     "name": "stdout",
     "output_type": "stream",
     "text": [
      "The addition of 44 and 25 results 69.\n"
     ]
    }
   ],
   "source": [
    "def demoo(num1, num2):\n",
    "    num3 = num1 + num2\n",
    "    return num3\n",
    "\n",
    "num4 , num5 = 44 , 25\n",
    "ans = demoo(num4, num5)\n",
    "print(f\"The addition of {num4} and {num5} results {ans}.\")"
   ]
  },
  {
   "cell_type": "code",
   "execution_count": 39,
   "id": "5cc6dbed-d328-49f7-a657-89e2e468a1c6",
   "metadata": {},
   "outputs": [],
   "source": [
    "# Try yourself again at this examples"
   ]
  },
  {
   "cell_type": "code",
   "execution_count": null,
   "id": "e3bf087c-68c9-48c8-a742-dcc597513e03",
   "metadata": {},
   "outputs": [],
   "source": []
  }
 ],
 "metadata": {
  "kernelspec": {
   "display_name": "Python 3 (ipykernel)",
   "language": "python",
   "name": "python3"
  },
  "language_info": {
   "codemirror_mode": {
    "name": "ipython",
    "version": 3
   },
   "file_extension": ".py",
   "mimetype": "text/x-python",
   "name": "python",
   "nbconvert_exporter": "python",
   "pygments_lexer": "ipython3",
   "version": "3.11.7"
  }
 },
 "nbformat": 4,
 "nbformat_minor": 5
}
