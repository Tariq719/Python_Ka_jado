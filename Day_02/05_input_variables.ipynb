{
 "cells": [
  {
   "cell_type": "markdown",
   "id": "68d06c64-4510-4f40-b7c3-fcaa753954a1",
   "metadata": {},
   "source": [
    "#### input variables"
   ]
  },
  {
   "cell_type": "code",
   "execution_count": 1,
   "id": "6367cc5d-9f96-4a2a-ad9d-3cc6dac756b8",
   "metadata": {},
   "outputs": [
    {
     "name": "stdout",
     "output_type": "stream",
     "text": [
      "Tariq Nawaz teach us about  Data Analysis\n"
     ]
    }
   ],
   "source": [
    "# as I have tell in previous topic about variable that it store data and we have tried.. just see the previous section\n",
    "\n",
    "name = 'Tariq Nawaz'\n",
    "topic = 'Data Analysis'\n",
    "\n",
    "print(name, 'teach us about ', topic)"
   ]
  },
  {
   "cell_type": "code",
   "execution_count": 4,
   "id": "9e2159a8-fecd-4064-bc3b-17283ad216d1",
   "metadata": {},
   "outputs": [
    {
     "name": "stdin",
     "output_type": "stream",
     "text": [
      "What is Your Name: Tariq Nawaz\n",
      "Whic topic do you teach: Data Analysis\n"
     ]
    },
    {
     "name": "stdout",
     "output_type": "stream",
     "text": [
      "Tariq Nawaz teach us about Data Analysis\n"
     ]
    }
   ],
   "source": [
    "# As in the above example 'name' and 'topic' variables have alrady assigned values during initilization\n",
    "\n",
    "# Now we will learn that how to put data run time.\n",
    "\n",
    "name = input('What is Your Name:')\n",
    "topic = input('Whic topic do you teach:')\n",
    "\n",
    "print(name,'teach us about',topic)"
   ]
  },
  {
   "cell_type": "code",
   "execution_count": null,
   "id": "72bdbcb5-13a3-4f36-97e9-a5f6d85128aa",
   "metadata": {},
   "outputs": [],
   "source": []
  }
 ],
 "metadata": {
  "kernelspec": {
   "display_name": "Python 3 (ipykernel)",
   "language": "python",
   "name": "python3"
  },
  "language_info": {
   "codemirror_mode": {
    "name": "ipython",
    "version": 3
   },
   "file_extension": ".py",
   "mimetype": "text/x-python",
   "name": "python",
   "nbconvert_exporter": "python",
   "pygments_lexer": "ipython3",
   "version": "3.11.7"
  }
 },
 "nbformat": 4,
 "nbformat_minor": 5
}
