{
 "cells": [
  {
   "cell_type": "markdown",
   "id": "e3bd8369-68a0-41e4-96c0-e493c3a485c3",
   "metadata": {},
   "source": [
    "#### Logical Operators/ Conditional Operator/ Conditional Logics"
   ]
  },
  {
   "cell_type": "markdown",
   "id": "aae882fd-3330-4377-91bb-0519b91615ec",
   "metadata": {},
   "source": [
    "##### There are several operators in pythone\n",
    "* Logical Operators are either ('True' or 'False', 'yes' or 'No', '1' or '0')\n",
    "*  Equal to operators           ( ==  )\n",
    "*  Not Equal to operator        ( !=  )\n",
    "*  Less than                    ( <   )\n",
    "*  Greater than                 (  >  )\n",
    "*  Less than or equal to        (  <= )\n",
    "*  Greater than or equal to     (  >= )"
   ]
  },
  {
   "cell_type": "code",
   "execution_count": 3,
   "id": "7e9290d9-6fac-44b7-ab90-6fcab8c8a1f9",
   "metadata": {},
   "outputs": [
    {
     "name": "stdout",
     "output_type": "stream",
     "text": [
      "True\n",
      "False\n"
     ]
    }
   ],
   "source": [
    "# Equal to Operator (True of False)\n",
    "\n",
    "print(4==4) # It will print 'True'\n",
    "print(4==5) # It will print 'False'"
   ]
  },
  {
   "cell_type": "code",
   "execution_count": 4,
   "id": "6e186589-4ede-4c1f-8749-160fc459c9bc",
   "metadata": {},
   "outputs": [
    {
     "name": "stdout",
     "output_type": "stream",
     "text": [
      "False\n",
      "True\n"
     ]
    }
   ],
   "source": [
    "# Not Equal to Operator (True of False)\n",
    "\n",
    "print(4!=4)\n",
    "print(4!=5)"
   ]
  },
  {
   "cell_type": "code",
   "execution_count": 5,
   "id": "7d9e41d7-5778-46c9-9ae0-f755c2995b1d",
   "metadata": {},
   "outputs": [
    {
     "name": "stdout",
     "output_type": "stream",
     "text": [
      "False\n",
      "True\n"
     ]
    }
   ],
   "source": [
    "# Less than Operator (True of False)\n",
    "\n",
    "print(4<4)\n",
    "print(4<5)"
   ]
  },
  {
   "cell_type": "code",
   "execution_count": 6,
   "id": "c8d532a0-861a-4f17-a9af-0755b6645e91",
   "metadata": {},
   "outputs": [
    {
     "name": "stdout",
     "output_type": "stream",
     "text": [
      "False\n",
      "False\n"
     ]
    }
   ],
   "source": [
    "# Greater than Operator (True of False)\n",
    "\n",
    "print(4>4)\n",
    "print(4>5)"
   ]
  },
  {
   "cell_type": "code",
   "execution_count": 7,
   "id": "ef00c2ce-a2ab-40bb-b499-8b216de227f4",
   "metadata": {},
   "outputs": [
    {
     "name": "stdout",
     "output_type": "stream",
     "text": [
      "True\n",
      "True\n"
     ]
    }
   ],
   "source": [
    "# Less than or Equal to Operator (True of False)\n",
    "\n",
    "print(4<=4)\n",
    "print(4<=5)"
   ]
  },
  {
   "cell_type": "code",
   "execution_count": 8,
   "id": "d3697a1f-16d8-42eb-aa47-97dd7f88acf6",
   "metadata": {},
   "outputs": [
    {
     "name": "stdout",
     "output_type": "stream",
     "text": [
      "True\n",
      "False\n"
     ]
    }
   ],
   "source": [
    "# Greater than or Equal to Operator (True of False)\n",
    "\n",
    "print(4>=4)\n",
    "print(4>=5)"
   ]
  },
  {
   "cell_type": "markdown",
   "id": "cdf49e57-082d-4de2-a6a4-e86f17883b82",
   "metadata": {},
   "source": [
    "#### If_else Condition"
   ]
  },
  {
   "cell_type": "code",
   "execution_count": 11,
   "id": "6a415a33-5153-4d6e-b69d-5a51e9fc1a79",
   "metadata": {},
   "outputs": [
    {
     "name": "stdin",
     "output_type": "stream",
     "text": [
      "what is your age?  14\n"
     ]
    },
    {
     "name": "stdout",
     "output_type": "stream",
     "text": [
      "You are eligible for admission in 9th class\n"
     ]
    }
   ],
   "source": [
    "# Application of age for 9th class admission\n",
    "\n",
    "# there is one error, Please Note\n",
    "# I have correct the error in the next step but try yourself\n",
    "\n",
    "# age = input('what is your age? ')\n",
    "# admission_age = 14\n",
    "# if age >= admission_age:\n",
    "#     print('You are eligible for admission in 9th class')\n",
    "# else:\n",
    "#     print('You are not eligible for admission')"
   ]
  },
  {
   "cell_type": "code",
   "execution_count": 13,
   "id": "8d3992ff-cf86-4909-bf76-196ff7e2a539",
   "metadata": {},
   "outputs": [
    {
     "name": "stdin",
     "output_type": "stream",
     "text": [
      "what is your age?  12\n"
     ]
    },
    {
     "name": "stdout",
     "output_type": "stream",
     "text": [
      "You are not eligible for admission\n"
     ]
    }
   ],
   "source": [
    "age = int(input('what is your age? '))                   # put your year\n",
    "admission_age = 14                                       # conditional age for 9th class admission\n",
    "if age >= admission_age:                                 # if condition\n",
    "    print('You are eligible for admission in 9th class') # print function inside if condition\n",
    "else:                                                    # else statment\n",
    "    print('You are not eligible for admission')          # print function inside else statment"
   ]
  },
  {
   "cell_type": "code",
   "execution_count": null,
   "id": "10f17f5d-5769-45cc-adab-2ba7e0225101",
   "metadata": {},
   "outputs": [],
   "source": []
  }
 ],
 "metadata": {
  "kernelspec": {
   "display_name": "Python 3 (ipykernel)",
   "language": "python",
   "name": "python3"
  },
  "language_info": {
   "codemirror_mode": {
    "name": "ipython",
    "version": 3
   },
   "file_extension": ".py",
   "mimetype": "text/x-python",
   "name": "python",
   "nbconvert_exporter": "python",
   "pygments_lexer": "ipython3",
   "version": "3.11.7"
  }
 },
 "nbformat": 4,
 "nbformat_minor": 5
}
