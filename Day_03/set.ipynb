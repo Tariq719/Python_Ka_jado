{
 "cells": [
  {
   "cell_type": "markdown",
   "id": "6a79834e-727a-4bb8-917e-8e7c78e161ec",
   "metadata": {},
   "source": [
    "### Set\n",
    "> * ***Sets are used to store multiple items in a single variable.***\n",
    ">   \n",
    "> * A set is a collection which is unordered, unchangeable, and unindexed.\n",
    ">\n",
    "> ##### Note: *Set items are unchangeable, but you can remove items and add new item*s.."
   ]
  },
  {
   "cell_type": "markdown",
   "id": "40eec352-7cb5-4ebf-9041-1cc46308d360",
   "metadata": {},
   "source": [
    "### Set Methods\n",
    "\n",
    "***Add()***\n",
    ">   Adds an element to the set\n",
    "\n",
    "***clear()***\n",
    ">   Removes all the elements from the set\n",
    "\n",
    "***copy()***\n",
    ">   Returns a copy of the set\n",
    "\n",
    "***difference()***\n",
    ">   Returns a set containing the difference between two or more sets\n",
    "\n",
    "***discard()***\n",
    ">   Remove the specified item\n",
    "\n",
    "***intersection***\n",
    ">   Returns a set, that is the intersection of two other sets\n",
    "\n",
    "***pop()***\n",
    ">   Removes an element from the set\n",
    "\n",
    "***remove()***\n",
    ">   Removes the specified element\n",
    "\n",
    "***union()***\n",
    ">   Return a set containing the union of sets\n",
    "\n",
    "***update()***\n",
    ">   Update the set with the union of this set and others"
   ]
  },
  {
   "cell_type": "code",
   "execution_count": 1,
   "id": "4f6fd0c2-0af1-4be4-ac8e-b45a36d52393",
   "metadata": {},
   "outputs": [
    {
     "name": "stdout",
     "output_type": "stream",
     "text": [
      "{'afg', 'pak', 'ind'}\n",
      "<class 'set'>\n"
     ]
    }
   ],
   "source": [
    "# set style\n",
    "\n",
    "set1={'pak', 'ind', 'afg'}\n",
    "print(set1)\n",
    "print(type(set1))"
   ]
  },
  {
   "cell_type": "code",
   "execution_count": 6,
   "id": "13c6ca2c-d56f-413c-9680-f90044d23cfb",
   "metadata": {},
   "outputs": [
    {
     "name": "stdout",
     "output_type": "stream",
     "text": [
      "{'afg', 'bangal', 'pak', 'ind'}\n",
      "<class 'set'>\n"
     ]
    }
   ],
   "source": [
    "set2={'pak', 'ind', 'afg','bangal'}\n",
    "print(set2)\n",
    "print(type(set2))"
   ]
  },
  {
   "cell_type": "markdown",
   "id": "1f567cc3-32ca-4014-9a90-ed4baa70bd3f",
   "metadata": {},
   "source": [
    "### Unordered\n",
    "** **\n",
    "\n",
    "> ***unordered means that the items in a set do not have a defined order.***\n",
    "> \n",
    "> \n",
    "> ***Set items can appear in a different order every time you use them, and cannot be referred to by index or key.***\n",
    ">\n",
    "> *As we see in above example that everytime change its position*."
   ]
  },
  {
   "cell_type": "markdown",
   "id": "da6502ef-786e-4809-a2e4-3808fa957797",
   "metadata": {},
   "source": [
    "### Duplicate not allowed\n",
    "** **\n",
    "\n",
    "> ***Sets cannot have two items with the same value..***\n",
    "> \n"
   ]
  },
  {
   "cell_type": "code",
   "execution_count": 3,
   "id": "e000f145-5a34-4707-a768-b4b48170912b",
   "metadata": {},
   "outputs": [
    {
     "name": "stdout",
     "output_type": "stream",
     "text": [
      "{'cherry', 'apple', 'banana'}\n"
     ]
    }
   ],
   "source": [
    "thisset = {\"apple\", \"banana\", \"cherry\", \"apple\"}\n",
    "\n",
    "print(thisset)    # it will only print three values 'apple', 'banana', 'cherry' because 'apple' are duplicate and will print once"
   ]
  },
  {
   "cell_type": "code",
   "execution_count": 8,
   "id": "01fb33fe-2446-444d-b3a9-04b04ce3f0dd",
   "metadata": {},
   "outputs": [
    {
     "name": "stdout",
     "output_type": "stream",
     "text": [
      "{True, 2, 'apple', 'cherry', 'banana'}\n"
     ]
    }
   ],
   "source": [
    "thisset = {\"apple\", \"banana\", \"cherry\", \"banana\", True, 1, 2}\n",
    "\n",
    "print(thisset) # here 'True' and 1 have same means so only True will print\n"
   ]
  },
  {
   "cell_type": "markdown",
   "id": "a3cabe2c-0c98-4f36-82f8-b89f5178adaf",
   "metadata": {},
   "source": [
    "### Add Items\n",
    "\n",
    "> ***Once a set is created, you cannot change its items, but you can add new items.***\n",
    ">\n",
    "> ***To add one item to a set use the add() method.***\n",
    ">\n",
    "> ***To add items from another set into the current set, use the update() method.***."
   ]
  },
  {
   "cell_type": "code",
   "execution_count": 9,
   "id": "9f82b50b-f274-4e69-aa60-ec8ab226f46f",
   "metadata": {},
   "outputs": [
    {
     "name": "stdout",
     "output_type": "stream",
     "text": [
      "{'cherry', 'apple', 'orange', 'banana'}\n"
     ]
    }
   ],
   "source": [
    "thisset = {\"apple\", \"banana\", \"cherry\"}\n",
    "\n",
    "thisset.add(\"orange\")\n",
    "\n",
    "print(thisset)"
   ]
  },
  {
   "cell_type": "code",
   "execution_count": 10,
   "id": "07de2cf9-f81a-491b-94a6-fde146f28bff",
   "metadata": {},
   "outputs": [
    {
     "name": "stdout",
     "output_type": "stream",
     "text": [
      "{'apple', 'cherry', 'mango', 'pineapple', 'banana'}\n"
     ]
    }
   ],
   "source": [
    "thisset = {\"apple\", \"banana\", \"cherry\"}\n",
    "thisset2= {'pineapple', 'mango'}\n",
    "\n",
    "thisset.update(thisset2)\n",
    "\n",
    "print(thisset)"
   ]
  },
  {
   "cell_type": "markdown",
   "id": "243bda0f-3e12-4057-9c63-b157fc84d794",
   "metadata": {},
   "source": [
    "### Remove Item\n",
    "\n",
    "> ***To remove an item in a set, use the remove(), or the discard() method.***."
   ]
  },
  {
   "cell_type": "code",
   "execution_count": 15,
   "id": "8a5dd02c-bc15-44e0-b024-f950ec83ffdf",
   "metadata": {},
   "outputs": [
    {
     "name": "stdout",
     "output_type": "stream",
     "text": [
      "{'cherry', 'apple'}\n"
     ]
    }
   ],
   "source": [
    "# Remove method\n",
    "\n",
    "thisset = {\"apple\", \"banana\", \"cherry\"}\n",
    "\n",
    "thisset.remove(\"banana\")\n",
    "\n",
    "print(thisset)"
   ]
  },
  {
   "cell_type": "code",
   "execution_count": 16,
   "id": "1f5d3c06-4512-4d23-9906-eaef5ac6ed7c",
   "metadata": {},
   "outputs": [
    {
     "ename": "KeyError",
     "evalue": "'banana'",
     "output_type": "error",
     "traceback": [
      "\u001b[1;31m---------------------------------------------------------------------------\u001b[0m",
      "\u001b[1;31mKeyError\u001b[0m                                  Traceback (most recent call last)",
      "Cell \u001b[1;32mIn[16], line 6\u001b[0m\n\u001b[0;32m      1\u001b[0m \u001b[38;5;66;03m# Remove method\u001b[39;00m\n\u001b[0;32m      2\u001b[0m \u001b[38;5;66;03m# Note: If the item to remove does not exist, remove() will raise an error.\u001b[39;00m\n\u001b[0;32m      4\u001b[0m thisset \u001b[38;5;241m=\u001b[39m {\u001b[38;5;124m\"\u001b[39m\u001b[38;5;124mapple\u001b[39m\u001b[38;5;124m\"\u001b[39m, \u001b[38;5;124m\"\u001b[39m\u001b[38;5;124mcherry\u001b[39m\u001b[38;5;124m\"\u001b[39m}\n\u001b[1;32m----> 6\u001b[0m thisset\u001b[38;5;241m.\u001b[39mremove(\u001b[38;5;124m\"\u001b[39m\u001b[38;5;124mbanana\u001b[39m\u001b[38;5;124m\"\u001b[39m)\n\u001b[0;32m      8\u001b[0m \u001b[38;5;28mprint\u001b[39m(thisset)\n",
      "\u001b[1;31mKeyError\u001b[0m: 'banana'"
     ]
    }
   ],
   "source": [
    "# Remove method\n",
    "# Note: If the item to remove does not exist, remove() will raise an error.\n",
    "\n",
    "thisset = {\"apple\", \"cherry\"}\n",
    "\n",
    "thisset.remove(\"banana\")\n",
    "\n",
    "print(thisset)"
   ]
  },
  {
   "cell_type": "code",
   "execution_count": 18,
   "id": "4da6b4e8-51dc-42a2-9675-3e47fcd97e00",
   "metadata": {},
   "outputs": [
    {
     "name": "stdout",
     "output_type": "stream",
     "text": [
      "{'cherry', 'apple'}\n"
     ]
    }
   ],
   "source": [
    "# Discard method\n",
    "\n",
    "thisset = {\"apple\", \"banana\", \"cherry\"}\n",
    "\n",
    "thisset.discard(\"banana\")\n",
    "\n",
    "print(thisset)"
   ]
  },
  {
   "cell_type": "code",
   "execution_count": 1,
   "id": "39d9fd00-e1ff-4151-9aef-346ac6a46de9",
   "metadata": {},
   "outputs": [
    {
     "name": "stdout",
     "output_type": "stream",
     "text": [
      "{'apple', 'cherry'}\n"
     ]
    }
   ],
   "source": [
    "# Discard method\n",
    "# Note: If the item to remove does not exist, discard() will NOT raise an error.\n",
    "\n",
    "thisset = {\"apple\", \"cherry\"}\n",
    "\n",
    "thisset.discard(\"banana\")\n",
    "\n",
    "print(thisset)"
   ]
  },
  {
   "cell_type": "markdown",
   "id": "80d49e39-1398-4581-bc22-9c49e68b27ad",
   "metadata": {},
   "source": [
    "### Remove Item\n",
    "\n",
    "> ***You can also use the pop() method to remove an item,***\n",
    ">\n",
    "> ***but this method will remove a random item, so you cannot be sure what item that gets removed.***\n",
    ">\n",
    "> ***The return value of the pop() method is the removed item*****"
   ]
  },
  {
   "cell_type": "code",
   "execution_count": 1,
   "id": "eeca79e3-4c76-4632-89d1-08b748716a50",
   "metadata": {},
   "outputs": [
    {
     "name": "stdout",
     "output_type": "stream",
     "text": [
      "banana\n",
      "{'apple', 'cherry'}\n"
     ]
    }
   ],
   "source": [
    "thisset = {\"apple\", \"banana\", \"cherry\"}\n",
    "\n",
    "x = thisset.pop()\n",
    "\n",
    "print(x)\n",
    "\n",
    "print(thisset)"
   ]
  },
  {
   "cell_type": "markdown",
   "id": "f6c3b29b-7423-47c6-9f0a-c9f9ee1e6a66",
   "metadata": {},
   "source": [
    "> ***The clear() method empties the set:***"
   ]
  },
  {
   "cell_type": "code",
   "execution_count": 2,
   "id": "cfe23c95-86c0-4d8b-bebe-82e137c1bc0a",
   "metadata": {},
   "outputs": [
    {
     "name": "stdout",
     "output_type": "stream",
     "text": [
      "set()\n"
     ]
    }
   ],
   "source": [
    "thisset = {\"apple\", \"banana\", \"cherry\"}\n",
    "\n",
    "thisset.clear()\n",
    "\n",
    "print(thisset)"
   ]
  },
  {
   "cell_type": "markdown",
   "id": "0a0d2b03-3150-4ab9-b946-a69c8b4f488c",
   "metadata": {},
   "source": [
    "> ***The del keyword will delete the set completely:***"
   ]
  },
  {
   "cell_type": "code",
   "execution_count": 5,
   "id": "2d23622b-58bd-480c-bb44-3162586df0c1",
   "metadata": {},
   "outputs": [
    {
     "ename": "NameError",
     "evalue": "name 'thisset' is not defined",
     "output_type": "error",
     "traceback": [
      "\u001b[1;31m---------------------------------------------------------------------------\u001b[0m",
      "\u001b[1;31mNameError\u001b[0m                                 Traceback (most recent call last)",
      "Cell \u001b[1;32mIn[5], line 5\u001b[0m\n\u001b[0;32m      1\u001b[0m thisset \u001b[38;5;241m=\u001b[39m {\u001b[38;5;124m\"\u001b[39m\u001b[38;5;124mapple\u001b[39m\u001b[38;5;124m\"\u001b[39m, \u001b[38;5;124m\"\u001b[39m\u001b[38;5;124mbanana\u001b[39m\u001b[38;5;124m\"\u001b[39m, \u001b[38;5;124m\"\u001b[39m\u001b[38;5;124mcherry\u001b[39m\u001b[38;5;124m\"\u001b[39m}\n\u001b[0;32m      3\u001b[0m \u001b[38;5;28;01mdel\u001b[39;00m thisset\n\u001b[1;32m----> 5\u001b[0m \u001b[38;5;28mprint\u001b[39m(thisset)\n",
      "\u001b[1;31mNameError\u001b[0m: name 'thisset' is not defined"
     ]
    }
   ],
   "source": [
    "thisset = {\"apple\", \"banana\", \"cherry\"}\n",
    "\n",
    "del thisset\n",
    "\n",
    "print(thisset) # it will arise error because first the set is deleted after that we have called it. it means there is no set"
   ]
  },
  {
   "cell_type": "markdown",
   "id": "c8ed0c63-6ea1-4a3b-8803-0072b2e4fe47",
   "metadata": {},
   "source": [
    ".set)"
   ]
  },
  {
   "cell_type": "markdown",
   "id": "5f300ae4-0b60-4565-9576-52b6dbba3429",
   "metadata": {},
   "source": [
    "### Union\r\n",
    "> ***The union() method returns a new set with all items from both sets:***."
   ]
  },
  {
   "cell_type": "code",
   "execution_count": 6,
   "id": "c41a0cf5-f833-406e-9852-7375f433a702",
   "metadata": {},
   "outputs": [
    {
     "name": "stdout",
     "output_type": "stream",
     "text": [
      "{'c', 'b', 1, 2, 3, 'a'}\n"
     ]
    }
   ],
   "source": [
    "set1 = {\"a\", \"b\", \"c\"}\n",
    "set2 = {1, 2, 3}\n",
    "\n",
    "set3 = set1.union(set2)\n",
    "print(set3)"
   ]
  },
  {
   "cell_type": "markdown",
   "id": "43620226-a881-497f-9c2d-daa7a4212786",
   "metadata": {},
   "source": [
    "> ***You can use the | operator instead of the union() method, and you will get the same result.***"
   ]
  },
  {
   "cell_type": "code",
   "execution_count": 7,
   "id": "1167b616-f60e-4d0c-a76b-a51eb7e693d6",
   "metadata": {},
   "outputs": [
    {
     "name": "stdout",
     "output_type": "stream",
     "text": [
      "{'c', 'b', 1, 2, 3, 'a'}\n"
     ]
    }
   ],
   "source": [
    "set1 = {\"a\", \"b\", \"c\"}\n",
    "set2 = {1, 2, 3}\n",
    "\n",
    "set3 = set1 | set2\n",
    "print(set3)"
   ]
  },
  {
   "cell_type": "code",
   "execution_count": 8,
   "id": "7c5ca9c0-e5bb-469e-8028-111ca20d7701",
   "metadata": {},
   "outputs": [
    {
     "name": "stdout",
     "output_type": "stream",
     "text": [
      "{1, 2, 3, 'c', 'b', 'John', 'apple', 'bananas', 'Elena', 'a', 'cherry'}\n"
     ]
    }
   ],
   "source": [
    "# Join multiple set\n",
    "\n",
    "set1 = {\"a\", \"b\", \"c\"}\n",
    "set2 = {1, 2, 3}\n",
    "set3 = {\"John\", \"Elena\"}\n",
    "set4 = {\"apple\", \"bananas\", \"cherry\"}\n",
    "\n",
    "myset = set1.union(set2, set3, set4)\n",
    "print(myset)"
   ]
  },
  {
   "cell_type": "markdown",
   "id": "5d0eb36c-92e0-4b8c-aa83-3b0b0b18bce2",
   "metadata": {},
   "source": [
    "### Join a Set and a Tuple\n",
    "\n",
    "> ***The union() method allows you to join a set with other data types, like lists or tuples.***\n",
    ">\n",
    "> ***The result will be a set***\n",
    ">\n",
    "> *Note: The  | operator only allows you to join sets with sets, and not with other data types like you can with the  union() method.*"
   ]
  },
  {
   "cell_type": "code",
   "execution_count": 10,
   "id": "7d83c0fb-a3f0-4745-90df-4d912d9e08bc",
   "metadata": {},
   "outputs": [
    {
     "name": "stdout",
     "output_type": "stream",
     "text": [
      "{1, 2, 3, 'c', 'b', 'a'}\n",
      "<class 'set'>\n"
     ]
    }
   ],
   "source": [
    "x = {\"a\", \"b\", \"c\"}\n",
    "y = (1, 2, 3)\n",
    "\n",
    "z = x.union(y)\n",
    "print(z)\n",
    "print(type(z))"
   ]
  },
  {
   "cell_type": "markdown",
   "id": "99209965-632c-45ab-baff-444c8310d07e",
   "metadata": {},
   "source": [
    "### Update set:\n",
    "\n",
    "> ***The update() method inserts all items from one set into another.***\n",
    ">\n",
    "> ***The update() changes the original set, and does not return a new set.***\n",
    ">\n",
    "> *Note: Both union() and update() will exclude any duplicate items.*"
   ]
  },
  {
   "cell_type": "code",
   "execution_count": 14,
   "id": "3162b4fb-5026-4489-b66c-c2b5d97ab67f",
   "metadata": {},
   "outputs": [
    {
     "name": "stdout",
     "output_type": "stream",
     "text": [
      "{'c', 'b', 1, 2, 3, 'a'}\n"
     ]
    }
   ],
   "source": [
    "set1 = {\"a\", \"b\" , \"c\", \"b\"}  # Duplicate\n",
    "set2 = {1, 2, 3}\n",
    "\n",
    "set1.update(set2)\n",
    "print(set1)"
   ]
  },
  {
   "cell_type": "markdown",
   "id": "ab491438-f20e-4317-ad0a-d09ec41f6883",
   "metadata": {},
   "source": [
    "### Intersection\n",
    "\r",
    "> ***Keep ONLY the duplicate***\n",
    ">\n",
    "> ***The intersection() method will return a new set, that only contains the items that are present in both sets***."
   ]
  },
  {
   "cell_type": "code",
   "execution_count": 15,
   "id": "55ca613a-aee1-48c2-ada6-f0b475790211",
   "metadata": {},
   "outputs": [
    {
     "name": "stdout",
     "output_type": "stream",
     "text": [
      "{'apple'}\n"
     ]
    }
   ],
   "source": [
    "set1 = {\"apple\", \"banana\", \"cherry\"}\n",
    "set2 = {\"google\", \"microsoft\", \"apple\"}\n",
    "\n",
    "set3 = set1.intersection(set2)\n",
    "print(set3)"
   ]
  },
  {
   "cell_type": "code",
   "execution_count": 16,
   "id": "a9dd76ef-fb3a-416f-90de-4b04ed4f880b",
   "metadata": {},
   "outputs": [
    {
     "name": "stdout",
     "output_type": "stream",
     "text": [
      "{'apple'}\n"
     ]
    }
   ],
   "source": [
    "set1 = {\"apple\", \"banana\", \"cherry\"}\n",
    "set2 = {\"google\", \"microsoft\", \"apple\"}\n",
    "\n",
    "set3 = set1 & set2     # same work like intersection\n",
    "print(set3)"
   ]
  },
  {
   "cell_type": "markdown",
   "id": "fad2f6d8-fe08-453f-9c6b-0c5b01f8dacd",
   "metadata": {},
   "source": [
    "### Difference\n",
    "\n",
    "> ***The difference() method will return a new set that will contain only the items from the first set that are not present in the other set.***."
   ]
  },
  {
   "cell_type": "code",
   "execution_count": 17,
   "id": "46cdef53-115c-4ff9-b483-7e37457e9130",
   "metadata": {},
   "outputs": [
    {
     "name": "stdout",
     "output_type": "stream",
     "text": [
      "{'banana', 'cherry'}\n"
     ]
    }
   ],
   "source": [
    "set1 = {\"apple\", \"banana\", \"cherry\"}\n",
    "set2 = {\"google\", \"microsoft\", \"apple\"}\n",
    "\n",
    "set3 = set1.difference(set2)\n",
    "\n",
    "print(set3)"
   ]
  },
  {
   "cell_type": "code",
   "execution_count": null,
   "id": "15f6f1ed-5f04-4645-a0ce-20ed98da54d6",
   "metadata": {},
   "outputs": [],
   "source": []
  }
 ],
 "metadata": {
  "kernelspec": {
   "display_name": "Python 3 (ipykernel)",
   "language": "python",
   "name": "python3"
  },
  "language_info": {
   "codemirror_mode": {
    "name": "ipython",
    "version": 3
   },
   "file_extension": ".py",
   "mimetype": "text/x-python",
   "name": "python",
   "nbconvert_exporter": "python",
   "pygments_lexer": "ipython3",
   "version": "3.11.7"
  }
 },
 "nbformat": 4,
 "nbformat_minor": 5
}
