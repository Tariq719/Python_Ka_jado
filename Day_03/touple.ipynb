{
 "cells": [
  {
   "cell_type": "markdown",
   "id": "0e181249-71a7-4c5f-9e4d-057e6f47aa0e",
   "metadata": {},
   "source": [
    "### Tuple:\n",
    "\n",
    "*  Tuples are used to store multiple items in a single variabl\n",
    "*  A tuple is a collection which is ordered and unchangeable\n",
    "*  > **Unchangeable**: \n",
    "Tuples are unchangeable, meaning that we cannot change, add or remove items after the tuple has been created\n",
    "   > \n",
    "   > *But there is a workaround. You can convert the tuple into a list, change the list, and convert the list back into a tuple*.\n",
    "   >\n",
    "   > by **del** keywor we can delete a touple completly.\n",
    "*  Tuples are written with round brackets"
   ]
  },
  {
   "cell_type": "code",
   "execution_count": 2,
   "id": "79619242-95a7-4195-a14e-21110e76900f",
   "metadata": {},
   "outputs": [
    {
     "name": "stdout",
     "output_type": "stream",
     "text": [
      "('Pakistan', 'India', 'UAE', 5)\n",
      "<class 'tuple'>\n"
     ]
    }
   ],
   "source": [
    "touple1=('Pakistan', 'India', 'UAE', 5)\n",
    "print(touple1)\n",
    "print(type(touple1))"
   ]
  },
  {
   "cell_type": "code",
   "execution_count": 3,
   "id": "db0c386c-5b1e-4c0b-b181-c6f8a1d2f311",
   "metadata": {},
   "outputs": [
    {
     "name": "stdout",
     "output_type": "stream",
     "text": [
      "Pakistan\n",
      "<class 'str'>\n"
     ]
    }
   ],
   "source": [
    "# If we create touple with one element then\n",
    "\n",
    "touple2=('Pakistan')\n",
    "print(touple2)\n",
    "print(type(touple2))"
   ]
  },
  {
   "cell_type": "code",
   "execution_count": 4,
   "id": "9e30156b-7550-423c-a51a-186f022ac73a",
   "metadata": {},
   "outputs": [
    {
     "name": "stdout",
     "output_type": "stream",
     "text": [
      "('Pakistan',)\n",
      "<class 'tuple'>\n"
     ]
    }
   ],
   "source": [
    "# as we see above that it is string\n",
    "# So when we create touple then we will must put comma after first element if we put only one element as like below:\n",
    "\n",
    "touple2=('Pakistan',)\n",
    "print(touple2)\n",
    "print(type(touple2))"
   ]
  },
  {
   "cell_type": "markdown",
   "id": "3c04aabd-238e-4b89-8b48-2e3b2548a8f4",
   "metadata": {},
   "source": [
    "### Access of the items of touple are same as like the list like we have learnt in previous lecture\n",
    "\n"
   ]
  },
  {
   "cell_type": "markdown",
   "id": "651caa32-23ac-42f7-97cf-2d804bd6ebfc",
   "metadata": {},
   "source": [
    "> **unpacking touple:**\n",
    "> * When we create a tuple, we normally assign values to it. This is called \"packing\" a tuple:\n",
    ">\n",
    "> * But, in Python, we are also allowed to extract the values back into variables. This is called \"unpacking\":"
   ]
  },
  {
   "cell_type": "code",
   "execution_count": 7,
   "id": "0143c126-58f4-4889-8258-3dd65251837c",
   "metadata": {},
   "outputs": [
    {
     "name": "stdout",
     "output_type": "stream",
     "text": [
      "apple\n",
      "banana\n",
      "cherry\n"
     ]
    }
   ],
   "source": [
    "fruits = (\"apple\", \"banana\", \"cherry\")\n",
    "\n",
    "(green, yellow, red) = fruits\n",
    "\n",
    "print(green) # green , yellow and red are variables\n",
    "print(yellow) \n",
    "print(red)"
   ]
  },
  {
   "cell_type": "markdown",
   "id": "8dce150f-5309-44d0-84f8-f4180c9c6224",
   "metadata": {},
   "source": [
    "> **Using Asterisk** *\n",
    ">\n",
    "> * If the number of variables is less than the number of values, you can add an * to the variable name and the values will be assigned to the variable as a list:"
   ]
  },
  {
   "cell_type": "code",
   "execution_count": 8,
   "id": "37d47f54-67b9-450b-ae8f-2cb64dd6c6cf",
   "metadata": {},
   "outputs": [
    {
     "name": "stdout",
     "output_type": "stream",
     "text": [
      "apple\n",
      "banana\n",
      "['cherry', 'strawberry', 'raspberry']\n"
     ]
    }
   ],
   "source": [
    "fruits = (\"apple\", \"banana\", \"cherry\", \"strawberry\", \"raspberry\")\n",
    "\n",
    "(green, yellow, *red) = fruits      # there are only three variables but values are 5. so the last three values will add to the variable 'red' as a list\n",
    "\n",
    "print(green)\n",
    "print(yellow)\n",
    "print(red)"
   ]
  },
  {
   "cell_type": "markdown",
   "id": "84750b3a-6563-49d4-9525-cc71a23bbfc1",
   "metadata": {},
   "source": [
    "> **If the asterisk is added to another variable name than the last**,\n",
    ">\n",
    "> Python will assign values to the variable until the number of values left matches the number of variables left."
   ]
  },
  {
   "cell_type": "code",
   "execution_count": 9,
   "id": "4ebf9d9a-0c22-467e-b886-95d502c331ab",
   "metadata": {},
   "outputs": [
    {
     "name": "stdout",
     "output_type": "stream",
     "text": [
      "apple\n",
      "['mango', 'papaya', 'pineapple']\n",
      "cherry\n"
     ]
    }
   ],
   "source": [
    "fruits = (\"apple\", \"mango\", \"papaya\", \"pineapple\", \"cherry\")\n",
    "\n",
    "(green, *tropic, red) = fruits\n",
    "\n",
    "print(green)\n",
    "print(tropic)\n",
    "print(red)"
   ]
  },
  {
   "cell_type": "markdown",
   "id": "0beca3c2-88bc-4c0c-ac45-db91547ad83e",
   "metadata": {},
   "source": [
    "### Practice more and more to learn something more"
   ]
  },
  {
   "cell_type": "code",
   "execution_count": null,
   "id": "ae2b504b-364c-45e8-bf13-d3b389022f1d",
   "metadata": {},
   "outputs": [],
   "source": []
  }
 ],
 "metadata": {
  "kernelspec": {
   "display_name": "Python 3 (ipykernel)",
   "language": "python",
   "name": "python3"
  },
  "language_info": {
   "codemirror_mode": {
    "name": "ipython",
    "version": 3
   },
   "file_extension": ".py",
   "mimetype": "text/x-python",
   "name": "python",
   "nbconvert_exporter": "python",
   "pygments_lexer": "ipython3",
   "version": "3.11.7"
  }
 },
 "nbformat": 4,
 "nbformat_minor": 5
}
