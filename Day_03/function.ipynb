{
 "cells": [
  {
   "cell_type": "markdown",
   "id": "00a8d0a2-34b3-4803-90c9-38ff3e3a6bc5",
   "metadata": {},
   "source": [
    "### Function:\n",
    "\n",
    "> ***A function is a block of code which only runs when it is called.***\n",
    ">\n",
    "> **Creating Function**\n",
    "> > In Python a function is defined using the ***def*** keyword:"
   ]
  },
  {
   "cell_type": "code",
   "execution_count": 1,
   "id": "3e2cf290-8485-4ad4-af03-8d9121288d1c",
   "metadata": {},
   "outputs": [
    {
     "name": "stdout",
     "output_type": "stream",
     "text": [
      "Hello from a function\n"
     ]
    }
   ],
   "source": [
    "def my_function():                  # Function definition\n",
    "  print(\"Hello from a function\")\n",
    "\n",
    "my_function()                       # Calling Function"
   ]
  },
  {
   "cell_type": "markdown",
   "id": "f41b13ca-0317-402f-8a81-dc1b8c70e260",
   "metadata": {},
   "source": [
    "### Parameters or Arguments?"
   ]
  },
  {
   "cell_type": "markdown",
   "id": "955f2f0d-d8cd-4213-8dae-d8ce25d500b4",
   "metadata": {},
   "source": [
    "###### The terms parameter and argument can be used for the same thing: information that are passed into a function..\n",
    "\n",
    "> From a function prospective:\n",
    ">\n",
    "> ***A parameter is the variable listed inside the parentheses in the function definition.***\n",
    ">\n",
    "> ***An argument is the value that is sent to the function when it is called.***\n",
    ">\n",
    "> *If you call function then number of arguments will not more and not less then the number of parameters*"
   ]
  },
  {
   "cell_type": "code",
   "execution_count": 2,
   "id": "c10f7aa1-facf-43ba-bf8a-43fd3227cb45",
   "metadata": {},
   "outputs": [
    {
     "name": "stdout",
     "output_type": "stream",
     "text": [
      "Data Analysis Course\n"
     ]
    }
   ],
   "source": [
    "# Number of arguments will equal to number of parameters\n",
    "\n",
    "def my_function(fname, lname):      # Parameters\n",
    "  print(fname + \" \" + lname)\n",
    "\n",
    "my_function(\"Data Analysis\", \"Course\")      # Arguments"
   ]
  },
  {
   "cell_type": "code",
   "execution_count": 3,
   "id": "ce9af4c7-fc0f-402a-9cd4-9c7e7121cdd8",
   "metadata": {},
   "outputs": [
    {
     "ename": "TypeError",
     "evalue": "my_function() missing 1 required positional argument: 'lname'",
     "output_type": "error",
     "traceback": [
      "\u001b[1;31m---------------------------------------------------------------------------\u001b[0m",
      "\u001b[1;31mTypeError\u001b[0m                                 Traceback (most recent call last)",
      "Cell \u001b[1;32mIn[3], line 7\u001b[0m\n\u001b[0;32m      4\u001b[0m \u001b[38;5;28;01mdef\u001b[39;00m \u001b[38;5;21mmy_function\u001b[39m(fname, lname):      \n\u001b[0;32m      5\u001b[0m   \u001b[38;5;28mprint\u001b[39m(fname \u001b[38;5;241m+\u001b[39m \u001b[38;5;124m\"\u001b[39m\u001b[38;5;124m \u001b[39m\u001b[38;5;124m\"\u001b[39m \u001b[38;5;241m+\u001b[39m lname)\n\u001b[1;32m----> 7\u001b[0m my_function(\u001b[38;5;124m\"\u001b[39m\u001b[38;5;124mCourse\u001b[39m\u001b[38;5;124m\"\u001b[39m)\n",
      "\u001b[1;31mTypeError\u001b[0m: my_function() missing 1 required positional argument: 'lname'"
     ]
    }
   ],
   "source": [
    "# If you try to call the function with 1 or 3 arguments, you will get an error:\n",
    "\n",
    "\n",
    "def my_function(fname, lname):      \n",
    "  print(fname + \" \" + lname)\n",
    "\n",
    "my_function(\"Course\")      # It will arise error"
   ]
  },
  {
   "cell_type": "markdown",
   "id": "81ba6ba8-9140-4216-8db6-ef290c8803e7",
   "metadata": {},
   "source": [
    "### Arbitrary Arguments, *args\n",
    "\n",
    "> *If you do not know how many arguments that will be passed into your function, add a * before the parameter name in the function definition.*"
   ]
  },
  {
   "cell_type": "code",
   "execution_count": 4,
   "id": "4f81ee00-eb7c-4141-967b-e09b51978f72",
   "metadata": {},
   "outputs": [
    {
     "name": "stdout",
     "output_type": "stream",
     "text": [
      "The youngest child is Ahmad\n"
     ]
    }
   ],
   "source": [
    "def my_function(*kids):\n",
    "  print(\"The youngest child is \" + kids[0])\n",
    "\n",
    "my_function(\"Ahmad\", \"Tobias\", \"Linus\")"
   ]
  },
  {
   "cell_type": "markdown",
   "id": "e09f1b68-2672-4ccf-bfb1-d9ec0832120e",
   "metadata": {},
   "source": [
    "### Keyword Arguments\n",
    "\n",
    "> **We can also send arguments with the key = value syntax.**\n",
    ">\n",
    "> **This way the order of the arguments does not matter.**"
   ]
  },
  {
   "cell_type": "code",
   "execution_count": 5,
   "id": "17060841-792d-461c-89cc-27d3f7c078a3",
   "metadata": {},
   "outputs": [
    {
     "name": "stdout",
     "output_type": "stream",
     "text": [
      "The youngest child is Tobias\n"
     ]
    }
   ],
   "source": [
    "def my_function(child3, child2, child1):\n",
    "  print(\"The youngest child is \" + child3)\n",
    "\n",
    "my_function(child2 = \"Emil\", child3 = \"Tobias\", child1 = \"Linus\")"
   ]
  },
  {
   "cell_type": "markdown",
   "id": "959e6ccc-8e71-4edb-b957-ab124c5f5bff",
   "metadata": {},
   "source": [
    "### Arbitrary Keyword Arguments, **kwargs\n",
    "\n",
    "> ***If you do not know how many keyword arguments that will be passed into your function, add two asterisk: ** before the parameter name in the function definition.***\n",
    ">\n",
    "> ***This way the function will receive a dictionary of arguments, and can access the items accordingly:***"
   ]
  },
  {
   "cell_type": "code",
   "execution_count": 6,
   "id": "edaee3d5-8a28-4acc-bf60-88aa75b062b5",
   "metadata": {},
   "outputs": [
    {
     "name": "stdout",
     "output_type": "stream",
     "text": [
      "His last name is Refsnes\n"
     ]
    }
   ],
   "source": [
    "def my_function(**kid):\n",
    "  print(\"His last name is \" + kid[\"lname\"])\n",
    "\n",
    "my_function(fname = \"Tobias\", lname = \"Refsnes\")"
   ]
  },
  {
   "cell_type": "markdown",
   "id": "27c55ac5-e842-4164-87cf-ccba83585dcb",
   "metadata": {},
   "source": [
    "### Default Parameter Value\n",
    "\n",
    "> ***The following example shows how to use a default parameter value***\n",
    ">\n",
    "> ***If we call the function without argument, it uses the default value:***"
   ]
  },
  {
   "cell_type": "code",
   "execution_count": 7,
   "id": "78af3ec1-deb7-487b-a906-fe43e391bd58",
   "metadata": {},
   "outputs": [
    {
     "name": "stdout",
     "output_type": "stream",
     "text": [
      "I am from Sweden\n",
      "I am from India\n",
      "I am from Pakistan\n"
     ]
    }
   ],
   "source": [
    "def my_function(country = \"Pakistan\"):\n",
    "  print(\"I am from \" + country)\n",
    "\n",
    "my_function(\"Sweden\")\n",
    "my_function(\"India\")\n",
    "my_function()"
   ]
  },
  {
   "cell_type": "markdown",
   "id": "990632cd-4a0d-4992-b95d-4a7f202da4bd",
   "metadata": {},
   "source": [
    "#### Passing List as an Arguments:"
   ]
  },
  {
   "cell_type": "code",
   "execution_count": 8,
   "id": "515901ef-f4f6-4de2-8428-e1586112bd9b",
   "metadata": {},
   "outputs": [
    {
     "name": "stdout",
     "output_type": "stream",
     "text": [
      "apple\n",
      "banana\n",
      "cherry\n"
     ]
    }
   ],
   "source": [
    "def my_function(food):\n",
    "  for x in food:\n",
    "    print(x)\n",
    "\n",
    "fruits = [\"apple\", \"banana\", \"cherry\"]\n",
    "\n",
    "my_function(fruits)"
   ]
  },
  {
   "cell_type": "markdown",
   "id": "9eb2a77b-3deb-4cff-8823-8c5d0a71a75a",
   "metadata": {},
   "source": [
    "#### Return Values"
   ]
  },
  {
   "cell_type": "code",
   "execution_count": 9,
   "id": "d6f2a8fb-dcf3-4b28-ba78-e02197e252bb",
   "metadata": {},
   "outputs": [
    {
     "name": "stdout",
     "output_type": "stream",
     "text": [
      "15\n",
      "25\n",
      "45\n"
     ]
    }
   ],
   "source": [
    "def my_function(x):\n",
    "  return 5 * x\n",
    "\n",
    "print(my_function(3))\n",
    "print(my_function(5))\n",
    "print(my_function(9))"
   ]
  },
  {
   "cell_type": "markdown",
   "id": "175c00ff-c934-403f-bd25-db43e86e6bf0",
   "metadata": {},
   "source": [
    "### Results\n",
    "\n",
    "| Keyword-only argument | Positional-only argument |\n",
    "| :---: | :---: |\n",
    "| *Parameter Names are used to pass the argument during the function call.* | *Arguments are passed in the order of parameters. The order defined in the order function declaration.* |\n",
    "| Order of parameter Names can be changed to pass the argument(or values). | Order of values cannot be changed to avoid  the unexpected output. |\n",
    "| **Syntax** : – *function_Name(paramname=value,...)* | **Syntax** : – *function_Name(val1, val2, val3,....)* |   |"
   ]
  },
  {
   "cell_type": "markdown",
   "id": "527c798f-35c9-44f5-b912-5f248efa7ee2",
   "metadata": {},
   "source": [
    "> ***Keyword-only arguments*** mean whenever we pass the arguments(or value) by their parameter names at the time of calling the function in Python in which if you change the position of arguments then there will be no change in the output.\n",
    "> * ***Benefits of Keyword arguments:***\n",
    "> > *On using keyword arguments you will get the correct output because the order of argument doesn’t matter provided the logic of your code is correct. But in the case of positional arguments, you will get more than one output on changing the order of the arguments.*"
   ]
  },
  {
   "cell_type": "code",
   "execution_count": 14,
   "id": "b2788f9d-6243-4b8b-97df-645c1fdb97d9",
   "metadata": {},
   "outputs": [
    {
     "name": "stdout",
     "output_type": "stream",
     "text": [
      "Hi, I am Prince\n",
      "My age is  20\n",
      "Hi, I am Prince\n",
      "My age is  20\n"
     ]
    }
   ],
   "source": [
    "def nameAge(name, age):\n",
    "    print(\"Hi, I am\", name)\n",
    "    print(\"My age is \", age)\n",
    " \n",
    "nameAge(name=\"Prince\", age=20)\n",
    " \n",
    "nameAge(age=20, name=\"Prince\")"
   ]
  },
  {
   "cell_type": "markdown",
   "id": "4eed44f1-21c7-4785-8545-2bc740207d84",
   "metadata": {},
   "source": [
    "> ***Position-only*** arguments mean whenever we pass the arguments in the order we have defined function parameters in which if you change the argument position then you may get the unexpected output. We should use positional Arguments whenever we know the order of argument to be passed. So now, we will call the function by using the position-only arguments in two ways and In both cases, we will be getting different outputs from which one will be correct and another one will be incorrect."
   ]
  },
  {
   "cell_type": "code",
   "execution_count": 15,
   "id": "bce9ac5d-30bb-40f9-a222-0ae43d495cce",
   "metadata": {},
   "outputs": [
    {
     "name": "stdout",
     "output_type": "stream",
     "text": [
      "Case-1:\n",
      "Hi, I am Prince\n",
      "My age is  20\n",
      "\n",
      "Case-2:\n",
      "Hi, I am 20\n",
      "My age is  Prince\n"
     ]
    }
   ],
   "source": [
    "def nameAge(name, age):\n",
    "    print(\"Hi, I am\", name)\n",
    "    print(\"My age is \", age)\n",
    " \n",
    "# we will get correct output because argument is given in order\n",
    "print(\"Case-1:\")\n",
    "nameAge(\"Prince\", 20)\n",
    "# we will get incorrect output because argument is not in order\n",
    "print(\"\\nCase-2:\")\n",
    "nameAge(20, \"Prince\")"
   ]
  },
  {
   "cell_type": "code",
   "execution_count": 17,
   "id": "28255051-3822-49bb-bcb9-97de4153d5cf",
   "metadata": {},
   "outputs": [
    {
     "name": "stdout",
     "output_type": "stream",
     "text": [
      "Used Positional arguments: 10\n",
      "Used Positional arguments: -10\n"
     ]
    }
   ],
   "source": [
    "def minus(a, b):\n",
    "    return a - b\n",
    " \n",
    " \n",
    "a, b = 20, 10\n",
    "result1 = minus(a, b)\n",
    "print(\"Used Positional arguments:\", result1)\n",
    " \n",
    "# in the below code we will get incorrect output because\n",
    "# expected was (a-b) but we will be getting (b-a)\n",
    "# because of swapped position of value a and b\n",
    " \n",
    "result2 = minus(b, a)\n",
    "print(\"Used Positional arguments:\", result2)"
   ]
  },
  {
   "cell_type": "markdown",
   "id": "74e6d3ad-7e26-4605-9f79-66a31920838b",
   "metadata": {},
   "source": [
    "> *  \r\n",
    "<span style='color:Blue'> Note: We should use the positional argument if we know the order of arguments or before using read the function you use and know the order of arguments to be passed over there otherwise you can get the wrong output as you can see in above-explained example for positional Argument.  </span>"
   ]
  },
  {
   "cell_type": "markdown",
   "id": "1ecb7d1f-dd15-49f1-b019-dc20b51e168e",
   "metadata": {},
   "source": [
    "### Recursion:\n",
    "\n",
    "> *Any function that calls itself in its body repeatedly until a particular condition becomes false and the target task is done is called \"Recursive function\" and this procedure is called \"Recursion\".*"
   ]
  },
  {
   "cell_type": "code",
   "execution_count": 10,
   "id": "2d684536-01d4-4e63-b34a-d96214bd40df",
   "metadata": {},
   "outputs": [
    {
     "name": "stdin",
     "output_type": "stream",
     "text": [
      "Enter a Number 3\n"
     ]
    },
    {
     "name": "stdout",
     "output_type": "stream",
     "text": [
      "The Factorial of given Number 3 is 6\n"
     ]
    }
   ],
   "source": [
    "# Recursion\n",
    "\n",
    "def fact(num):\n",
    "    if num ==1:\n",
    "        return 1\n",
    "    else:\n",
    "        return (num * fact(num - 1))\n",
    "num=int(input('Enter a Number'))\n",
    "result = fact(num)\n",
    "print('The Factorial of given Number', num , 'is' , result)"
   ]
  },
  {
   "cell_type": "markdown",
   "id": "93e3a42d-e0b2-4b40-810f-804846e04d8d",
   "metadata": {},
   "source": [
    "![RECURSION_METHOD](recursion-in-python.PNG)"
   ]
  },
  {
   "cell_type": "markdown",
   "id": "8bb393a8-6287-429f-beff-17e71dd0177f",
   "metadata": {},
   "source": [
    "### Difference between Recursion & iteration(loop)\n",
    "> *A program is called recursive when an entity calls itself. A program is called iterative when there is a loop (or repetition).*"
   ]
  },
  {
   "cell_type": "code",
   "execution_count": 15,
   "id": "7b595df9-566f-44df-9000-141ff8de1c8a",
   "metadata": {},
   "outputs": [
    {
     "name": "stdout",
     "output_type": "stream",
     "text": [
      "Factorial of 3 using Recursion is: 6\n",
      "Factorial of 3 using Iteration is: 6\n"
     ]
    }
   ],
   "source": [
    "# ----- Recursion -----\n",
    "# method to find factorial of given number\n",
    "def factrec(n):\n",
    "\tif (n == 0):\n",
    "\t\treturn 1;\n",
    "\n",
    "\t# recursion call\n",
    "\treturn n * factrec(n - 1);\n",
    "\n",
    "# ----- Iteration -----\n",
    "# Method to find the factorial of a given number\n",
    "def factrec(n):\n",
    "\tres = 1;\n",
    "\n",
    "\t# using iteration\n",
    "\tfor i in range(2, n + 1):\n",
    "\t\tres *= i;\n",
    "\n",
    "\treturn res;\n",
    "\n",
    "# Driver method\n",
    "num = 3;\n",
    "print(\"Factorial of\",num,\"using Recursion is:\",\n",
    "\t\t\t\t\tfactrec(num));\n",
    "\n",
    "print(\"Factorial of\",num,\"using Iteration is:\",\n",
    "\t\t\t\t\tfactrec(num));\n",
    "\t\n",
    "# This code is contributed by mits"
   ]
  },
  {
   "cell_type": "markdown",
   "id": "ad96ae36-ba33-4a77-9e56-f13c0eff7b44",
   "metadata": {},
   "source": [
    "### Difference\n",
    "\n",
    "| Property | Recursion | Iteration |\n",
    "| :---: | :---: | :---: |\n",
    "| ***Definition*** | Function calls itself | A set of instructions repeatedly executed.|\n",
    "| ***Application*** | For functions. | For loops.|\n",
    "| ***Termination*** | Through base case, where there will be no function call. | When the termination condition for the iterator ceases to be satisfied.|\n",
    "| ***Usage*** | Used when code size needs to be small, and time complexity is not an issue. | Used when time complexity needs to be balanced against an expanded code size.|\n",
    "| ***Code Size*** | Smaller code size | Smaller code size|\n",
    "| ***Speed*** | Execution is slow since it has the overhead of maintaining and updating the stack. | Normally, it is faster than recursion as it doesn’t utilize the stack.|"
   ]
  },
  {
   "cell_type": "markdown",
   "id": "ab753ae7-b629-4caa-88b5-ce1120a613c8",
   "metadata": {},
   "source": [
    "### Fibonacci series:\n",
    "\n",
    "> *The first two numbers are 0 and 1. We keep adding the previous two elements to get the next number, and this sequence of numbers is called the Fibonacci series.*"
   ]
  },
  {
   "cell_type": "code",
   "execution_count": 31,
   "id": "e98b8997-adbf-4c38-9ccd-29513e739703",
   "metadata": {},
   "outputs": [
    {
     "name": "stdout",
     "output_type": "stream",
     "text": [
      "1, 2, 3, 5, 8, 13, 21, 34, 55, 89, \n"
     ]
    }
   ],
   "source": [
    "n = 10\n",
    "num1 = 0\n",
    "num2 = 1\n",
    "next_number = num2  \n",
    "count = 1\n",
    " \n",
    "while count <= n:\n",
    "    print(next_number, end=\", \")\n",
    "    count += 1\n",
    "    num1, num2 = num2, next_number\n",
    "    next_number = num1 + num2\n",
    "print()"
   ]
  },
  {
   "cell_type": "markdown",
   "id": "ec705275-5422-44d1-8bfb-f7ac38d981e8",
   "metadata": {},
   "source": [
    "![FIBONNACI](fibonnaci.png)"
   ]
  },
  {
   "cell_type": "code",
   "execution_count": null,
   "id": "40319ce5-f54a-47b9-830b-a31bfc2c42bc",
   "metadata": {},
   "outputs": [],
   "source": []
  }
 ],
 "metadata": {
  "kernelspec": {
   "display_name": "Python 3 (ipykernel)",
   "language": "python",
   "name": "python3"
  },
  "language_info": {
   "codemirror_mode": {
    "name": "ipython",
    "version": 3
   },
   "file_extension": ".py",
   "mimetype": "text/x-python",
   "name": "python",
   "nbconvert_exporter": "python",
   "pygments_lexer": "ipython3",
   "version": "3.11.7"
  }
 },
 "nbformat": 4,
 "nbformat_minor": 5
}
