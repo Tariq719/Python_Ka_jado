{
 "cells": [
  {
   "cell_type": "markdown",
   "id": "904b9041-fdff-4d32-be73-f11962ce00c4",
   "metadata": {},
   "source": [
    "## Built-in Data Types\n",
    "> ## List\n",
    "> > Lists are used to store multiple items in a single variable. Lists are created using square brackets\\\n",
    "> > List items are ordered, changeable, and allow duplicate values."
   ]
  },
  {
   "cell_type": "code",
   "execution_count": 3,
   "id": "1bbd9865-04f1-488d-af8c-e058cd60f790",
   "metadata": {},
   "outputs": [
    {
     "name": "stdout",
     "output_type": "stream",
     "text": [
      "[1, 2, 3, 4, 3, 4, 2, 'Bannu']\n"
     ]
    }
   ],
   "source": [
    "# list can be duplicated\n",
    "# List can contain different data types\n",
    "\n",
    "list1=[1,2,3,4,3,4,2, 'Bannu']\n",
    "\n",
    "print(list1)"
   ]
  },
  {
   "cell_type": "code",
   "execution_count": 4,
   "id": "bb970336-bd7c-4f43-b131-34256adc919b",
   "metadata": {},
   "outputs": [
    {
     "name": "stdout",
     "output_type": "stream",
     "text": [
      "8\n",
      "<class 'list'>\n"
     ]
    }
   ],
   "source": [
    "# How to find length of the list by using len() function\n",
    "\n",
    "print(len(list1))  # Length\n",
    "print(type(list1)) # Type"
   ]
  },
  {
   "cell_type": "code",
   "execution_count": 5,
   "id": "467cd9f9-6722-474d-935a-022d908ddf48",
   "metadata": {},
   "outputs": [
    {
     "data": {
      "text/plain": [
       "[1, 2, 3, 4, 3, 4, 2, 'Bannu']"
      ]
     },
     "execution_count": 5,
     "metadata": {},
     "output_type": "execute_result"
    }
   ],
   "source": [
    "# make list using the list Constructor list()\n",
    "\n",
    "list1 = list((1,2,3,4,3,4,2,'Bannu')) # using double rounded bracktes\n",
    "list1"
   ]
  },
  {
   "cell_type": "markdown",
   "id": "d68f7f33-cecd-43da-a2a9-4bb5264f79bc",
   "metadata": {},
   "source": [
    "## Access of items and Range of items"
   ]
  },
  {
   "cell_type": "code",
   "execution_count": 6,
   "id": "be0891a2-ad9a-4ac3-8a6e-686c39d29ecb",
   "metadata": {},
   "outputs": [
    {
     "data": {
      "text/plain": [
       "'Bannu'"
      ]
     },
     "execution_count": 6,
     "metadata": {},
     "output_type": "execute_result"
    }
   ],
   "source": [
    "# Access list item\n",
    "\n",
    "list1[7]"
   ]
  },
  {
   "cell_type": "code",
   "execution_count": 7,
   "id": "8ee56c91-9da6-498a-aa1b-092b6aaaae3f",
   "metadata": {},
   "outputs": [
    {
     "data": {
      "text/plain": [
       "[2, 3]"
      ]
     },
     "execution_count": 7,
     "metadata": {},
     "output_type": "execute_result"
    }
   ],
   "source": [
    "# we can access item between range\n",
    "# excluded the 2nd value means ('1' is included but '3' is excluded)\n",
    "\n",
    "list1[1:3]"
   ]
  },
  {
   "cell_type": "code",
   "execution_count": 8,
   "id": "c73d9322-8e24-45aa-8c96-94d36203d757",
   "metadata": {},
   "outputs": [
    {
     "data": {
      "text/plain": [
       "[3, 4, 3, 4, 2, 'Bannu']"
      ]
     },
     "execution_count": 8,
     "metadata": {},
     "output_type": "execute_result"
    }
   ],
   "source": [
    "# if we not write 2nd value then it means that print all value\n",
    "\n",
    "list1[2:]"
   ]
  },
  {
   "cell_type": "markdown",
   "id": "a3b7667b-b11c-4e33-a7cd-8d36a38b573e",
   "metadata": {},
   "source": [
    "## List of Nagative Indexing"
   ]
  },
  {
   "cell_type": "code",
   "execution_count": 9,
   "id": "99d31667-808b-4fc9-9727-9c7755cdcfe0",
   "metadata": {},
   "outputs": [
    {
     "name": "stdout",
     "output_type": "stream",
     "text": [
      "[1, 2, 3, 4, 3, 4, 2, 'Bannu']\n",
      "[1, 2, 3, 4, 3, 4, 2, 'Bannu']\n",
      "[3, 4, 2]\n",
      "[3, 4, 2, 'Bannu']\n"
     ]
    }
   ],
   "source": [
    "print(list1)         # print all values\n",
    "print(list1[-8:])    # print all values\n",
    "print(list1[-4:-1])  # print between -4 and -1\n",
    "print(list1[-4:])    # print all values after -4 means (-4,-3,-2,-1)\n"
   ]
  },
  {
   "cell_type": "markdown",
   "id": "9c6bb3bf-c448-4c24-9ddf-9eb565f66a59",
   "metadata": {},
   "source": [
    "## Change List Item"
   ]
  },
  {
   "cell_type": "code",
   "execution_count": 10,
   "id": "62a9a386-cb9d-423b-828a-11162385132f",
   "metadata": {},
   "outputs": [
    {
     "name": "stdout",
     "output_type": "stream",
     "text": [
      "[1, 2, 3, 4, 3, 4, 2, 'Bannu']\n"
     ]
    }
   ],
   "source": [
    "print(list1)"
   ]
  },
  {
   "cell_type": "code",
   "execution_count": 11,
   "id": "e1f1dc6f-4c67-4dc9-a591-7273ae05757c",
   "metadata": {},
   "outputs": [
    {
     "name": "stdout",
     "output_type": "stream",
     "text": [
      "[5, 2, 3, 4, 3, 4, 2, 'Bannu']\n"
     ]
    }
   ],
   "source": [
    "# Now to change value of first index means ( change '1' to '5')\n",
    "\n",
    "list1[0] = 5\n",
    "print(list1)"
   ]
  },
  {
   "cell_type": "code",
   "execution_count": 12,
   "id": "6109fa1a-e7b7-4dc2-97e0-ca8fc0cf427a",
   "metadata": {},
   "outputs": [
    {
     "name": "stdout",
     "output_type": "stream",
     "text": [
      "[5, 2, 3, 4, 3, 'Bannu', 'Karak', 'Lakki']\n"
     ]
    }
   ],
   "source": [
    "# Change range of values\n",
    "\n",
    "list1[5:] = ['Bannu', 'Karak', 'Lakki']\n",
    "print(list1)"
   ]
  },
  {
   "cell_type": "markdown",
   "id": "c7a1b75f-cdf8-4fde-8c56-c3521bfad17e",
   "metadata": {},
   "source": [
    "## Add list items\n",
    "> **append()**\tAdds an element at the end of the list\\\n",
    "> **append()**\tAdds an element at the end of the list\\\n",
    "> **clear()**\tRemoves all the elements from the lis\\\n",
    "> **copy()**\tReturns a copy of the list\\\n",
    "> **count()**\tReturns the number of elements with the specified vaslue\\\n",
    "> **extend()**\tAdd the elements of a list (or any iterable), to the end of the current list\\\n",
    "> **index()**\tReturns the index of the first element with the specified value\\\n",
    "> **insert()**\tAdds an element at the specified poition\\\n",
    "> **pop()**\tRemoves the element at the specified position\\\n",
    "> **remove()**\tRemoves the item with the specifid value\\\n",
    "> **reverse()**\tReverses the order of the list\\\n",
    "> **sort()**\tSorts the list the list"
   ]
  },
  {
   "cell_type": "code",
   "execution_count": 13,
   "id": "e9a24d8f-f24c-482d-a7cc-ed76eff5ba8b",
   "metadata": {},
   "outputs": [
    {
     "name": "stdout",
     "output_type": "stream",
     "text": [
      "[5, 2, 3, 4, 3, 'Bannu', 'Karak', 'Lakki', 'NWTD']\n"
     ]
    }
   ],
   "source": [
    "# Append\n",
    "\n",
    "list1.append('NWTD')\n",
    "print(list1)"
   ]
  },
  {
   "cell_type": "code",
   "execution_count": 14,
   "id": "1b84f78c-75fe-4514-ad64-dfd735fa64c3",
   "metadata": {},
   "outputs": [
    {
     "name": "stdout",
     "output_type": "stream",
     "text": [
      "[5, 2, 3, 4, 'DIK', 3, 'Bannu', 'Karak', 'Lakki', 'NWTD']\n"
     ]
    }
   ],
   "source": [
    "# insert()\n",
    "\n",
    "list1.insert(4,'DIK')\n",
    "print(list1)"
   ]
  },
  {
   "cell_type": "markdown",
   "id": "be5b684c-a16b-4748-95e7-60354302c4e6",
   "metadata": {},
   "source": [
    "## Extend list\n",
    "> Add new complete list items to the existing list"
   ]
  },
  {
   "cell_type": "code",
   "execution_count": 15,
   "id": "a60a86b2-3bd1-4005-be22-bdf9352af8ed",
   "metadata": {},
   "outputs": [
    {
     "name": "stdout",
     "output_type": "stream",
     "text": [
      "[5, 2, 3, 4, 'DIK', 3, 'Bannu', 'Karak', 'Lakki', 'NWTD', 'Peshawar', 'Kohat']\n"
     ]
    }
   ],
   "source": [
    "list2=['Peshawar','Kohat']\n",
    "\n",
    "list1.extend(list2)\n",
    "print(list1)"
   ]
  },
  {
   "cell_type": "markdown",
   "id": "7eeeee64-8d45-47a0-9f85-d1012780b38c",
   "metadata": {},
   "source": [
    "## Remove list items\n",
    "> * by list.remove()-->  it will remove the specific item but by 'value'\n",
    "> * by list.pop() --> it will remove the specific item but by 'index'\n",
    "> * by del () --> it will also remove specific item by index\n",
    "> * list.clear() --> it will clear the list items but the list name will not remove"
   ]
  },
  {
   "cell_type": "code",
   "execution_count": 16,
   "id": "2ab6392b-9e12-456f-9741-8892465b3cce",
   "metadata": {},
   "outputs": [
    {
     "name": "stdout",
     "output_type": "stream",
     "text": [
      "[5, 2, 3, 4, 'DIK', 3, 'Bannu', 'Karak', 'Lakki', 'NWTD', 'Peshawar', 'Kohat']\n"
     ]
    }
   ],
   "source": [
    "print(list1)"
   ]
  },
  {
   "cell_type": "code",
   "execution_count": 17,
   "id": "6f506e7e-cf4e-4935-ac9c-911453c7b43b",
   "metadata": {},
   "outputs": [
    {
     "name": "stdout",
     "output_type": "stream",
     "text": [
      "[5, 2, 3, 4, 3, 'Bannu', 'Karak', 'Lakki', 'NWTD', 'Peshawar', 'Kohat']\n"
     ]
    }
   ],
   "source": [
    "# remove()\n",
    "\n",
    "list1.remove('DIK') # it will remove 'DIK' if this word is not exist then will generate error\n",
    "print(list1)"
   ]
  },
  {
   "cell_type": "code",
   "execution_count": 18,
   "id": "0eb9435e-7df2-4539-b5d3-71c5c440e11e",
   "metadata": {},
   "outputs": [
    {
     "name": "stdout",
     "output_type": "stream",
     "text": [
      "[2, 3, 4, 3, 'Bannu', 'Karak', 'Lakki', 'NWTD', 'Peshawar', 'Kohat']\n"
     ]
    }
   ],
   "source": [
    "# pop()\n",
    "\n",
    "list1.pop(0) # it will remove the first item(value) from the list means(5 will removed)\n",
    "\n",
    "print(list1)"
   ]
  },
  {
   "cell_type": "code",
   "execution_count": 19,
   "id": "537b2db8-5348-4bb3-92cf-f5fe05db6f93",
   "metadata": {},
   "outputs": [
    {
     "name": "stdout",
     "output_type": "stream",
     "text": [
      "[3, 4, 3, 'Bannu', 'Karak', 'Lakki', 'NWTD', 'Peshawar', 'Kohat']\n"
     ]
    }
   ],
   "source": [
    "# del \n",
    "\n",
    "del list1[0] # it will remove the first value from the list means(2 will removed)\n",
    "print(list1)"
   ]
  },
  {
   "cell_type": "code",
   "execution_count": 20,
   "id": "67fb3e44-06d7-4402-b3bb-91971a405589",
   "metadata": {},
   "outputs": [
    {
     "name": "stdout",
     "output_type": "stream",
     "text": [
      "['Pak', 'Ind']\n",
      "[]\n"
     ]
    }
   ],
   "source": [
    "# clear()\n",
    "list3=['Pak', 'Ind']\n",
    "print(list3)\n",
    "\n",
    "list3.clear()  # it will clear the list3\n",
    "print(list3)"
   ]
  },
  {
   "cell_type": "markdown",
   "id": "a225402d-85e5-46ba-8860-5e476f43e08a",
   "metadata": {},
   "source": [
    "## Loop throug list"
   ]
  },
  {
   "cell_type": "code",
   "execution_count": 21,
   "id": "e8db5804-83b5-49b1-9ac1-25f427c70dec",
   "metadata": {},
   "outputs": [
    {
     "name": "stdout",
     "output_type": "stream",
     "text": [
      "3\n",
      "4\n",
      "3\n",
      "Bannu\n",
      "Karak\n",
      "Lakki\n",
      "NWTD\n",
      "Peshawar\n",
      "Kohat\n"
     ]
    }
   ],
   "source": [
    "for x in list1:\n",
    "    print(x)"
   ]
  },
  {
   "cell_type": "code",
   "execution_count": 22,
   "id": "9db870c2-edde-4d26-960d-c7af04d29f51",
   "metadata": {},
   "outputs": [
    {
     "name": "stdout",
     "output_type": "stream",
     "text": [
      "0\n",
      "1\n",
      "2\n",
      "3\n",
      "4\n",
      "5\n",
      "6\n",
      "7\n",
      "8\n"
     ]
    }
   ],
   "source": [
    "# To print the index number of the list\n",
    "\n",
    "for x in range(len(list1)):\n",
    "    print(x)"
   ]
  },
  {
   "cell_type": "code",
   "execution_count": 23,
   "id": "f2e478ce-73a0-41a4-ad76-b2d560e189e5",
   "metadata": {},
   "outputs": [
    {
     "name": "stdout",
     "output_type": "stream",
     "text": [
      "3\n",
      "4\n",
      "3\n",
      "Bannu\n",
      "Karak\n",
      "Lakki\n",
      "NWTD\n",
      "Peshawar\n",
      "Kohat\n"
     ]
    }
   ],
   "source": [
    "# To print the value of the list\n",
    "\n",
    "for x in range(len(list1)):\n",
    "    print(list1[x])"
   ]
  },
  {
   "cell_type": "code",
   "execution_count": 24,
   "id": "b520802f-afaf-4157-96c7-97b1f0b77abe",
   "metadata": {},
   "outputs": [
    {
     "name": "stdout",
     "output_type": "stream",
     "text": [
      "3\n",
      "4\n",
      "3\n",
      "Bannu\n",
      "Karak\n",
      "Lakki\n",
      "NWTD\n",
      "Peshawar\n",
      "Kohat\n"
     ]
    }
   ],
   "source": [
    "# getting length of list\n",
    "length = len(list1)\n",
    "  \n",
    "# Iterating the index\n",
    "# same as 'for i in range(len(list1))'\n",
    "for i in range(length):\n",
    "    print(list1[i])"
   ]
  },
  {
   "cell_type": "code",
   "execution_count": 25,
   "id": "562eb773-c838-4522-bee7-4e2018552aac",
   "metadata": {},
   "outputs": [
    {
     "name": "stdout",
     "output_type": "stream",
     "text": [
      "3\n",
      "4\n",
      "3\n",
      "Bannu\n",
      "Karak\n",
      "Lakki\n",
      "NWTD\n",
      "Peshawar\n",
      "Kohat\n"
     ]
    }
   ],
   "source": [
    "i = 0\n",
    "\n",
    "while i < len(list1):\n",
    "    print(list1[i])\n",
    "    i = i+1"
   ]
  },
  {
   "cell_type": "code",
   "execution_count": 26,
   "id": "e770bfa7-f1f3-4171-ae7d-da81d09d12bd",
   "metadata": {},
   "outputs": [
    {
     "name": "stdout",
     "output_type": "stream",
     "text": [
      "3\n",
      "4\n",
      "3\n",
      "Bannu\n",
      "Karak\n",
      "Lakki\n",
      "NWTD\n",
      "Peshawar\n",
      "Kohat\n"
     ]
    },
    {
     "data": {
      "text/plain": [
       "[None, None, None, None, None, None, None, None, None]"
      ]
     },
     "execution_count": 26,
     "metadata": {},
     "output_type": "execute_result"
    }
   ],
   "source": [
    "# List Comprehension method\n",
    "\n",
    "[print(y) for y in list1]"
   ]
  },
  {
   "cell_type": "code",
   "execution_count": 27,
   "id": "ccc37eac-8b50-4fa8-b6f4-5c34f84e7015",
   "metadata": {},
   "outputs": [
    {
     "name": "stdout",
     "output_type": "stream",
     "text": [
      "[1, 3, 5, 7, 9]\n"
     ]
    }
   ],
   "source": [
    "# Python3 code to iterate over a list\n",
    "list = [1, 3, 5, 7, 9]\n",
    "  \n",
    "# Using list comprehension\n",
    "lis=[i for i in list]\n",
    "print(lis)"
   ]
  },
  {
   "cell_type": "markdown",
   "id": "34e9575b-e16c-4af6-add4-c27ffa610bc3",
   "metadata": {},
   "source": [
    "> * Based on a list of fruits, you want a new list, containing only the fruits with the letter \"a\" in the name.\n",
    "\n",
    "> * Without list comprehension you will have to write a for statement with a conditional test inside:"
   ]
  },
  {
   "cell_type": "code",
   "execution_count": 28,
   "id": "c383062f-ff6e-45f2-b792-150bdf572be3",
   "metadata": {},
   "outputs": [
    {
     "name": "stdout",
     "output_type": "stream",
     "text": [
      "[]\n",
      "['apple', 'banana', 'mango']\n"
     ]
    }
   ],
   "source": [
    "fruits = [\"apple\", \"banana\", \"cherry\", \"kiwi\", \"mango\"]\n",
    "newlist = []\n",
    "print(newlist)\n",
    "for i in fruits:\n",
    "    if 'a' in i:\n",
    "        newlist.append(i)\n",
    "\n",
    "print(newlist)"
   ]
  },
  {
   "cell_type": "code",
   "execution_count": 29,
   "id": "477029c3-f11b-40a4-a810-e2c206c285a6",
   "metadata": {},
   "outputs": [
    {
     "name": "stdout",
     "output_type": "stream",
     "text": [
      "['apple', 'banana', 'mango']\n"
     ]
    }
   ],
   "source": [
    "# With list comprehension you can do all that with only one line of code:\n",
    "\n",
    "newlist=[x for x in fruits if 'a' in x]\n",
    "print(newlist)"
   ]
  },
  {
   "cell_type": "code",
   "execution_count": 30,
   "id": "2bdbe0ee-502a-477a-a5ee-bce5259408e6",
   "metadata": {},
   "outputs": [
    {
     "name": "stdout",
     "output_type": "stream",
     "text": [
      "['APPLE', 'BANANA', 'MANGO']\n"
     ]
    }
   ],
   "source": [
    "# Set the values in the new list to upper case:\n",
    "newlist=[x.upper() for x in fruits if 'a' in x]\n",
    "print(newlist)"
   ]
  },
  {
   "cell_type": "code",
   "execution_count": 31,
   "id": "f855f204-f7cd-44f4-8dcf-c29810d0da8e",
   "metadata": {},
   "outputs": [
    {
     "name": "stdout",
     "output_type": "stream",
     "text": [
      "['apple', 'orange', 'cherry', 'kiwi', 'mango']\n"
     ]
    }
   ],
   "source": [
    "# \"Return the item if it is not banana, if it is banana return orange\".\n",
    "\n",
    "newlist = [x if x != \"banana\" else \"orange\" for x in fruits]\n",
    "print(newlist)"
   ]
  },
  {
   "cell_type": "markdown",
   "id": "808704be-98af-4d15-902c-aeb0c8a0c5fe",
   "metadata": {},
   "source": [
    "## Sort the list\n",
    "> * Ascending order\n",
    "> * Descending order"
   ]
  },
  {
   "cell_type": "code",
   "execution_count": 32,
   "id": "32c4a331-424a-42ad-99c1-3f0214173fae",
   "metadata": {},
   "outputs": [
    {
     "name": "stdout",
     "output_type": "stream",
     "text": [
      "['apple', 'cherry', 'kiwi', 'mango', 'orange']\n"
     ]
    }
   ],
   "source": [
    "# Ascending order\n",
    "\n",
    "newlist.sort()\n",
    "print(newlist)"
   ]
  },
  {
   "cell_type": "code",
   "execution_count": 33,
   "id": "b4f9d468-7f0e-4fc5-90ff-31a6c48503fd",
   "metadata": {},
   "outputs": [
    {
     "name": "stdout",
     "output_type": "stream",
     "text": [
      "['orange', 'mango', 'kiwi', 'cherry', 'apple']\n"
     ]
    }
   ],
   "source": [
    "# Descending order\n",
    "\n",
    "newlist.sort(reverse = True)\n",
    "print(newlist)"
   ]
  },
  {
   "cell_type": "code",
   "execution_count": 34,
   "id": "778d62bc-38e0-4354-b8ae-db8cebb4a65d",
   "metadata": {},
   "outputs": [
    {
     "name": "stdout",
     "output_type": "stream",
     "text": [
      "['apple', 'cherry', 'kiwi', 'mango', 'orange']\n"
     ]
    }
   ],
   "source": [
    "newlist.reverse()\n",
    "print(newlist)"
   ]
  },
  {
   "cell_type": "markdown",
   "id": "9c5e97f8-21a1-459c-bd40-e4d32bf25ce3",
   "metadata": {},
   "source": [
    "## Copy list"
   ]
  },
  {
   "cell_type": "code",
   "execution_count": 35,
   "id": "93698005-129e-49c6-99e4-9ddbdb2cd579",
   "metadata": {},
   "outputs": [
    {
     "name": "stdout",
     "output_type": "stream",
     "text": [
      "['apple', 'cherry', 'kiwi', 'mango', 'orange']\n"
     ]
    }
   ],
   "source": [
    "# First Method\n",
    "\n",
    "newlist1=newlist.copy()\n",
    "\n",
    "print(newlist1)"
   ]
  },
  {
   "cell_type": "code",
   "execution_count": null,
   "id": "c2d84900-327c-403d-be91-77b7d2d11ca4",
   "metadata": {},
   "outputs": [],
   "source": []
  },
  {
   "cell_type": "code",
   "execution_count": 2,
   "id": "23b017fe-5391-4e5f-9d99-ecb499b41949",
   "metadata": {},
   "outputs": [
    {
     "name": "stdout",
     "output_type": "stream",
     "text": [
      "['apple', 'banana', 'cherry']\n"
     ]
    }
   ],
   "source": [
    "# 2nd method\n",
    "\n",
    "thislist = [\"apple\", \"banana\", \"cherry\"]\n",
    "mylist = list(thislist)\n",
    "print(mylist)"
   ]
  },
  {
   "cell_type": "code",
   "execution_count": null,
   "id": "13142aaa-9f83-4cc5-b3e3-28639ef412c2",
   "metadata": {},
   "outputs": [],
   "source": []
  },
  {
   "cell_type": "code",
   "execution_count": null,
   "id": "11e17c3a-10f3-4669-b7e1-a83d56156aa5",
   "metadata": {},
   "outputs": [],
   "source": []
  },
  {
   "cell_type": "code",
   "execution_count": null,
   "id": "caa6305b-11b2-4373-bfe0-e22656ddf994",
   "metadata": {},
   "outputs": [],
   "source": []
  },
  {
   "cell_type": "code",
   "execution_count": null,
   "id": "516b8b21-f292-4520-a25f-6dd0f3cbadab",
   "metadata": {},
   "outputs": [],
   "source": []
  }
 ],
 "metadata": {
  "kernelspec": {
   "display_name": "Python 3 (ipykernel)",
   "language": "python",
   "name": "python3"
  },
  "language_info": {
   "codemirror_mode": {
    "name": "ipython",
    "version": 3
   },
   "file_extension": ".py",
   "mimetype": "text/x-python",
   "name": "python",
   "nbconvert_exporter": "python",
   "pygments_lexer": "ipython3",
   "version": "3.11.7"
  }
 },
 "nbformat": 4,
 "nbformat_minor": 5
}
