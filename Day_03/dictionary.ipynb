{
 "cells": [
  {
   "cell_type": "markdown",
   "id": "af747c30-2c9c-454b-8c12-7c3edcd7244e",
   "metadata": {},
   "source": [
    "### Dictionary\n",
    "\n",
    "> ***Dictionaries are used to store data values in key:value pairs***\n",
    ">\n",
    "> ***A dictionary is a collection which is orderd, changeable and do not allow duplicates***"
   ]
  },
  {
   "cell_type": "code",
   "execution_count": 1,
   "id": "01a5c92b-1839-4244-a155-e0e86b9f5250",
   "metadata": {},
   "outputs": [
    {
     "name": "stdout",
     "output_type": "stream",
     "text": [
      "{'brand': 'Ford', 'model': 'Mustang', 'year': 1964}\n"
     ]
    }
   ],
   "source": [
    "thisdict = {\n",
    "  \"brand\": \"Ford\",\n",
    "  \"model\": \"Mustang\",\n",
    "  \"year\": 1964\n",
    "}\n",
    "print(thisdict)"
   ]
  },
  {
   "cell_type": "markdown",
   "id": "1d76ea51-9453-47a2-a05d-79e430b182e3",
   "metadata": {},
   "source": [
    "> **Ordered**\n",
    "> \n",
    ">> *As of Python version 3.7, dictionaries are ordered. In Python 3.6 and earlier, dictionaries are unordered.*\n",
    "\n",
    "\n",
    "> **Changeable**\n",
    "> \n",
    ">> *Dictionaries are changeable, meaning that we can change, add or remove items after the dictionary has been created.*\n",
    "\n",
    "> **Duplicates Not Allowed**\n",
    "> \n",
    ">> *Dictionaries cannot have two items with the same key:*"
   ]
  },
  {
   "cell_type": "code",
   "execution_count": 4,
   "id": "b64a15b1-f1a7-48ae-8053-8cab7e2e8bf3",
   "metadata": {},
   "outputs": [
    {
     "name": "stdout",
     "output_type": "stream",
     "text": [
      "{'brand': 'Ford', 'model': 'Mustang', 'year': 2020}\n",
      "3\n",
      "<class 'dict'>\n"
     ]
    }
   ],
   "source": [
    "thisdict = {\n",
    "  \"brand\": \"Ford\",\n",
    "  \"model\": \"Mustang\",\n",
    "  \"year\": 1964,\n",
    "  \"year\": 2020\n",
    "}\n",
    "print(thisdict)\n",
    "print(len(thisdict))\n",
    "print(type(thisdict))"
   ]
  },
  {
   "cell_type": "markdown",
   "id": "f987568f-8a2f-49b0-8185-e75e1bb3310b",
   "metadata": {},
   "source": [
    "### Accessing Item\n",
    "\n",
    "> ***We can access the items of a dictionary by referring to its key name, inside square brackets:***"
   ]
  },
  {
   "cell_type": "code",
   "execution_count": 5,
   "id": "e22467ab-3516-458a-93a9-c02911033338",
   "metadata": {},
   "outputs": [],
   "source": [
    "thisdict = {\n",
    "  \"brand\": \"Ford\",\n",
    "  \"model\": \"Mustang\",\n",
    "  \"year\": 1964\n",
    "}\n",
    "x = thisdict[\"model\"]"
   ]
  },
  {
   "cell_type": "markdown",
   "id": "e25d53a7-066a-41c5-bb2a-b35110410f89",
   "metadata": {},
   "source": [
    "***There is also a method called get() that will give you the same result:***"
   ]
  },
  {
   "cell_type": "code",
   "execution_count": 7,
   "id": "f8bd73ed-665e-4b74-b40e-0704db6fde16",
   "metadata": {},
   "outputs": [
    {
     "name": "stdout",
     "output_type": "stream",
     "text": [
      "Mustang\n"
     ]
    }
   ],
   "source": [
    "x = thisdict.get(\"model\")\n",
    "print(x)"
   ]
  },
  {
   "cell_type": "markdown",
   "id": "e36697a5-d8d8-4e2d-a882-a8ef61bc47b6",
   "metadata": {},
   "source": [
    "### Get Keys\n",
    "\n",
    "> ***The keys() method will return a list of all the keys in the dictionary.***\n",
    "."
   ]
  },
  {
   "cell_type": "code",
   "execution_count": 8,
   "id": "a93ef698-59f9-4b15-b05d-2cc13f5672ac",
   "metadata": {},
   "outputs": [
    {
     "name": "stdout",
     "output_type": "stream",
     "text": [
      "dict_keys(['brand', 'model', 'year'])\n"
     ]
    }
   ],
   "source": [
    "x = thisdict.keys()\n",
    "print(x)"
   ]
  },
  {
   "cell_type": "markdown",
   "id": "6c10c9e4-ddf4-4f43-8e12-d2a6c91cf38a",
   "metadata": {},
   "source": [
    "### Add a new item to the original dictionary, and see that the keys list gets updated as well:"
   ]
  },
  {
   "cell_type": "code",
   "execution_count": 9,
   "id": "4353d848-f9c9-4358-8a7a-eddf4f2be98b",
   "metadata": {},
   "outputs": [
    {
     "name": "stdout",
     "output_type": "stream",
     "text": [
      "dict_keys(['brand', 'model', 'year'])\n",
      "dict_keys(['brand', 'model', 'year', 'color'])\n"
     ]
    }
   ],
   "source": [
    "car = {\n",
    "\"brand\": \"Ford\",\n",
    "\"model\": \"Mustang\",\n",
    "\"year\": 1964\n",
    "}\n",
    "\n",
    "x = car.keys()\n",
    "\n",
    "print(x) #before the change\n",
    "\n",
    "car[\"color\"] = \"white\"\n",
    "\n",
    "print(x) #after the change"
   ]
  },
  {
   "cell_type": "markdown",
   "id": "3b6c0233-dc0d-4677-925d-fff25428f97b",
   "metadata": {},
   "source": [
    "### Get vlaues\n",
    "\n",
    "> ***The values() method will return a list of all the values in the dictionary.***"
   ]
  },
  {
   "cell_type": "code",
   "execution_count": 10,
   "id": "c25c9ee6-3f3d-40f4-8f6b-6c2d0c7e6ce1",
   "metadata": {},
   "outputs": [
    {
     "name": "stdout",
     "output_type": "stream",
     "text": [
      "dict_values(['Ford', 'Mustang', 1964])\n"
     ]
    }
   ],
   "source": [
    "x = thisdict.values()\n",
    "print(x)"
   ]
  },
  {
   "cell_type": "markdown",
   "id": "ab67ac27-5bb3-414b-b81b-db60a89d5fef",
   "metadata": {},
   "source": [
    "### Make a change in the original dictionary, and see that the values list gets updated as well:"
   ]
  },
  {
   "cell_type": "code",
   "execution_count": 11,
   "id": "0c03b442-a326-4717-b5fc-2fdf14a49073",
   "metadata": {},
   "outputs": [
    {
     "name": "stdout",
     "output_type": "stream",
     "text": [
      "dict_values(['Ford', 'Mustang', 1964])\n",
      "dict_values(['Ford', 'Mustang', 2020])\n"
     ]
    }
   ],
   "source": [
    "car = {\n",
    "\"brand\": \"Ford\",\n",
    "\"model\": \"Mustang\",\n",
    "\"year\": 1964\n",
    "}\n",
    "\n",
    "x = car.values()\n",
    "\n",
    "print(x) #before the change\n",
    "\n",
    "car[\"year\"] = 2020\n",
    "\n",
    "print(x) #after the change"
   ]
  },
  {
   "cell_type": "markdown",
   "id": "f8eee987-ed96-40cb-9872-e8de91d340ab",
   "metadata": {},
   "source": [
    "#### Add a new item to the original dictionary, and see that the values list gets updated as well:"
   ]
  },
  {
   "cell_type": "code",
   "execution_count": 12,
   "id": "4d14ca37-1c3b-44c8-a324-1d2e44ec2635",
   "metadata": {},
   "outputs": [
    {
     "name": "stdout",
     "output_type": "stream",
     "text": [
      "dict_values(['Ford', 'Mustang', 1964])\n",
      "dict_values(['Ford', 'Mustang', 1964, 'red'])\n"
     ]
    }
   ],
   "source": [
    "car = {\n",
    "\"brand\": \"Ford\",\n",
    "\"model\": \"Mustang\",\n",
    "\"year\": 1964\n",
    "}\n",
    "\n",
    "x = car.values()\n",
    "\n",
    "print(x) #before the change\n",
    "\n",
    "car[\"color\"] = \"red\"\n",
    "\n",
    "print(x) #after the change"
   ]
  },
  {
   "cell_type": "markdown",
   "id": "2901bbb9-418e-48c1-bbbc-b571a3aaf48e",
   "metadata": {},
   "source": [
    "### Get Items\n",
    "\n",
    "> *The items() method will return each item in a dictionary, as tuples in a list.*"
   ]
  },
  {
   "cell_type": "code",
   "execution_count": 13,
   "id": "cbb182b8-57ff-4fed-b5f5-d9c81d2163c8",
   "metadata": {},
   "outputs": [
    {
     "name": "stdout",
     "output_type": "stream",
     "text": [
      "dict_items([('brand', 'Ford'), ('model', 'Mustang'), ('year', 1964)])\n"
     ]
    }
   ],
   "source": [
    "x = thisdict.items()\n",
    "print(x)"
   ]
  },
  {
   "cell_type": "code",
   "execution_count": 14,
   "id": "a63156d7-6734-46e1-988a-f205cabc982c",
   "metadata": {},
   "outputs": [
    {
     "name": "stdout",
     "output_type": "stream",
     "text": [
      "dict_items([('brand', 'Ford'), ('model', 'Mustang'), ('year', 1964)])\n",
      "dict_items([('brand', 'Ford'), ('model', 'Mustang'), ('year', 2020)])\n"
     ]
    }
   ],
   "source": [
    "car = {\n",
    "\"brand\": \"Ford\",\n",
    "\"model\": \"Mustang\",\n",
    "\"year\": 1964\n",
    "}\n",
    "\n",
    "x = car.items()\n",
    "\n",
    "print(x) #before the change\n",
    "\n",
    "car[\"year\"] = 2020\n",
    "\n",
    "print(x) #after the change"
   ]
  },
  {
   "cell_type": "markdown",
   "id": "bab24277-73e8-40ff-9837-a8cd6eb36f93",
   "metadata": {},
   "source": [
    "### Removing items from dictionary"
   ]
  },
  {
   "cell_type": "markdown",
   "id": "50d06bd9-5db1-4979-ad8b-8be23390ebef",
   "metadata": {},
   "source": [
    "> ***The pop() method removes the item with the specified key name:***"
   ]
  },
  {
   "cell_type": "code",
   "execution_count": 18,
   "id": "5e22db57-57e8-4f88-b150-c9f9aef930cc",
   "metadata": {},
   "outputs": [
    {
     "name": "stdout",
     "output_type": "stream",
     "text": [
      "{'brand': 'Ford', 'model': 'Mustang', 'year': 1964}\n",
      "{'brand': 'Ford', 'year': 1964}\n"
     ]
    }
   ],
   "source": [
    "thisdict = {\n",
    "  \"brand\": \"Ford\",\n",
    "  \"model\": \"Mustang\",\n",
    "  \"year\": 1964\n",
    "}\n",
    "\n",
    "print(thisdict)\n",
    "thisdict.pop(\"model\")\n",
    "print(thisdict)"
   ]
  },
  {
   "cell_type": "markdown",
   "id": "9340f6c5-0dbb-45b0-9cba-1bf4a9b78e2f",
   "metadata": {},
   "source": [
    "> ***The popitem() method removes the last inserted item (in versions before 3.7, a random item is removed instead):***"
   ]
  },
  {
   "cell_type": "code",
   "execution_count": 19,
   "id": "50e9e69f-71ea-4918-8094-974590f57435",
   "metadata": {},
   "outputs": [
    {
     "name": "stdout",
     "output_type": "stream",
     "text": [
      "{'brand': 'Ford', 'model': 'Mustang'}\n"
     ]
    }
   ],
   "source": [
    "thisdict = {\n",
    "  \"brand\": \"Ford\",\n",
    "  \"model\": \"Mustang\",\n",
    "  \"year\": 1964\n",
    "}\n",
    "thisdict.popitem()\n",
    "print(thisdict)"
   ]
  },
  {
   "cell_type": "markdown",
   "id": "0c4c233b-25a0-40e5-aa0f-d37ae0678662",
   "metadata": {},
   "source": [
    "> *The ***del*** keyword removes the item with the specified key name:*"
   ]
  },
  {
   "cell_type": "code",
   "execution_count": 22,
   "id": "6a53b3ad-cd99-415f-8f27-64defe29027e",
   "metadata": {},
   "outputs": [
    {
     "name": "stdout",
     "output_type": "stream",
     "text": [
      "{'brand': 'Ford', 'model': 'Mustang', 'year': 1964}\n",
      "{'brand': 'Ford', 'year': 1964}\n"
     ]
    }
   ],
   "source": [
    "thisdict = {\n",
    "  \"brand\": \"Ford\",\n",
    "  \"model\": \"Mustang\",\n",
    "  \"year\": 1964\n",
    "}\n",
    "\n",
    "print(thisdict)\n",
    "del thisdict[\"model\"]\n",
    "print(thisdict)"
   ]
  },
  {
   "cell_type": "markdown",
   "id": "5d38e675-dfab-450d-a6d0-24488d35b60b",
   "metadata": {},
   "source": [
    "> *The ***del*** keyword can also delete the dictionary completely:*"
   ]
  },
  {
   "cell_type": "code",
   "execution_count": 24,
   "id": "3d98494f-3cca-41cd-bc4f-84498b565368",
   "metadata": {},
   "outputs": [
    {
     "name": "stdout",
     "output_type": "stream",
     "text": [
      "{'brand': 'Ford', 'model': 'Mustang', 'year': 1964}\n"
     ]
    },
    {
     "ename": "NameError",
     "evalue": "name 'thisdict' is not defined",
     "output_type": "error",
     "traceback": [
      "\u001b[1;31m---------------------------------------------------------------------------\u001b[0m",
      "\u001b[1;31mNameError\u001b[0m                                 Traceback (most recent call last)",
      "Cell \u001b[1;32mIn[24], line 8\u001b[0m\n\u001b[0;32m      6\u001b[0m \u001b[38;5;28mprint\u001b[39m(thisdict)\n\u001b[0;32m      7\u001b[0m \u001b[38;5;28;01mdel\u001b[39;00m thisdict\n\u001b[1;32m----> 8\u001b[0m \u001b[38;5;28mprint\u001b[39m(thisdict)\n",
      "\u001b[1;31mNameError\u001b[0m: name 'thisdict' is not defined"
     ]
    }
   ],
   "source": [
    "thisdict = {\n",
    "  \"brand\": \"Ford\",\n",
    "  \"model\": \"Mustang\",\n",
    "  \"year\": 1964\n",
    "}\n",
    "print(thisdict)\n",
    "del thisdict\n",
    "print(thisdict) #this will cause an error because \"thisdict\" no longer exists."
   ]
  },
  {
   "cell_type": "markdown",
   "id": "ebcfe596-1187-49d0-848c-4ef81dcee287",
   "metadata": {},
   "source": [
    "> *The ***clear()*** method empties the dictionary:*"
   ]
  },
  {
   "cell_type": "code",
   "execution_count": 27,
   "id": "4fc97f5d-91d7-43cb-a1d1-e2e937bb09f5",
   "metadata": {},
   "outputs": [
    {
     "name": "stdout",
     "output_type": "stream",
     "text": [
      "{}\n"
     ]
    }
   ],
   "source": [
    "thisdict = {\n",
    "  \"brand\": \"Ford\",\n",
    "  \"model\": \"Mustang\",\n",
    "  \"year\": 1964\n",
    "}\n",
    "thisdict.clear()\n",
    "print(thisdict)"
   ]
  },
  {
   "cell_type": "markdown",
   "id": "d34f1a68-8c95-48b4-bb10-0e822dda3a29",
   "metadata": {},
   "source": [
    "### Loop Through Dictionary"
   ]
  },
  {
   "cell_type": "code",
   "execution_count": 28,
   "id": "21c96b1d-7c23-4cee-9304-19a24c37f128",
   "metadata": {},
   "outputs": [
    {
     "name": "stdout",
     "output_type": "stream",
     "text": [
      "brand\n",
      "model\n",
      "year\n"
     ]
    }
   ],
   "source": [
    "thisdict = {\n",
    "  \"brand\": \"Ford\",\n",
    "  \"model\": \"Mustang\",\n",
    "  \"year\": 1964\n",
    "}\n",
    "\n",
    "for x in thisdict:\n",
    "  print(x)"
   ]
  },
  {
   "cell_type": "code",
   "execution_count": 29,
   "id": "2c2ee0f4-2ab9-458c-aaf8-b317907e5f39",
   "metadata": {},
   "outputs": [
    {
     "name": "stdout",
     "output_type": "stream",
     "text": [
      "Ford\n",
      "Mustang\n",
      "1964\n"
     ]
    }
   ],
   "source": [
    "for x in thisdict:\n",
    "  print(thisdict[x])"
   ]
  },
  {
   "cell_type": "markdown",
   "id": "38430b98-fc45-4ece-937c-8a56198e56f6",
   "metadata": {},
   "source": [
    "> *We can also use the ***values()*** method to return values of a dictionary:*"
   ]
  },
  {
   "cell_type": "code",
   "execution_count": 30,
   "id": "087231e9-b183-4d24-9c9b-1bd166e08287",
   "metadata": {},
   "outputs": [
    {
     "name": "stdout",
     "output_type": "stream",
     "text": [
      "Ford\n",
      "Mustang\n",
      "1964\n"
     ]
    }
   ],
   "source": [
    "for x in thisdict.values():\n",
    "  print(x)"
   ]
  },
  {
   "cell_type": "markdown",
   "id": "70467e5e-f173-4927-bc29-d8d418f6a634",
   "metadata": {},
   "source": [
    "> *You can use the ***keys()*** method to return the keys of a dictionary:*"
   ]
  },
  {
   "cell_type": "code",
   "execution_count": 31,
   "id": "0a6b98a2-50ab-4cd9-813b-e12bf63df874",
   "metadata": {},
   "outputs": [
    {
     "name": "stdout",
     "output_type": "stream",
     "text": [
      "brand\n",
      "model\n",
      "year\n"
     ]
    }
   ],
   "source": [
    "for x in thisdict.keys():\n",
    "  print(x)"
   ]
  },
  {
   "cell_type": "markdown",
   "id": "1da148a1-1e74-47fe-ad1a-ea785c1a4767",
   "metadata": {},
   "source": [
    "> *Loop through both **keys** and **values**, by using the ***items()*** method:*"
   ]
  },
  {
   "cell_type": "code",
   "execution_count": 32,
   "id": "2aeba781-53fb-4bb7-b909-d770f097d131",
   "metadata": {},
   "outputs": [
    {
     "name": "stdout",
     "output_type": "stream",
     "text": [
      "brand Ford\n",
      "model Mustang\n",
      "year 1964\n"
     ]
    }
   ],
   "source": [
    "for x, y in thisdict.items():\n",
    "  print(x, y)"
   ]
  },
  {
   "cell_type": "markdown",
   "id": "d606d3e7-28cd-41d1-9895-af11d5ab6911",
   "metadata": {},
   "source": [
    "> *Make a copy of a dictionary with the ***copy()*** method:*"
   ]
  },
  {
   "cell_type": "code",
   "execution_count": 34,
   "id": "90759d6a-2650-4cfc-a195-8c36e4f790e3",
   "metadata": {},
   "outputs": [
    {
     "name": "stdout",
     "output_type": "stream",
     "text": [
      "{'brand': 'Ford', 'model': 'Mustang', 'year': 1964}\n",
      "{'brand': 'Ford', 'model': 'Mustang', 'year': 1964}\n"
     ]
    }
   ],
   "source": [
    "thisdict = {\n",
    "  \"brand\": \"Ford\",\n",
    "  \"model\": \"Mustang\",\n",
    "  \"year\": 1964\n",
    "}\n",
    "\n",
    "print(thisdict)\n",
    "mydict = thisdict.copy()\n",
    "print(mydict)"
   ]
  },
  {
   "cell_type": "markdown",
   "id": "bdb50da9-5fbd-4f1e-84a2-f442a76fea1f",
   "metadata": {},
   "source": [
    "> *Another way to make a copy is to use the built-in function ***dict()***.*"
   ]
  },
  {
   "cell_type": "code",
   "execution_count": 36,
   "id": "2458adaa-2cb5-4244-9987-6f9a6ac03ceb",
   "metadata": {},
   "outputs": [
    {
     "name": "stdout",
     "output_type": "stream",
     "text": [
      "{'brand': 'Ford', 'model': 'Mustang', 'year': 1964}\n",
      "{'brand': 'Ford', 'model': 'Mustang', 'year': 1964}\n"
     ]
    }
   ],
   "source": [
    "thisdict = {\n",
    "  \"brand\": \"Ford\",\n",
    "  \"model\": \"Mustang\",\n",
    "  \"year\": 1964\n",
    "}\n",
    "\n",
    "print(thisdict)\n",
    "mydict = dict(thisdict)\n",
    "print(mydict)"
   ]
  },
  {
   "cell_type": "markdown",
   "id": "e0ede9c8-6a98-4003-82ba-2ec66a12e8bd",
   "metadata": {},
   "source": [
    "### Nested Dictionaries\n",
    "\n",
    "> *A dictionary can contain dictionaries, this is called ***Nested dictionaries***.*"
   ]
  },
  {
   "cell_type": "code",
   "execution_count": 40,
   "id": "3cac8839-1c63-4ee1-b0e4-d786ad751f3a",
   "metadata": {},
   "outputs": [
    {
     "name": "stdout",
     "output_type": "stream",
     "text": [
      "{'child1': {'name': 'Gul Khan', 'DOB': 2004}, 'child2': {'name': 'Tobias', 'DOB': 2007}, 'child3': {'name': 'Linus', 'DOB': 2011}}\n"
     ]
    }
   ],
   "source": [
    "myfamily = {\n",
    "  \"child1\" : {\n",
    "    \"name\" : \"Gul Khan\",\n",
    "    \"DOB\" : 2004\n",
    "  },\n",
    "  \"child2\" : {\n",
    "    \"name\" : \"Tobias\",\n",
    "    \"DOB\" : 2007\n",
    "  },\n",
    "  \"child3\" : {\n",
    "    \"name\" : \"Linus\",\n",
    "    \"DOB\" : 2011\n",
    "  }\n",
    "}\n",
    "\n",
    "print(myfamily)"
   ]
  },
  {
   "cell_type": "markdown",
   "id": "e40f1412-9930-4851-a051-44e904d48335",
   "metadata": {},
   "source": [
    "### 2nd Method\n",
    "\n",
    "> *Create three dictionaries, then create one dictionary that will contain the other three dictionaries:*"
   ]
  },
  {
   "cell_type": "code",
   "execution_count": 44,
   "id": "42c2e57a-cb31-4e1d-a0d4-c95230c0651b",
   "metadata": {},
   "outputs": [
    {
     "name": "stdout",
     "output_type": "stream",
     "text": [
      "{'child1': {'name': 'Gul Khan', 'DOB': 2004}, 'child2': {'name': 'Tobias', 'DOB': 2007}, 'child3': {'name': 'Linus', 'DOB': 2011}}\n"
     ]
    }
   ],
   "source": [
    "child1 = {\n",
    "  \"name\" : \"Gul Khan\",\n",
    "  \"DOB\" : 2004\n",
    "}\n",
    "child2 = {\n",
    "  \"name\" : \"Tobias\",\n",
    "  \"DOB\" : 2007\n",
    "}\n",
    "child3 = {\n",
    "  \"name\" : \"Linus\",\n",
    "  \"DOB\" : 2011\n",
    "}\n",
    "\n",
    "myfamily = {\n",
    "  \"child1\" : child1,\n",
    "  \"child2\" : child2,\n",
    "  \"child3\" : child3\n",
    "}\n",
    "\n",
    "print(myfamily)"
   ]
  },
  {
   "cell_type": "markdown",
   "id": "5484aa1c-add4-420e-89f5-add73fab72c2",
   "metadata": {},
   "source": [
    "#### Access Items in Nested Dictionaries\n",
    "\n",
    "\n",
    "> ***To access items from a nested dictionary, you use the name of the dictionaries, starting with the outer dictionary:***"
   ]
  },
  {
   "cell_type": "code",
   "execution_count": 45,
   "id": "e52820de-a7b5-4b42-884e-a084959cfa98",
   "metadata": {},
   "outputs": [
    {
     "name": "stdout",
     "output_type": "stream",
     "text": [
      "Tobias\n"
     ]
    }
   ],
   "source": [
    "print(myfamily[\"child2\"][\"name\"])"
   ]
  },
  {
   "cell_type": "markdown",
   "id": "c9e35eaa-b8d1-45b0-ac36-710168cf183e",
   "metadata": {},
   "source": [
    "> ***We can loop through a dictionary by using the items() method like this:***"
   ]
  },
  {
   "cell_type": "code",
   "execution_count": 47,
   "id": "0d5096d7-9eb9-416e-bf96-00817b5e3cab",
   "metadata": {},
   "outputs": [
    {
     "name": "stdout",
     "output_type": "stream",
     "text": [
      "child1\n",
      "name: Gul Khan\n",
      "DOB: 2004\n",
      "child2\n",
      "name: Tobias\n",
      "DOB: 2007\n",
      "child3\n",
      "name: Linus\n",
      "DOB: 2011\n"
     ]
    }
   ],
   "source": [
    "for x, obj in myfamily.items():\n",
    "  print(x)\n",
    "\n",
    "  for y in obj:\n",
    "    print(y + ':', obj[y])"
   ]
  },
  {
   "cell_type": "code",
   "execution_count": null,
   "id": "a351990e-5096-4ab3-afd9-a9f7fe30a473",
   "metadata": {},
   "outputs": [],
   "source": []
  }
 ],
 "metadata": {
  "kernelspec": {
   "display_name": "Python 3 (ipykernel)",
   "language": "python",
   "name": "python3"
  },
  "language_info": {
   "codemirror_mode": {
    "name": "ipython",
    "version": 3
   },
   "file_extension": ".py",
   "mimetype": "text/x-python",
   "name": "python",
   "nbconvert_exporter": "python",
   "pygments_lexer": "ipython3",
   "version": "3.11.7"
  }
 },
 "nbformat": 4,
 "nbformat_minor": 5
}
