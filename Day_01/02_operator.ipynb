{
 "cells": [
  {
   "cell_type": "markdown",
   "id": "6594c7aa-619a-456e-8f5f-f33da5655659",
   "metadata": {},
   "source": [
    "### There are some operators that can use in pythone such like\n",
    "\n",
    "* Arithmetic Operators.\n",
    "* Logical Operators\n",
    "* \n",
    "Comparison (Relational) Operators\n",
    "* \r\n",
    "Assignment Operato\n",
    "rs.\n",
    "#### '+'\n",
    "#### '-'\n",
    "#### '*'\n",
    "#### '/'\n",
    "#### '//'\n",
    "#### '%' etc."
   ]
  },
  {
   "cell_type": "code",
   "execution_count": 9,
   "id": "5389c4cd-0ad7-45fe-b9f0-7bb0dd5edeb8",
   "metadata": {},
   "outputs": [
    {
     "name": "stdout",
     "output_type": "stream",
     "text": [
      "8\n",
      "<class 'int'>\n"
     ]
    }
   ],
   "source": [
    "print(4+4)\n",
    "\n",
    "print(type(4+4))"
   ]
  },
  {
   "cell_type": "code",
   "execution_count": 10,
   "id": "6bfcdc99-e488-4c56-9578-54cceb9597a7",
   "metadata": {},
   "outputs": [
    {
     "name": "stdout",
     "output_type": "stream",
     "text": [
      "6.3\n",
      "<class 'float'>\n"
     ]
    }
   ],
   "source": [
    "print(3+3.3)\n",
    "print(type(3+3.3))"
   ]
  },
  {
   "cell_type": "code",
   "execution_count": 11,
   "id": "29706afa-dd6c-49e6-83ae-0f5f9cd3d177",
   "metadata": {},
   "outputs": [
    {
     "name": "stdout",
     "output_type": "stream",
     "text": [
      "10\n",
      "<class 'int'>\n"
     ]
    }
   ],
   "source": [
    "print(5*2)"
   ]
  },
  {
   "cell_type": "code",
   "execution_count": 20,
   "id": "7f74c15e-13ee-466d-a0b1-273ae5f68cb6",
   "metadata": {},
   "outputs": [
    {
     "name": "stdout",
     "output_type": "stream",
     "text": [
      "25\n"
     ]
    }
   ],
   "source": [
    "#  Exponent Or Power\n",
    "print(5**2)"
   ]
  },
  {
   "cell_type": "code",
   "execution_count": 12,
   "id": "ab532a96-f1c6-49a7-8ab7-8101ebfb264e",
   "metadata": {},
   "outputs": [
    {
     "name": "stdout",
     "output_type": "stream",
     "text": [
      "1\n",
      "<class 'int'>\n"
     ]
    }
   ],
   "source": [
    "print(5%2)"
   ]
  },
  {
   "cell_type": "code",
   "execution_count": 13,
   "id": "f9373060-aaf5-4534-9067-7500f7b95548",
   "metadata": {},
   "outputs": [
    {
     "name": "stdout",
     "output_type": "stream",
     "text": [
      "2.5\n",
      "<class 'float'>\n"
     ]
    }
   ],
   "source": [
    "print(5/2)\n",
    "\n",
    "print(type(5/2))"
   ]
  },
  {
   "cell_type": "code",
   "execution_count": 14,
   "id": "b5a2594c-3c33-4197-a699-55b7bbb22407",
   "metadata": {},
   "outputs": [
    {
     "name": "stdout",
     "output_type": "stream",
     "text": [
      "2\n",
      "<class 'int'>\n"
     ]
    }
   ],
   "source": [
    "print(5//2)\n",
    "\n",
    "print(type(5//2))"
   ]
  },
  {
   "cell_type": "code",
   "execution_count": 50,
   "id": "c7d75fb2-c502-4cde-9d76-796a23a5cee8",
   "metadata": {},
   "outputs": [
    {
     "name": "stdout",
     "output_type": "stream",
     "text": [
      "14.0\n"
     ]
    }
   ],
   "source": [
    "# Pythone Using PEMDAS Rule for Arithmatic Operation\n",
    "print(4**2/2*6/3+2-4)"
   ]
  },
  {
   "cell_type": "code",
   "execution_count": null,
   "id": "c8da9814-6853-40cf-bf70-cf352aafa1b9",
   "metadata": {},
   "outputs": [],
   "source": [
    "# The Above Operation is solved through PEDMAS rule Like Below\n",
    "# 'P' for  Parenthesis\n",
    "# 'E' for Exponents\n",
    "# 'M' for Multiplication\n",
    "# 'D' for Divide\n",
    "# 'A' for Addition\n",
    "# 'S' for Substraction"
   ]
  },
  {
   "cell_type": "code",
   "execution_count": 77,
   "id": "6d76e975-9052-4422-906c-de346a278a7b",
   "metadata": {},
   "outputs": [
    {
     "name": "stdout",
     "output_type": "stream",
     "text": [
      "16\n"
     ]
    }
   ],
   "source": [
    "# print(4**2/2*6/3+2-4)\n",
    "# Put No space between the asteric '**', it will give error like\n",
    "# print(4 * * 2)..... it will give error\n",
    "print(4 ** 2)         # First Step 'Exponent or Power' According to PEDMAS Rule"
   ]
  },
  {
   "cell_type": "code",
   "execution_count": 78,
   "id": "bbd6bc3c-e346-4834-be34-d1c2e4aa6c14",
   "metadata": {},
   "outputs": [
    {
     "name": "stdout",
     "output_type": "stream",
     "text": [
      "8.0\n"
     ]
    }
   ],
   "source": [
    "# print(4**2/2*6/3+2-4)\n",
    "\n",
    "# Multiplication and Division have same precedence therefore\n",
    "# Therefore as there is first Division So, Division will take Place.\n",
    "\n",
    "print(16 / 2)         # Second Step According to PEDMAS Rule"
   ]
  },
  {
   "cell_type": "code",
   "execution_count": 79,
   "id": "1e22e92b-cdcb-4bcb-85f4-1ed015383800",
   "metadata": {},
   "outputs": [
    {
     "name": "stdout",
     "output_type": "stream",
     "text": [
      "48.0\n"
     ]
    }
   ],
   "source": [
    "# print(4**2/2*6/3+2-4)\n",
    "\n",
    "print(8.0 * 6)        # Third Step is 'Multiplication' According to PEDMAS Rule"
   ]
  },
  {
   "cell_type": "code",
   "execution_count": 80,
   "id": "722b7b1b-0725-4baf-bf39-5eda6354e599",
   "metadata": {},
   "outputs": [
    {
     "name": "stdout",
     "output_type": "stream",
     "text": [
      "16.0\n"
     ]
    }
   ],
   "source": [
    "# print(4**2/2*6/3+2-4)\n",
    "\n",
    "print(48.0 / 3)       # Fourth Step is 'Division\" According to PEDMAS Rule"
   ]
  },
  {
   "cell_type": "code",
   "execution_count": 81,
   "id": "30e451a1-f37f-46ad-a328-9472ed82b53d",
   "metadata": {},
   "outputs": [
    {
     "name": "stdout",
     "output_type": "stream",
     "text": [
      "18.0\n"
     ]
    }
   ],
   "source": [
    "# print(4**2/2*6/3+2-4)\n",
    "\n",
    "print(16.0 + 2)      # Fifth Step is 'Addition' According to PEDMAS Rule"
   ]
  },
  {
   "cell_type": "code",
   "execution_count": 82,
   "id": "5d36dd4a-e851-4909-a9a6-bba9f098f90a",
   "metadata": {},
   "outputs": [
    {
     "name": "stdout",
     "output_type": "stream",
     "text": [
      "14.0\n"
     ]
    }
   ],
   "source": [
    "# print(4**2/2*6/3+2-4)\n",
    "\n",
    "print(18.0 - 4)       # Sixth Step is 'Substraction' According to PEDMAS Rule"
   ]
  },
  {
   "cell_type": "code",
   "execution_count": null,
   "id": "cff62bbc-d168-48e5-90f3-57d2fa419e9c",
   "metadata": {},
   "outputs": [],
   "source": [
    "   "
   ]
  },
  {
   "cell_type": "code",
   "execution_count": null,
   "id": "d67130ae-9765-4a89-9b86-9908846e88df",
   "metadata": {},
   "outputs": [],
   "source": []
  }
 ],
 "metadata": {
  "kernelspec": {
   "display_name": "Python 3 (ipykernel)",
   "language": "python",
   "name": "python3"
  },
  "language_info": {
   "codemirror_mode": {
    "name": "ipython",
    "version": 3
   },
   "file_extension": ".py",
   "mimetype": "text/x-python",
   "name": "python",
   "nbconvert_exporter": "python",
   "pygments_lexer": "ipython3",
   "version": "3.11.7"
  }
 },
 "nbformat": 4,
 "nbformat_minor": 5
}
