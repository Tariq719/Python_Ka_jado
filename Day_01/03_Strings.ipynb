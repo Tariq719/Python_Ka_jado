{
 "cells": [
  {
   "cell_type": "markdown",
   "id": "fd031cf5-1f5f-4f61-bae1-24058be0bbb6",
   "metadata": {},
   "source": [
    "#### Strings"
   ]
  },
  {
   "cell_type": "markdown",
   "id": "fbbe8329-3ea3-40c8-8ba3-d18fe093a5e2",
   "metadata": {},
   "source": [
    "###### We can write string in quotes\n",
    "###### There are three types of quotes.\n",
    "* Single quote\n",
    "* Double quotess\n",
    "* Thripple Quotes"
   ]
  },
  {
   "cell_type": "code",
   "execution_count": 1,
   "id": "bbc96396-2056-4b19-80a7-9d6b0f6db72f",
   "metadata": {},
   "outputs": [
    {
     "name": "stdout",
     "output_type": "stream",
     "text": [
      "Data Analyst\n"
     ]
    }
   ],
   "source": [
    "# Sigle Quote\n",
    "\n",
    "print('Data Analyst')"
   ]
  },
  {
   "cell_type": "code",
   "execution_count": 2,
   "id": "144c6235-2cbf-44ff-b51b-6072463804ea",
   "metadata": {},
   "outputs": [
    {
     "name": "stdout",
     "output_type": "stream",
     "text": [
      "Data Analyst\n"
     ]
    }
   ],
   "source": [
    "# Double Quote\n",
    "\n",
    "print(\"Data Analyst\")"
   ]
  },
  {
   "cell_type": "code",
   "execution_count": 3,
   "id": "b99f742b-bff4-43c9-a3cf-a4f34ca41a7d",
   "metadata": {},
   "outputs": [
    {
     "name": "stdout",
     "output_type": "stream",
     "text": [
      " Data Analyst \n"
     ]
    }
   ],
   "source": [
    "# Thripple Quotes\n",
    "\n",
    "print(''' Data Analyst ''')"
   ]
  },
  {
   "cell_type": "markdown",
   "id": "8821676a-ea74-4a10-ae69-c78b8403f8b9",
   "metadata": {},
   "source": [
    "##### Where to Use Which Quote\n",
    "\n",
    "* Single Quote"
   ]
  },
  {
   "cell_type": "code",
   "execution_count": 20,
   "id": "d0086cae-11fb-49ed-93c6-7d748aa00bb0",
   "metadata": {},
   "outputs": [
    {
     "name": "stdout",
     "output_type": "stream",
     "text": [
      "What's up?\n"
     ]
    }
   ],
   "source": [
    "# print('Data Analyst') # it will give write answer but...\n",
    "\n",
    "# If I write like this\n",
    "# print('What's up?')   # It will give error Becuse 'What' is string because its between single quotes '' but (s up') it is incomple string\n",
    "\n",
    "# for the solution of such like problem we put double quotes like this\n",
    "\n",
    "print(\"What's up?\")"
   ]
  },
  {
   "cell_type": "markdown",
   "id": "499b1ce1-690e-4022-acd9-dbe5fba1692e",
   "metadata": {},
   "source": [
    "###### Thripple quotes\n",
    "* If I write More then one rows then how to write.\n",
    "* For this purpose thripple quotes are used, Like..."
   ]
  },
  {
   "cell_type": "code",
   "execution_count": 17,
   "id": "9ec97852-103d-4fe0-b0a2-11fe028d167c",
   "metadata": {},
   "outputs": [
    {
     "ename": "SyntaxError",
     "evalue": "unterminated string literal (detected at line 2) (3848865464.py, line 2)",
     "output_type": "error",
     "traceback": [
      "\u001b[1;36m  Cell \u001b[1;32mIn[17], line 2\u001b[1;36m\u001b[0m\n\u001b[1;33m    print('Data Analyst\u001b[0m\n\u001b[1;37m          ^\u001b[0m\n\u001b[1;31mSyntaxError\u001b[0m\u001b[1;31m:\u001b[0m unterminated string literal (detected at line 2)\n"
     ]
    }
   ],
   "source": [
    "# If I Write More then one row in a single print then it will give us error.... Like below\n",
    "print('Data Analyst\n",
    "in Pakistan\n",
    "are Very Rare')"
   ]
  },
  {
   "cell_type": "code",
   "execution_count": 19,
   "id": "52624ba6-b755-4ab6-b553-97173bbaf080",
   "metadata": {},
   "outputs": [
    {
     "name": "stdout",
     "output_type": "stream",
     "text": [
      "Data Analyst\n",
      "in Pakistan\n",
      "are Very Rare\n"
     ]
    }
   ],
   "source": [
    "#  Thripple quotes used like Here\n",
    "\n",
    "\n",
    "print('''Data Analyst\n",
    "in Pakistan\n",
    "are Very Rare''')"
   ]
  },
  {
   "cell_type": "code",
   "execution_count": null,
   "id": "8c2d4165-ce33-453a-998f-244b6e65633e",
   "metadata": {},
   "outputs": [],
   "source": []
  }
 ],
 "metadata": {
  "kernelspec": {
   "display_name": "Python 3 (ipykernel)",
   "language": "python",
   "name": "python3"
  },
  "language_info": {
   "codemirror_mode": {
    "name": "ipython",
    "version": 3
   },
   "file_extension": ".py",
   "mimetype": "text/x-python",
   "name": "python",
   "nbconvert_exporter": "python",
   "pygments_lexer": "ipython3",
   "version": "3.11.7"
  }
 },
 "nbformat": 4,
 "nbformat_minor": 5
}
