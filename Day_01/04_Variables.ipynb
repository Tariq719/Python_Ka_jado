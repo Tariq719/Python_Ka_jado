{
 "cells": [
  {
   "cell_type": "markdown",
   "id": "3a306144-ad35-473d-9065-3f2f8b34a628",
   "metadata": {},
   "source": [
    "#### Variables:\n",
    "* Objects Containing Specific Values"
   ]
  },
  {
   "cell_type": "code",
   "execution_count": 1,
   "id": "90e86999-b46a-4583-9b20-b185538f5ba5",
   "metadata": {},
   "outputs": [
    {
     "name": "stdout",
     "output_type": "stream",
     "text": [
      "4\n"
     ]
    }
   ],
   "source": [
    "x = 4   # x is variable containig intiger or Numeric Value(4)\\\n",
    "\n",
    "print(x)"
   ]
  },
  {
   "cell_type": "code",
   "execution_count": 2,
   "id": "43a032f4-86fb-4e0b-a42e-1224043ffbf5",
   "metadata": {},
   "outputs": [
    {
     "name": "stdout",
     "output_type": "stream",
     "text": [
      "Data Analyst\n"
     ]
    }
   ],
   "source": [
    "y = 'Data Analyst'   # y is a variable containing string value.\n",
    "\n",
    "print(y)"
   ]
  },
  {
   "cell_type": "code",
   "execution_count": 10,
   "id": "941c02ea-88cf-4d2e-b18c-b026e4c8213c",
   "metadata": {},
   "outputs": [
    {
     "name": "stdout",
     "output_type": "stream",
     "text": [
      "10\n"
     ]
    }
   ],
   "source": [
    "# Here I repeat the variable 'x', It will override the above value of x, because it updated in ascending order\n",
    "\n",
    "\n",
    "x = 10\n",
    "\n",
    "print(x)"
   ]
  },
  {
   "cell_type": "code",
   "execution_count": 11,
   "id": "57ae21dc-1058-45ff-9bcf-d3885cf57666",
   "metadata": {},
   "outputs": [
    {
     "name": "stdout",
     "output_type": "stream",
     "text": [
      "20\n"
     ]
    }
   ],
   "source": [
    "# Here see the logic\n",
    "\n",
    "x = x + 10\n",
    "\n",
    "print(x)  # it will give '20' because previous value of x is '10' and here '10' is also added to the 'x' variable"
   ]
  },
  {
   "cell_type": "markdown",
   "id": "35ae7e8b-1ded-4db0-accd-bec602e78670",
   "metadata": {},
   "source": [
    "#### Types/Class of Variables"
   ]
  },
  {
   "cell_type": "code",
   "execution_count": 13,
   "id": "96a83d22-3404-47b3-ac27-840ee38d132d",
   "metadata": {},
   "outputs": [
    {
     "name": "stdout",
     "output_type": "stream",
     "text": [
      "<class 'int'>\n",
      "<class 'str'>\n"
     ]
    }
   ],
   "source": [
    "print(type(x))\n",
    "\n",
    "print(type(y))"
   ]
  },
  {
   "cell_type": "markdown",
   "id": "26754f5e-1d56-4db4-b8fd-be7118b4cebd",
   "metadata": {},
   "source": [
    "#### Rules for Assigning Name to Variables:\n",
    "* Variable Name cantians Latters, Numbers and Under score.\n",
    "* should start from latters or under score\n",
    "* can't start from Numbers\n",
    "* spaces are not allowed\n",
    "* Donot use keyword as varible name (like 'print', mean, mode, as, and, if... etc.\n",
    "* varible should short and descriptive (meaningful)\n",
    "* case sensative (lowercase letters and upercase letters)--> Prefer to use lowercase letter becuase it easy"
   ]
  },
  {
   "cell_type": "code",
   "execution_count": 17,
   "id": "2c18cc50-d14a-4bb1-8653-a9afdb3fcf7a",
   "metadata": {},
   "outputs": [
    {
     "name": "stdout",
     "output_type": "stream",
     "text": [
      "Mangoes, Banana\n"
     ]
    }
   ],
   "source": [
    "fruit_basket =  \"Mangoes, Banana\"\n",
    "print(fruit_basket)"
   ]
  },
  {
   "cell_type": "code",
   "execution_count": 18,
   "id": "28de0fd0-9b50-42c0-8513-3e9326138ea7",
   "metadata": {},
   "outputs": [
    {
     "name": "stdout",
     "output_type": "stream",
     "text": [
      "<class 'str'>\n"
     ]
    }
   ],
   "source": [
    "print(type(fruit_basket))"
   ]
  },
  {
   "cell_type": "code",
   "execution_count": 19,
   "id": "810b206e-6d9b-4f79-8e2d-abb3a4aef58a",
   "metadata": {},
   "outputs": [
    {
     "name": "stdout",
     "output_type": "stream",
     "text": [
      "<class 'int'>\n",
      "12\n"
     ]
    }
   ],
   "source": [
    "fruit_basket = 12\n",
    "\n",
    "print(type(fruit_basket))\n",
    "print(fruit_basket)"
   ]
  },
  {
   "cell_type": "code",
   "execution_count": null,
   "id": "a9c1b220-69d3-444c-aca4-7b3ef6d80a5a",
   "metadata": {},
   "outputs": [],
   "source": []
  }
 ],
 "metadata": {
  "kernelspec": {
   "display_name": "Python 3 (ipykernel)",
   "language": "python",
   "name": "python3"
  },
  "language_info": {
   "codemirror_mode": {
    "name": "ipython",
    "version": 3
   },
   "file_extension": ".py",
   "mimetype": "text/x-python",
   "name": "python",
   "nbconvert_exporter": "python",
   "pygments_lexer": "ipython3",
   "version": "3.11.7"
  }
 },
 "nbformat": 4,
 "nbformat_minor": 5
}
