{
 "cells": [
  {
   "cell_type": "code",
   "execution_count": 4,
   "id": "51fce630-c0a2-45a3-a2e6-e77a33ccbcea",
   "metadata": {},
   "outputs": [],
   "source": [
    "# How to Print Data?\n",
    "\n",
    "# -> We can print data using 'print' function.\n",
    "# -> If print String then will put the data within quatation marks"
   ]
  },
  {
   "cell_type": "code",
   "execution_count": 5,
   "id": "9be46886-6915-4366-a086-d9c602f6d74b",
   "metadata": {},
   "outputs": [
    {
     "name": "stdout",
     "output_type": "stream",
     "text": [
      "Pakistan\n"
     ]
    }
   ],
   "source": [
    "print('Pakistan')"
   ]
  },
  {
   "cell_type": "code",
   "execution_count": 6,
   "id": "b22993d5-601f-4670-b7c0-bf18bf27e263",
   "metadata": {},
   "outputs": [],
   "source": [
    "# such like above if we print Number then will write something inisde print() but without quotation mark"
   ]
  },
  {
   "cell_type": "code",
   "execution_count": 7,
   "id": "36879a3b-c4df-443c-968d-b2f38a09e5f3",
   "metadata": {},
   "outputs": [
    {
     "name": "stdout",
     "output_type": "stream",
     "text": [
      "30\n"
     ]
    }
   ],
   "source": [
    "print(30)"
   ]
  },
  {
   "cell_type": "code",
   "execution_count": 8,
   "id": "624f2b1d-2bbc-43f9-95b4-37e7995e1fea",
   "metadata": {},
   "outputs": [
    {
     "name": "stdout",
     "output_type": "stream",
     "text": [
      "32.34\n"
     ]
    }
   ],
   "source": [
    "print(32.34)"
   ]
  },
  {
   "cell_type": "code",
   "execution_count": null,
   "id": "e2a27dda-d0f0-4270-95b2-6fe7276c2e09",
   "metadata": {},
   "outputs": [],
   "source": []
  }
 ],
 "metadata": {
  "kernelspec": {
   "display_name": "Python 3 (ipykernel)",
   "language": "python",
   "name": "python3"
  },
  "language_info": {
   "codemirror_mode": {
    "name": "ipython",
    "version": 3
   },
   "file_extension": ".py",
   "mimetype": "text/x-python",
   "name": "python",
   "nbconvert_exporter": "python",
   "pygments_lexer": "ipython3",
   "version": "3.11.7"
  }
 },
 "nbformat": 4,
 "nbformat_minor": 5
}
