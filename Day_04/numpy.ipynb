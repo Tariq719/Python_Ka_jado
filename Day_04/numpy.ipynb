{
 "cells": [
  {
   "cell_type": "markdown",
   "id": "32fdf15c-f935-4504-bb27-8c801831f50a",
   "metadata": {},
   "source": [
    "### What is NumPy?\n",
    "\n",
    "> NumPy is a Python library used for working with arrays\n",
    ">\n",
    "> It also has functions for working in domain of linear algebra, fourier transform, and matrices."
   ]
  },
  {
   "cell_type": "markdown",
   "id": "b90fe85f-e634-41cf-adad-e673ace3fbd3",
   "metadata": {},
   "source": [
    "### Why Use NumPy?\n",
    "\n",
    "> In Python we have lists that serve the purpose of arrays, but they are slow to process.\n",
    ">\n",
    "> NumPy aims to provide an array object that is up to 50x faster than traditional Python lists.ts."
   ]
  },
  {
   "cell_type": "markdown",
   "id": "4a9501af-0a47-4b1e-a2c7-132a42b06a28",
   "metadata": {},
   "source": [
    "### Why is NumPy Faster Than Lists?\n",
    "\n",
    "> NumPy arrays are stored at one continuous place in memory unlike lists, so processes can access and manipulate them very efficiently.\n",
    ">\n",
    "> This behavior is called locality of reference in computer science.\n",
    ">\n",
    "> This is the main reason why NumPy is faster than lists. Also it is optimized to work with latest CPU architectures.ures."
   ]
  },
  {
   "cell_type": "code",
   "execution_count": 1,
   "id": "43f218e5-69d0-4d64-972d-565ebe9f09b8",
   "metadata": {},
   "outputs": [
    {
     "name": "stdout",
     "output_type": "stream",
     "text": [
      "[1 2 3 4 5]\n",
      "<class 'numpy.ndarray'>\n"
     ]
    }
   ],
   "source": [
    "# First program of numpy\n",
    "\n",
    "import numpy as np # first we will import numpy ['np' used for shortcut]\n",
    "\n",
    "arr = np.array([1,2,3,4,5])\n",
    "print(arr)\n",
    "print(type(arr))"
   ]
  },
  {
   "cell_type": "markdown",
   "id": "c7718d61-0278-441e-b19d-17fe35c99d4c",
   "metadata": {},
   "source": [
    "### Dimensions in Arrays\n",
    "\n",
    "> * **0-D Arrays**\n",
    ">\n",
    ">> *0-D arrays, or Scalars, are the elements in an array. Each value in an array is a 0-D array.*\n",
    ">\n",
    "> * **1-D Arrays**\n",
    ">\n",
    ">> *An array that has 0-D arrays as its elements is called uni-dimensional or 1-D array.*\n",
    ">>\n",
    ">> We can also says that an array which have only one row called 1-D array*\n",
    ">\n",
    "> * **2-D Arrays**\n",
    ">\n",
    ">> *An array that has 1-D arrays as its elements is called a 2-D array.*\n",
    ">>\n",
    ">> *These are often used to represent matrix or 2nd order tensors.*\n",
    ">\n",
    "> * **3-D Arrays**\n",
    ">\n",
    ">> *An array that has 2-D arrays (matrices) as its elements is called 3-D array.*\n",
    ">>\n",
    ">> *These are often used to represent a 3rd order tensor.*"
   ]
  },
  {
   "cell_type": "markdown",
   "id": "c10313ea-3e05-4482-bb0e-31f7d01bd880",
   "metadata": {},
   "source": [
    "### Check Number of Dimensions"
   ]
  },
  {
   "cell_type": "code",
   "execution_count": 6,
   "id": "541384a5-1a66-4a81-8ae6-88930b570b38",
   "metadata": {},
   "outputs": [
    {
     "name": "stdout",
     "output_type": "stream",
     "text": [
      "0\n",
      "1\n",
      "2\n",
      "3\n"
     ]
    }
   ],
   "source": [
    "a = np.array(42)\n",
    "b = np.array([1, 2, 3, 4, 5])\n",
    "c = np.array([[1, 2, 3], [4, 5, 6]])\n",
    "d = np.array([[[1, 2, 3], [4, 5, 6]], [[1, 2, 3], [4, 5, 6]]])\n",
    "\n",
    "print(a.ndim)\n",
    "print(b.ndim)\n",
    "print(c.ndim)\n",
    "print(d.ndim)"
   ]
  },
  {
   "cell_type": "markdown",
   "id": "efa40386-7156-4b34-96ce-7a6bb2e6aabe",
   "metadata": {},
   "source": [
    "### Create Higher Dimensions Array"
   ]
  },
  {
   "cell_type": "code",
   "execution_count": 11,
   "id": "0d3bb62b-2952-4375-b18f-05b4e1817980",
   "metadata": {},
   "outputs": [
    {
     "name": "stdout",
     "output_type": "stream",
     "text": [
      "[[[[[1 2 3 4 5]]]]]\n",
      "Dimension of the array is: 5 -D\n"
     ]
    }
   ],
   "source": [
    "arr = np.array([1,2,3,4,5], ndmin=5)\n",
    "\n",
    "print(arr)\n",
    "print('Dimension of the array is:',arr.ndim,'-D')"
   ]
  },
  {
   "cell_type": "markdown",
   "id": "5235ca0e-1228-413f-9bc6-03312c572f34",
   "metadata": {},
   "source": [
    "### Access Array Elements\n",
    "\n",
    "> * Array indexing is the same as accessing an array element.\n",
    ">\n",
    "> * You can access an array element by referring to its index number.\n",
    ">\n",
    "> * The indexes in NumPy arrays start with 0, meaning that the first element has index 0, and the second has index 1 etc. etc."
   ]
  },
  {
   "cell_type": "code",
   "execution_count": 12,
   "id": "fe703e26-c6d7-4922-88ca-d19bbb067f8f",
   "metadata": {},
   "outputs": [
    {
     "name": "stdout",
     "output_type": "stream",
     "text": [
      "2\n"
     ]
    }
   ],
   "source": [
    "arr = np.array([1, 2, 3, 4])\n",
    "\n",
    "print(arr[1])"
   ]
  },
  {
   "cell_type": "code",
   "execution_count": 13,
   "id": "1a47feb7-7083-42dc-9652-6d4bf2da9d96",
   "metadata": {},
   "outputs": [
    {
     "name": "stdout",
     "output_type": "stream",
     "text": [
      "7\n"
     ]
    }
   ],
   "source": [
    "# Get third and fourth elements from the following array and add them.\n",
    "\n",
    "arr = np.array([1, 2, 3, 4])\n",
    "\n",
    "print(arr[2] + arr[3])"
   ]
  },
  {
   "cell_type": "markdown",
   "id": "8e1c4195-ef8c-4b48-a1ca-ccbe7a08a2bf",
   "metadata": {},
   "source": [
    "# Access 2-D Arrays\n",
    "\n",
    "> Think of 2-D arrays like a table with rows and columns, where the dimension represents the row and the index represents the column."
   ]
  },
  {
   "cell_type": "code",
   "execution_count": 2,
   "id": "15d5892b-bc8d-41d0-9f3c-c993b4a8a359",
   "metadata": {},
   "outputs": [
    {
     "name": "stdout",
     "output_type": "stream",
     "text": [
      "2nd element on 1st row:  2\n"
     ]
    }
   ],
   "source": [
    "# Access the element on the first row, second column:\n",
    "\n",
    "arr = np.array([[1,2,3,4,5], [6,7,8,9,10]])\n",
    "\n",
    "print('2nd element on 1st row: ', arr[0, 1]) # First value show the row, while 2nd value show the column"
   ]
  },
  {
   "cell_type": "code",
   "execution_count": 17,
   "id": "a731a97e-db35-43b9-87f3-49a3c54f62fa",
   "metadata": {},
   "outputs": [
    {
     "name": "stdout",
     "output_type": "stream",
     "text": [
      "5th element on 2nd row:  10\n"
     ]
    }
   ],
   "source": [
    "# Access the element on the 2nd row, 5th column:\n",
    "\n",
    "arr = np.array([[1,2,3,4,5], [6,7,8,9,10]])\n",
    "\n",
    "print('5th element on 2nd row: ', arr[1, 4])"
   ]
  },
  {
   "cell_type": "markdown",
   "id": "fc10e2ea-2304-4318-8340-eb867f51a64c",
   "metadata": {},
   "source": [
    "# Access 3-D Arrays\n",
    "\n",
    "> To access elements from 3-D arrays we can use comma separated integers representing the dimensions and the index of the element.."
   ]
  },
  {
   "cell_type": "code",
   "execution_count": 3,
   "id": "f0383217-e482-4474-a8d8-1e558c37e374",
   "metadata": {},
   "outputs": [
    {
     "name": "stdout",
     "output_type": "stream",
     "text": [
      "6\n"
     ]
    }
   ],
   "source": [
    "# Access the third element of the second array in the first array:\n",
    "\n",
    "arr = np.array([[[1, 2, 3], [4, 5, 6]], [[7, 8, 9], [10, 11, 12]]])\n",
    "\n",
    "print(arr[0, 1, 2])"
   ]
  },
  {
   "cell_type": "markdown",
   "id": "0ef4dd55-37fb-44e1-8569-191aacd71e8e",
   "metadata": {},
   "source": [
    "#### Explain Example\n",
    "\n",
    "```python\n",
    "arr[0, 1, 2] prints the value 6.\n",
    "\n",
    "And this is why:\n",
    "\n",
    "The first number represents the first dimension, which contains two arrays:\n",
    "[[1, 2, 3], [4, 5, 6]]\n",
    "and:\n",
    "[[7, 8, 9], [10, 11, 12]]\n",
    "Since we selected 0, we are left with the first array:\n",
    "[[1, 2, 3], [4, 5, 6]]\n",
    "\n",
    "The second number represents the second dimension, which also contains two arrays:\n",
    "[1, 2, 3]\n",
    "and:\n",
    "[4, 5, 6]\n",
    "Since we selected 1, we are left with the second array:\n",
    "[4, 5, 6]\n",
    "\n",
    "The third number represents the third dimension, which contains three values:\n",
    "4\n",
    "5\n",
    "6\n",
    "Since we selected 2, we end up with the third value:\n",
    "6\n",
    "```\n",
    "\n",
    "\n"
   ]
  },
  {
   "cell_type": "markdown",
   "id": "0e75e0db-c0e2-4f80-8eb1-bdd78b8ef7d8",
   "metadata": {},
   "source": [
    "#### Slicing Arrays\n",
    "\n",
    "> Slicing in python means taking elements from one given index to another given index\n",
    ">\n",
    "> We pass slice instead of index like this: **[start:end]**\n",
    ">\n",
    "> We can also define the step, like this: **[start:end:step]**"
   ]
  },
  {
   "cell_type": "code",
   "execution_count": 4,
   "id": "c1696c13-71da-489f-bf4f-e51169c8ff0c",
   "metadata": {},
   "outputs": [
    {
     "name": "stdout",
     "output_type": "stream",
     "text": [
      "[5 6 7]\n"
     ]
    }
   ],
   "source": [
    "arr = np.array([1, 2, 3, 4, 5, 6, 7])\n",
    "\n",
    "print(arr[4:])"
   ]
  },
  {
   "cell_type": "code",
   "execution_count": 5,
   "id": "a8defdb9-ba44-44e2-9ac5-3c787b89d148",
   "metadata": {},
   "outputs": [
    {
     "name": "stdout",
     "output_type": "stream",
     "text": [
      "[1 2 3 4]\n"
     ]
    }
   ],
   "source": [
    "arr = np.array([1, 2, 3, 4, 5, 6, 7])\n",
    "\n",
    "print(arr[:4])"
   ]
  },
  {
   "cell_type": "code",
   "execution_count": 6,
   "id": "121ddf53-743b-468c-a042-a4018a74dba8",
   "metadata": {},
   "outputs": [
    {
     "name": "stdout",
     "output_type": "stream",
     "text": [
      "[1 2 3 4 5 6 7]\n"
     ]
    }
   ],
   "source": [
    "arr = np.array([1, 2, 3, 4, 5, 6, 7])\n",
    "\n",
    "print(arr[:])"
   ]
  },
  {
   "cell_type": "code",
   "execution_count": 7,
   "id": "5ad3a926-7e0d-4492-bc28-0c55c3f9fdfb",
   "metadata": {},
   "outputs": [
    {
     "name": "stdout",
     "output_type": "stream",
     "text": [
      "[1 2 3 4 5 6 7]\n"
     ]
    }
   ],
   "source": [
    "arr = np.array([1, 2, 3, 4, 5, 6, 7])\n",
    "\n",
    "print(arr[::1])"
   ]
  },
  {
   "cell_type": "code",
   "execution_count": 8,
   "id": "bee0bcb3-c370-4fef-9ceb-c82abbdc468f",
   "metadata": {},
   "outputs": [
    {
     "name": "stdout",
     "output_type": "stream",
     "text": [
      "[1 3 5 7]\n"
     ]
    }
   ],
   "source": [
    "arr = np.array([1, 2, 3, 4, 5, 6, 7])\n",
    "\n",
    "print(arr[::2])"
   ]
  },
  {
   "cell_type": "markdown",
   "id": "a458bf4f-d10a-4243-8735-63ea62eb4edb",
   "metadata": {},
   "source": [
    "#### Slicing 2D array"
   ]
  },
  {
   "cell_type": "code",
   "execution_count": 9,
   "id": "317e3573-d56a-4403-b979-fdde53abf657",
   "metadata": {},
   "outputs": [
    {
     "name": "stdout",
     "output_type": "stream",
     "text": [
      "[7 8 9]\n"
     ]
    }
   ],
   "source": [
    "arr = np.array([[1, 2, 3, 4, 5], [6, 7, 8, 9, 10]])\n",
    "\n",
    "print(arr[1, 1:4])"
   ]
  },
  {
   "cell_type": "code",
   "execution_count": 10,
   "id": "4dae4750-533e-47c9-94e7-9c685d285d9e",
   "metadata": {},
   "outputs": [
    {
     "name": "stdout",
     "output_type": "stream",
     "text": [
      "[3 8]\n"
     ]
    }
   ],
   "source": [
    "# From both elements, return index 2:\n",
    "\n",
    "arr = np.array([[1, 2, 3, 4, 5], [6, 7, 8, 9, 10]])\n",
    "\n",
    "print(arr[0:2, 2])"
   ]
  },
  {
   "cell_type": "code",
   "execution_count": 11,
   "id": "48f4d678-826e-477a-bd93-db3ed4ca6181",
   "metadata": {},
   "outputs": [
    {
     "name": "stdout",
     "output_type": "stream",
     "text": [
      "[[2 3 4]\n",
      " [7 8 9]]\n"
     ]
    }
   ],
   "source": [
    "# From both elements, slice index 1 to index 4 (not included), this will return a 2-D array:\n",
    "\n",
    "arr = np.array([[1, 2, 3, 4, 5], [6, 7, 8, 9, 10]])\n",
    "\n",
    "print(arr[0:2, 1:4])"
   ]
  },
  {
   "cell_type": "markdown",
   "id": "5c9f018d-ca3e-4e66-8d2c-a427de613b9a",
   "metadata": {},
   "source": [
    "#### Checking the Data Type of an Array\n",
    "* *The NumPy array object has a property called dtype that returns the data type of the array:*"
   ]
  },
  {
   "cell_type": "code",
   "execution_count": 12,
   "id": "ed0f917b-05eb-456f-aa4e-cd211ea95322",
   "metadata": {},
   "outputs": [
    {
     "name": "stdout",
     "output_type": "stream",
     "text": [
      "int32\n"
     ]
    }
   ],
   "source": [
    "arr = np.array([1, 2, 3, 4])\n",
    "\n",
    "print(arr.dtype)"
   ]
  },
  {
   "cell_type": "code",
   "execution_count": 13,
   "id": "43b1b69b-3a63-4498-b657-c97f081fedce",
   "metadata": {},
   "outputs": [
    {
     "name": "stdout",
     "output_type": "stream",
     "text": [
      "float64\n"
     ]
    }
   ],
   "source": [
    "arr = np.array([1.1, 2.3, 3.4, 4.2])\n",
    "\n",
    "print(arr.dtype)"
   ]
  },
  {
   "cell_type": "markdown",
   "id": "349049cc-839b-4a5e-866f-ee537b4df190",
   "metadata": {},
   "source": [
    "#### Converting Data Type on Existing Arrays\n",
    "> The best way to change the data type of an existing array, is to make a copy of the array with the astype() method."
   ]
  },
  {
   "cell_type": "code",
   "execution_count": 15,
   "id": "0125acd2-659d-43fa-8d8d-a834bbeee4b0",
   "metadata": {},
   "outputs": [
    {
     "name": "stdout",
     "output_type": "stream",
     "text": [
      "[1 2 3]\n",
      "int32\n"
     ]
    }
   ],
   "source": [
    "arr = np.array([1.1, 2.1, 3.1])   # Float type data\n",
    "\n",
    "newarr = arr.astype('i')\n",
    "\n",
    "print(newarr)\n",
    "print(newarr.dtype)"
   ]
  },
  {
   "cell_type": "code",
   "execution_count": 16,
   "id": "d2176cb5-8f8c-4fc9-832d-2980f9e9c10a",
   "metadata": {},
   "outputs": [
    {
     "name": "stdout",
     "output_type": "stream",
     "text": [
      "[1 2 3]\n",
      "int32\n"
     ]
    }
   ],
   "source": [
    "arr = np.array([1.1, 2.1, 3.1])\n",
    "\n",
    "newarr = arr.astype(int)\n",
    "\n",
    "print(newarr)\n",
    "print(newarr.dtype)"
   ]
  },
  {
   "cell_type": "code",
   "execution_count": 17,
   "id": "fb38efb5-cddd-4470-9886-70bb71e5f849",
   "metadata": {},
   "outputs": [
    {
     "name": "stdout",
     "output_type": "stream",
     "text": [
      "[ True False  True]\n",
      "bool\n"
     ]
    }
   ],
   "source": [
    "arr = np.array([1, 0, 3])\n",
    "\n",
    "newarr = arr.astype(bool)\n",
    "\n",
    "print(newarr)\n",
    "print(newarr.dtype)"
   ]
  },
  {
   "cell_type": "markdown",
   "id": "9c9925eb-07d9-475f-8046-06c3d5931fc3",
   "metadata": {},
   "source": [
    "#### NumPy Array Copy vs View\n",
    "\n",
    "> ***The main difference between a copy and a view of an array is that the copy is a new array, and the view is just a view of the original array.***\n",
    ">\n",
    "> **The copy owns the data and any changes made to the copy will not affect original array, and any changes made to the original array will not affect the copy.**\n",
    ">\n",
    "> **The view does not own the data and any changes made to the view will affect the original array, and any changes made to the original array will affect the view.**"
   ]
  },
  {
   "cell_type": "code",
   "execution_count": 20,
   "id": "329786cd-6c2b-4f82-a7c5-4d44d3f48141",
   "metadata": {},
   "outputs": [
    {
     "name": "stdout",
     "output_type": "stream",
     "text": [
      "[42  2  3  4  5]\n",
      "[1 2 3 4 5]\n"
     ]
    }
   ],
   "source": [
    "# Make a copy, change the original array, and display both arrays:\n",
    "\n",
    "arr = np.array([1, 2, 3, 4, 5])\n",
    "x = arr.copy()                    # Copy of the original Array\n",
    "arr[0] = 42                       # changes made in the original Array\n",
    "\n",
    "print(arr)\n",
    "print(x)\n",
    "\n",
    "# The copy SHOULD NOT be affected by the changes made to the original array."
   ]
  },
  {
   "cell_type": "code",
   "execution_count": 22,
   "id": "1d5b2ae5-7dc3-463c-b836-57d6c5354657",
   "metadata": {},
   "outputs": [
    {
     "name": "stdout",
     "output_type": "stream",
     "text": [
      "[42  2  3  4  5]\n",
      "[42  2  3  4  5]\n"
     ]
    }
   ],
   "source": [
    "# Make a view, change the original array, and display both arrays:\n",
    "\n",
    "arr = np.array([1, 2, 3, 4, 5])\n",
    "x = arr.view()                    # View of the original Array\n",
    "arr[0] = 42                       # changes made in the original Array\n",
    "print(arr)\n",
    "print(x)\n",
    "\n",
    "# The view SHOULD be affected by the changes made to the original array."
   ]
  },
  {
   "cell_type": "code",
   "execution_count": 25,
   "id": "6a0a9223-c28a-4ee2-b979-f73f65358af9",
   "metadata": {},
   "outputs": [
    {
     "name": "stdout",
     "output_type": "stream",
     "text": [
      "[31  2  3  4  5]\n",
      "[31  2  3  4  5]\n"
     ]
    }
   ],
   "source": [
    "# Make a view, change the view, and display both arrays:\n",
    "\n",
    "arr = np.array([1, 2, 3, 4, 5])\n",
    "x = arr.view()\n",
    "x[0] = 31\n",
    "\n",
    "print(arr)\n",
    "print(x)\n",
    "\n",
    "# The original array SHOULD be affected by the changes made to the view."
   ]
  },
  {
   "cell_type": "markdown",
   "id": "9f2426bb-c7c0-4a5c-b0a2-8d97f93f206d",
   "metadata": {},
   "source": [
    "#### Shape of an Array\n",
    "> The shape of an array is the number of elements in each dimension."
   ]
  },
  {
   "cell_type": "code",
   "execution_count": 4,
   "id": "4d753e19-1674-4a39-9b5f-a68211e6a7ca",
   "metadata": {},
   "outputs": [
    {
     "name": "stdout",
     "output_type": "stream",
     "text": [
      "(2, 4)\n"
     ]
    }
   ],
   "source": [
    "arr = np.array([[1, 2, 3, 4], [5, 6, 7, 8]])\n",
    "\n",
    "print(arr.shape)\n",
    "\n",
    "# The example above returns (2, 4), which means that the array has 2 dimensions, where the first dimension has 2 elements and the second has 4.\n",
    "# The example above returns (2, 4), which means that the array has 2 dimensions, where both array have 4 elements."
   ]
  },
  {
   "cell_type": "code",
   "execution_count": 5,
   "id": "4a2e70dc-986a-4a30-9488-199622bb7799",
   "metadata": {},
   "outputs": [
    {
     "name": "stdout",
     "output_type": "stream",
     "text": [
      "(2, 2, 4)\n"
     ]
    }
   ],
   "source": [
    "arr = np.array([[[1, 2, 3, 4],[1, 2, 3, 4]], [[1, 2, 3, 4],[5, 6, 7, 8]]])\n",
    "\n",
    "print(arr.shape)"
   ]
  },
  {
   "cell_type": "code",
   "execution_count": 6,
   "id": "2176a941-7da9-4cdd-a2c6-09be8738700a",
   "metadata": {},
   "outputs": [
    {
     "name": "stdout",
     "output_type": "stream",
     "text": [
      "(1, 1, 4)\n"
     ]
    }
   ],
   "source": [
    "arr = np.array([[[1, 2, 3, 4]]])\n",
    "\n",
    "print(arr.shape)\n"
   ]
  },
  {
   "cell_type": "code",
   "execution_count": 14,
   "id": "04437e4c-63bc-4ddc-adb9-06db37a4d83e",
   "metadata": {},
   "outputs": [
    {
     "name": "stdout",
     "output_type": "stream",
     "text": [
      "[[[ 0  1  2]\n",
      "  [ 3  4  5]]\n",
      "\n",
      " [[ 6  7  8]\n",
      "  [ 9 10 11]]\n",
      "\n",
      " [[12 13 14]\n",
      "  [15 16 17]]\n",
      "\n",
      " [[18 19 20]\n",
      "  [21 22 23]]\n",
      "\n",
      " [[24 25 26]\n",
      "  [27 28 29]]]\n",
      "(5, 2, 3)\n"
     ]
    }
   ],
   "source": [
    "arr = np.arange(30)\n",
    "arr_reshape = arr.reshape((5,2, 3))\n",
    "print(arr_reshape)\n",
    "print(arr_reshape.shape)"
   ]
  },
  {
   "cell_type": "markdown",
   "id": "ae8efc2a-791e-44e4-b444-b9922df5201c",
   "metadata": {},
   "source": [
    "#### Reshape From 1-D to 2-D"
   ]
  },
  {
   "cell_type": "code",
   "execution_count": 34,
   "id": "11d55cac-3db1-4605-8df5-c2f6d7c0b967",
   "metadata": {},
   "outputs": [
    {
     "name": "stdout",
     "output_type": "stream",
     "text": [
      "[[ 1  2  3]\n",
      " [ 4  5  6]\n",
      " [ 7  8  9]\n",
      " [10 11 12]]\n"
     ]
    }
   ],
   "source": [
    "# Convert the following 1-D array with 12 elements into a 2-D array.\n",
    "\n",
    "# The outermost dimension will have 4 arrays, each with 3 elements:\n",
    "\n",
    "arr = np.array([1, 2, 3, 4, 5, 6, 7, 8, 9, 10, 11, 12])\n",
    "\n",
    "newarr = arr.reshape(4, 3)\n",
    "\n",
    "print(newarr)"
   ]
  },
  {
   "cell_type": "code",
   "execution_count": 35,
   "id": "10819c9a-ac75-476a-993b-81d5a0a3b50c",
   "metadata": {},
   "outputs": [
    {
     "name": "stdout",
     "output_type": "stream",
     "text": [
      "[[[ 1  2]\n",
      "  [ 3  4]\n",
      "  [ 5  6]]\n",
      "\n",
      " [[ 7  8]\n",
      "  [ 9 10]\n",
      "  [11 12]]]\n"
     ]
    }
   ],
   "source": [
    "# Convert the following 1-D array with 12 elements into a 3-D array.\n",
    "\n",
    "# The outermost dimension will have 2 arrays that contains 3 arrays, each with 2 elements:\n",
    "\n",
    "arr = np.array([1, 2, 3, 4, 5, 6, 7, 8, 9, 10, 11, 12])\n",
    "\n",
    "newarr = arr.reshape(2, 3, 2)\n",
    "\n",
    "print(newarr)"
   ]
  },
  {
   "cell_type": "markdown",
   "id": "2477e6e2-765b-42ab-a0f9-20a45df867cc",
   "metadata": {},
   "source": [
    "#### Can We Reshape Into any Shape?\n",
    "\n",
    "> * Yes, as long as the elements required for reshaping are equal in both shapes.\n",
    ">\n",
    "> * We can reshape an 8 elements 1D array into 4 elements in 2 rows 2D array\n",
    ">\n",
    "> * But we cannot reshape it into a 3 elements 3 rows 2D array as that would require 3x3 = 9 elements."
   ]
  },
  {
   "cell_type": "code",
   "execution_count": 37,
   "id": "a99db47e-0900-4e0b-aa59-8fdac4839a86",
   "metadata": {},
   "outputs": [
    {
     "name": "stdout",
     "output_type": "stream",
     "text": [
      "[[1 2 3 4]\n",
      " [5 6 7 8]]\n"
     ]
    }
   ],
   "source": [
    "arr = np.array([1, 2, 3, 4, 5, 6, 7, 8])\n",
    "\n",
    "newarr = arr.reshape(2, 4)      \n",
    "print(newarr)"
   ]
  },
  {
   "cell_type": "code",
   "execution_count": 38,
   "id": "44256808-1c18-4d8b-b181-9cc520e9a0b2",
   "metadata": {},
   "outputs": [
    {
     "ename": "ValueError",
     "evalue": "cannot reshape array of size 8 into shape (3,3)",
     "output_type": "error",
     "traceback": [
      "\u001b[1;31m---------------------------------------------------------------------------\u001b[0m",
      "\u001b[1;31mValueError\u001b[0m                                Traceback (most recent call last)",
      "Cell \u001b[1;32mIn[38], line 3\u001b[0m\n\u001b[0;32m      1\u001b[0m arr \u001b[38;5;241m=\u001b[39m np\u001b[38;5;241m.\u001b[39marray([\u001b[38;5;241m1\u001b[39m, \u001b[38;5;241m2\u001b[39m, \u001b[38;5;241m3\u001b[39m, \u001b[38;5;241m4\u001b[39m, \u001b[38;5;241m5\u001b[39m, \u001b[38;5;241m6\u001b[39m, \u001b[38;5;241m7\u001b[39m, \u001b[38;5;241m8\u001b[39m])\n\u001b[1;32m----> 3\u001b[0m newarr \u001b[38;5;241m=\u001b[39m arr\u001b[38;5;241m.\u001b[39mreshape(\u001b[38;5;241m3\u001b[39m, \u001b[38;5;241m3\u001b[39m)\n\u001b[0;32m      5\u001b[0m \u001b[38;5;28mprint\u001b[39m(newarr)\n",
      "\u001b[1;31mValueError\u001b[0m: cannot reshape array of size 8 into shape (3,3)"
     ]
    }
   ],
   "source": [
    "arr = np.array([1, 2, 3, 4, 5, 6, 7, 8])\n",
    "\n",
    "newarr = arr.reshape(3, 3)    # \n",
    "\n",
    "print(newarr)"
   ]
  },
  {
   "cell_type": "markdown",
   "id": "b244a013-ae3d-4357-8a54-dea31ea92530",
   "metadata": {},
   "source": [
    "#### Flattening the arrays\n",
    "\n",
    "> Flattening array means converting a multidimensional array into a 1D array.\n",
    ">\n",
    "> We can use reshape(-1) to do this."
   ]
  },
  {
   "cell_type": "code",
   "execution_count": 2,
   "id": "952dc10e-fbb6-4718-b435-db0423355c0f",
   "metadata": {},
   "outputs": [
    {
     "name": "stdout",
     "output_type": "stream",
     "text": [
      "[1 2 3 4 5 6]\n"
     ]
    }
   ],
   "source": [
    "arr = np.array([[1, 2, 3], [4, 5, 6]])\n",
    "\n",
    "newarr = arr.reshape(-1)\n",
    "\n",
    "print(newarr)"
   ]
  },
  {
   "cell_type": "markdown",
   "id": "7445125f-653b-4ba3-80bd-062d865a08ce",
   "metadata": {},
   "source": [
    "#### Iterating Arrays\n",
    "\n",
    "> * Iterating means going through elements one by one.\n",
    ">\n",
    "> * As we deal with multi-dimensional arrays in numpy, we can do this using basic for loop of python.\n",
    ">\n",
    "> * If we iterate on a 1-D array it will go through each element one by one."
   ]
  },
  {
   "cell_type": "code",
   "execution_count": 2,
   "id": "b6520163-968a-4bbb-ae42-bf7fcbb88cb2",
   "metadata": {},
   "outputs": [
    {
     "name": "stdout",
     "output_type": "stream",
     "text": [
      "1\n",
      "2\n",
      "3\n"
     ]
    }
   ],
   "source": [
    "# Iterate on the elements of the following 1-D array:\n",
    "\n",
    "arr = np.array([1, 2, 3])\n",
    "\n",
    "for x in arr:\n",
    "  print(x)"
   ]
  },
  {
   "cell_type": "code",
   "execution_count": 4,
   "id": "80c41a61-3452-4839-a029-80770089805d",
   "metadata": {},
   "outputs": [
    {
     "name": "stdout",
     "output_type": "stream",
     "text": [
      "1\n",
      "2\n",
      "3\n",
      "4\n",
      "5\n",
      "6\n"
     ]
    }
   ],
   "source": [
    "# Iterate on each scalar element of the 2-D array:\n",
    "\n",
    "arr = np.array([[1, 2, 3], [4, 5, 6]])\n",
    "\n",
    "for x in arr:\n",
    "  for y in x:\n",
    "    print(y)"
   ]
  },
  {
   "cell_type": "markdown",
   "id": "7586675d-cf36-4a48-868a-40b7c1ac6ba6",
   "metadata": {},
   "source": [
    "> ***If we iterate on a n-D array it will go through n-1th dimension one by one.***"
   ]
  },
  {
   "cell_type": "markdown",
   "id": "8a0f0e51-0ddc-4cba-87f4-96bfb8d6754b",
   "metadata": {},
   "source": [
    "### Iterating 3-D Arrays\n",
    "> * In a 3-D array it will go through all the 2-D arrays."
   ]
  },
  {
   "cell_type": "code",
   "execution_count": 7,
   "id": "7c14aa26-dca0-442d-a072-aa248ccb2ef0",
   "metadata": {},
   "outputs": [
    {
     "name": "stdout",
     "output_type": "stream",
     "text": [
      "[[1 2 3]\n",
      " [4 5 6]]\n",
      "[[ 7  8  9]\n",
      " [10 11 12]]\n"
     ]
    }
   ],
   "source": [
    "arr = np.array([[[1, 2, 3], [4, 5, 6]], [[7, 8, 9], [10, 11, 12]]])\n",
    "\n",
    "for x in arr:\n",
    "  print(x)"
   ]
  },
  {
   "cell_type": "markdown",
   "id": "7f478d09-6680-4fc3-a83e-7575481b199f",
   "metadata": {},
   "source": [
    "> * ***To return the actual values, the scalars, we have to iterate the arrays in each dimension.***"
   ]
  },
  {
   "cell_type": "code",
   "execution_count": 8,
   "id": "6d9ccbed-44a1-4729-bdd5-0cae83b1b7e3",
   "metadata": {},
   "outputs": [
    {
     "name": "stdout",
     "output_type": "stream",
     "text": [
      "1\n",
      "2\n",
      "3\n",
      "4\n",
      "5\n",
      "6\n",
      "7\n",
      "8\n",
      "9\n",
      "10\n",
      "11\n",
      "12\n"
     ]
    }
   ],
   "source": [
    "arr = np.array([[[1, 2, 3], [4, 5, 6]], [[7, 8, 9], [10, 11, 12]]])\n",
    "\n",
    "for x in arr:\n",
    "  for y in x:\n",
    "    for z in y:\n",
    "      print(z)"
   ]
  },
  {
   "cell_type": "markdown",
   "id": "ab357213-1c64-4e13-a989-3a164ac7603a",
   "metadata": {},
   "source": [
    "### Iterating Arrays Using nditer()\n",
    "\n",
    "> * The function nditer() is a helping function that can be used from very basic to very advanced iterations. It solves some basic issues which we face in iteration, lets go through it with examples.\n",
    "\n",
    "### Iterating on Each Scalar Element\n",
    "> * In basic for loops, iterating through each scalar of an array we need to use n for loops which can be difficult to write for arrays with very high dimensionality."
   ]
  },
  {
   "cell_type": "code",
   "execution_count": 10,
   "id": "2d76c7dd-47ed-4a3a-8cc0-5b53a6f7171a",
   "metadata": {},
   "outputs": [
    {
     "name": "stdout",
     "output_type": "stream",
     "text": [
      "1\n",
      "2\n",
      "3\n",
      "4\n",
      "5\n",
      "6\n",
      "7\n",
      "8\n"
     ]
    }
   ],
   "source": [
    "# Iterate through the following 3-D array:\n",
    "\n",
    "arr = np.array([[[1, 2], [3, 4]], [[5, 6], [7, 8]]])\n",
    "\n",
    "for x in np.nditer(arr):\n",
    "  print(x)"
   ]
  },
  {
   "cell_type": "code",
   "execution_count": 44,
   "id": "33421a9d-eb3e-469f-8cb8-97c8a990775b",
   "metadata": {},
   "outputs": [
    {
     "name": "stdout",
     "output_type": "stream",
     "text": [
      "3\n",
      "4\n"
     ]
    }
   ],
   "source": [
    "# Iterate Specific Data\n",
    "\n",
    "arr = np.array([[[1, 2], [3, 4]], [[5, 6], [7, 8]]])\n",
    "\n",
    "for x in np.nditer(arr[0,1:]):\n",
    "  print(x)"
   ]
  },
  {
   "cell_type": "markdown",
   "id": "88b2268e-d4f0-451c-b7cb-ad59bff79f25",
   "metadata": {},
   "source": [
    "### Enumerated Iteration Using ndenumerate()\n",
    "\n",
    "> * Enumeration means mentioning sequence number of somethings one by one.\n",
    ">\n",
    "> * Sometimes we require corresponding index of the element while iterating, the ndenumerate() method can be used for those usecases.\n"
   ]
  },
  {
   "cell_type": "code",
   "execution_count": 47,
   "id": "95c3ac35-18a7-4097-b717-35728bb83ed1",
   "metadata": {},
   "outputs": [
    {
     "name": "stdout",
     "output_type": "stream",
     "text": [
      "(0,) 1\n",
      "(1,) 2\n",
      "(2,) 3\n"
     ]
    }
   ],
   "source": [
    "# 1-D array\n",
    "\n",
    "arr = np.array([1, 2, 3])\n",
    "\n",
    "for idx, x in np.ndenumerate(arr):\n",
    "  print(idx, x)"
   ]
  },
  {
   "cell_type": "code",
   "execution_count": 48,
   "id": "26b656d1-6ec8-4b6b-a8db-69a4cee83677",
   "metadata": {},
   "outputs": [
    {
     "name": "stdout",
     "output_type": "stream",
     "text": [
      "(0, 0) 1\n",
      "(0, 1) 2\n",
      "(0, 2) 3\n",
      "(0, 3) 4\n",
      "(1, 0) 5\n",
      "(1, 1) 6\n",
      "(1, 2) 7\n",
      "(1, 3) 8\n"
     ]
    }
   ],
   "source": [
    "# 2D array\n",
    "\n",
    "arr = np.array([[1, 2, 3, 4], [5, 6, 7, 8]])\n",
    "\n",
    "for idx, x in np.ndenumerate(arr):\n",
    "  print(idx, x)"
   ]
  },
  {
   "cell_type": "code",
   "execution_count": 49,
   "id": "4f60b6b5-a1e8-4d7e-b814-e00610abf4aa",
   "metadata": {},
   "outputs": [
    {
     "name": "stdout",
     "output_type": "stream",
     "text": [
      "(0, 0, 0) 1\n",
      "(0, 0, 1) 2\n",
      "(0, 1, 0) 3\n",
      "(0, 1, 1) 4\n",
      "(1, 0, 0) 5\n",
      "(1, 0, 1) 6\n",
      "(1, 1, 0) 7\n",
      "(1, 1, 1) 8\n"
     ]
    }
   ],
   "source": [
    "arr = np.array([[[1, 2], [3, 4]], [[5, 6], [7, 8]]])\n",
    "for idx, x in np.ndenumerate(arr):\n",
    "  print(idx, x)"
   ]
  },
  {
   "cell_type": "markdown",
   "id": "d684195c-5c2c-4184-a94b-fc8fe609edc7",
   "metadata": {},
   "source": [
    "### Joining Two Array"
   ]
  },
  {
   "cell_type": "code",
   "execution_count": null,
   "id": "bd62e56b-0b66-427d-b756-61dbfb3ad7ae",
   "metadata": {},
   "outputs": [],
   "source": []
  },
  {
   "cell_type": "code",
   "execution_count": 50,
   "id": "7348232e-6db5-4b1a-bf03-7c43461965c2",
   "metadata": {},
   "outputs": [
    {
     "name": "stdout",
     "output_type": "stream",
     "text": [
      "[1 2 3 4 5 6]\n"
     ]
    }
   ],
   "source": [
    "arr1 = np.array([1, 2, 3])\n",
    "\n",
    "arr2 = np.array([4, 5, 6])\n",
    "\n",
    "arr = np.concatenate((arr1, arr2))\n",
    "\n",
    "print(arr)"
   ]
  },
  {
   "cell_type": "code",
   "execution_count": 61,
   "id": "5e4e6db2-0aa7-42f9-b382-80c8c9ff979e",
   "metadata": {},
   "outputs": [
    {
     "name": "stdout",
     "output_type": "stream",
     "text": [
      "[[1 2]\n",
      " [3 4]\n",
      " [5 6]\n",
      " [7 8]]\n"
     ]
    }
   ],
   "source": [
    "arr1 = np.array([[1, 2], [3, 4]])\n",
    "\n",
    "arr2 = np.array([[5, 6], [7, 8]])\n",
    "\n",
    "arr = np.concatenate((arr1, arr2))\n",
    "\n",
    "print(arr)"
   ]
  },
  {
   "cell_type": "code",
   "execution_count": 62,
   "id": "89c5f9b6-57c4-438a-b667-7d38ece89a17",
   "metadata": {},
   "outputs": [
    {
     "name": "stdout",
     "output_type": "stream",
     "text": [
      "[[1 2 5 6]\n",
      " [3 4 7 8]]\n"
     ]
    }
   ],
   "source": [
    "arr1 = np.array([[1, 2], [3, 4]])\n",
    "\n",
    "arr2 = np.array([[5, 6], [7, 8]])\n",
    "\n",
    "arr = np.concatenate((arr1, arr2), axis=1)\n",
    "\n",
    "print(arr)"
   ]
  },
  {
   "cell_type": "markdown",
   "id": "59124f7b-66e0-4e98-bffb-ac6cda0734aa",
   "metadata": {},
   "source": [
    "#### Joining Arrays Using Stack Functions\n",
    "\n",
    "> * Stacking is same as concatenation, the only difference is that stacking is done along a new axis.\n",
    ">\n",
    "> * We can concatenate two 1-D arrays along the second axis which would result in putting them one over the other, ie. stacking.\n",
    ">\n",
    "> * We pass a sequence of arrays that we want to join to the stack() method along with the axis. If axis is not explicitly passed it is taken as 0."
   ]
  },
  {
   "cell_type": "code",
   "execution_count": 68,
   "id": "53a7ae82-cd89-4c74-bad7-ec580cfb8d73",
   "metadata": {},
   "outputs": [
    {
     "name": "stdout",
     "output_type": "stream",
     "text": [
      "[[1 2 3]\n",
      " [4 5 6]]\n"
     ]
    }
   ],
   "source": [
    "arr1 = np.array([1, 2, 3])\n",
    "\n",
    "arr2 = np.array([4, 5, 6])\n",
    "\n",
    "arr = np.stack((arr1, arr2))\n",
    "\n",
    "print(arr)"
   ]
  },
  {
   "cell_type": "code",
   "execution_count": 77,
   "id": "fde05dc4-a570-4a41-92ec-89595220d5ba",
   "metadata": {},
   "outputs": [
    {
     "name": "stdout",
     "output_type": "stream",
     "text": [
      "[[1 4 7]\n",
      " [2 5 8]\n",
      " [3 6 9]]\n"
     ]
    }
   ],
   "source": [
    "arr1 = np.array([1, 2, 3])\n",
    "\n",
    "arr2 = np.array([4, 5, 6])\n",
    "\n",
    "arr3 = np.array([7, 8, 9])\n",
    "\n",
    "arr = np.stack((arr1, arr2, arr3), axis=1)\n",
    "\n",
    "print(arr)"
   ]
  },
  {
   "cell_type": "code",
   "execution_count": 76,
   "id": "0617fc12-f577-4b65-a9bf-d8d82f362cae",
   "metadata": {},
   "outputs": [
    {
     "name": "stdout",
     "output_type": "stream",
     "text": [
      "[1 2 3 4 5 6 7 8 9]\n"
     ]
    }
   ],
   "source": [
    "# Stacking along Rows\n",
    "\n",
    "arr1 = np.array([1, 2, 3])\n",
    "\n",
    "arr2 = np.array([4, 5, 6])\n",
    "\n",
    "arr3 = np.array([7, 8, 9])\n",
    "\n",
    "arr = np.hstack((arr1, arr2, arr3))\n",
    "\n",
    "print(arr)"
   ]
  },
  {
   "cell_type": "code",
   "execution_count": 75,
   "id": "4b11b0cc-f886-4e9a-bbfe-7c61accc6521",
   "metadata": {},
   "outputs": [
    {
     "name": "stdout",
     "output_type": "stream",
     "text": [
      "[[1 2 3]\n",
      " [4 5 6]\n",
      " [7 8 9]]\n"
     ]
    }
   ],
   "source": [
    "# Stacking along Columns\n",
    "\n",
    "arr1 = np.array([1, 2, 3])\n",
    "\n",
    "arr2 = np.array([4, 5, 6])\n",
    "\n",
    "arr3 = np.array([7, 8, 9])\n",
    "\n",
    "arr = np.vstack((arr1, arr2, arr3))\n",
    "\n",
    "print(arr)"
   ]
  },
  {
   "cell_type": "code",
   "execution_count": 74,
   "id": "68446dc3-6237-4ee4-bbb7-05176f9f2ea2",
   "metadata": {},
   "outputs": [
    {
     "name": "stdout",
     "output_type": "stream",
     "text": [
      "[[[1 4 7]\n",
      "  [2 5 8]\n",
      "  [3 6 9]]]\n"
     ]
    }
   ],
   "source": [
    "# Stacking Along Height (depth)\n",
    "\n",
    "arr1 = np.array([1, 2, 3])\n",
    "\n",
    "arr2 = np.array([4, 5, 6])\n",
    "\n",
    "arr3 = np.array([7, 8, 9])\n",
    "\n",
    "arr = np.dstack((arr1, arr2, arr3))\n",
    "\n",
    "print(arr)"
   ]
  },
  {
   "cell_type": "code",
   "execution_count": null,
   "id": "8785cb9d-7343-41fb-be0a-5fca912bb998",
   "metadata": {},
   "outputs": [],
   "source": [
    "\n",
    "\n"
   ]
  },
  {
   "cell_type": "markdown",
   "id": "5c474c2c-f588-4a1f-92fe-ca48b3f47413",
   "metadata": {},
   "source": [
    "#### Searching Arrays\n",
    "\n",
    "> ***You can search an array for a certain value, and return the indexes that get a match.***\n",
    "\n",
    ">\n",
    "> ***To search an array, use the where() method.***"
   ]
  },
  {
   "cell_type": "code",
   "execution_count": 78,
   "id": "af2e8c85-b26c-4848-8213-b7438e3cf6b4",
   "metadata": {},
   "outputs": [
    {
     "name": "stdout",
     "output_type": "stream",
     "text": [
      "(array([3, 5, 6], dtype=int64),)\n"
     ]
    }
   ],
   "source": [
    "arr = np.array([1, 2, 3, 4, 5, 4, 4])\n",
    "\n",
    "x = np.where(arr == 4)\n",
    "\n",
    "print(x)"
   ]
  },
  {
   "cell_type": "code",
   "execution_count": 81,
   "id": "b4dc3371-abb0-4f18-b62c-90a97640db88",
   "metadata": {},
   "outputs": [
    {
     "name": "stdout",
     "output_type": "stream",
     "text": [
      "(array([1, 3, 5, 7], dtype=int64),)\n"
     ]
    }
   ],
   "source": [
    "# Find the indexes where the values are even:\n",
    "\n",
    "arr = np.array([1, 2, 3, 4, 5, 6, 7, 8])\n",
    "\n",
    "x = np.where(arr%2 == 0)\n",
    "\n",
    "print(x)"
   ]
  },
  {
   "cell_type": "code",
   "execution_count": 82,
   "id": "36c0ea70-7e9c-4ecb-9db0-9b13ee4254f6",
   "metadata": {},
   "outputs": [
    {
     "name": "stdout",
     "output_type": "stream",
     "text": [
      "(array([0, 2, 4, 6], dtype=int64),)\n"
     ]
    }
   ],
   "source": [
    "# Find the indexes where the values are odd:\n",
    "\n",
    "arr = np.array([1, 2, 3, 4, 5, 6, 7, 8])\n",
    "\n",
    "x = np.where(arr%2 == 1)\n",
    "\n",
    "print(x)"
   ]
  },
  {
   "cell_type": "markdown",
   "id": "ca2a454e-09d7-4473-8bae-7a778d04fff7",
   "metadata": {},
   "source": [
    "### The searchsorted() method is assumed to be used on sorted arrays."
   ]
  },
  {
   "cell_type": "code",
   "execution_count": 84,
   "id": "1554fa00-7db4-4502-ab41-fbd0cf977c96",
   "metadata": {},
   "outputs": [
    {
     "name": "stdout",
     "output_type": "stream",
     "text": [
      "3\n"
     ]
    }
   ],
   "source": [
    "arr = np.array([6, 7, 8, 9])\n",
    "\n",
    "x = np.searchsorted(arr, 9)\n",
    "\n",
    "print(x)"
   ]
  },
  {
   "cell_type": "code",
   "execution_count": 85,
   "id": "f4366e87-7f1b-4f24-901f-78ea46db4be9",
   "metadata": {},
   "outputs": [
    {
     "name": "stdout",
     "output_type": "stream",
     "text": [
      "2\n"
     ]
    }
   ],
   "source": [
    "# Find the indexes where the value 7 should be inserted, starting from the right:\n",
    "\n",
    "arr = np.array([6, 7, 8, 9])\n",
    "\n",
    "x = np.searchsorted(arr, 7, side='right')\n",
    "\n",
    "print(x)"
   ]
  },
  {
   "cell_type": "markdown",
   "id": "5986ddbb-72ce-4f67-8924-78097de97523",
   "metadata": {},
   "source": [
    "### Sorting Arrays\n",
    "\n",
    "> * Sorting means putting elements in an ordered sequence.\n",
    ">\n",
    "> * Ordered sequence is any sequence that has an order corresponding to elements, like numeric or alphabetical, ascending or descending.\n",
    ">\n",
    "> * The NumPy ndarray object has a function called sort(), that will sort a specified array."
   ]
  },
  {
   "cell_type": "code",
   "execution_count": 87,
   "id": "a269aada-92ba-472f-a39a-d26f11a5dce5",
   "metadata": {},
   "outputs": [
    {
     "name": "stdout",
     "output_type": "stream",
     "text": [
      "[0 1 2 3]\n",
      "[3 2 0 1]\n"
     ]
    }
   ],
   "source": [
    "arr = np.array([3, 2, 0, 1])\n",
    "\n",
    "print(np.sort(arr))\n",
    "print(arr)"
   ]
  },
  {
   "cell_type": "markdown",
   "id": "df3e86e7-bf62-4f7b-9f90-b7a3ecfd8128",
   "metadata": {},
   "source": [
    "> ***Note:*** *This method returns a copy of the array, leaving the original array unchanged.*"
   ]
  },
  {
   "cell_type": "code",
   "execution_count": 89,
   "id": "0c1e4073-2fa7-4afd-a197-25dfc977963b",
   "metadata": {},
   "outputs": [
    {
     "name": "stdout",
     "output_type": "stream",
     "text": [
      "['apple' 'banana' 'cherry']\n"
     ]
    }
   ],
   "source": [
    "# Sort the array alphabetically:\n",
    "\n",
    "arr = np.array(['banana', 'cherry', 'apple'])\n",
    "\n",
    "print(np.sort(arr))"
   ]
  },
  {
   "cell_type": "code",
   "execution_count": 90,
   "id": "c6b01303-5e49-4c55-ba63-749173ca6f84",
   "metadata": {},
   "outputs": [
    {
     "name": "stdout",
     "output_type": "stream",
     "text": [
      "[[2 3 4]\n",
      " [0 1 5]]\n"
     ]
    }
   ],
   "source": [
    "# Sort a 2-D array:\n",
    "\n",
    "arr = np.array([[3, 2, 4], [5, 0, 1]])\n",
    "\n",
    "print(np.sort(arr))"
   ]
  },
  {
   "cell_type": "code",
   "execution_count": null,
   "id": "52a17545-8ea8-41dc-bf1c-c8b6f7879e4b",
   "metadata": {},
   "outputs": [],
   "source": [
    "Filtering Arrays\n",
    "\n",
    "\n",
    "\n",
    "\n"
   ]
  },
  {
   "cell_type": "markdown",
   "id": "3dca0e5d-156a-4547-86ff-c8b06b73566c",
   "metadata": {},
   "source": [
    "#### Filtering Arrays\n",
    "\n",
    "> Getting some elements out of an existing array and creating a new array out of them is called filtering.\n",
    "\n",
    "> \n",
    "> In NumPy, you filter an array using a boolean index list.\n",
    ">\n",
    "\n",
    "> A boolean index list is a list of booleans corresponding to indexes in the array."
   ]
  },
  {
   "cell_type": "code",
   "execution_count": 92,
   "id": "3233bcbc-54d3-41cd-84d4-0237d3f9b5f5",
   "metadata": {},
   "outputs": [
    {
     "name": "stdout",
     "output_type": "stream",
     "text": [
      "[41 43]\n"
     ]
    }
   ],
   "source": [
    "arr = np.array([41, 42, 43, 44])\n",
    "\n",
    "x = [True, False, True, False]\n",
    "\n",
    "newarr = arr[x]\n",
    "\n",
    "print(newarr)"
   ]
  },
  {
   "cell_type": "code",
   "execution_count": 93,
   "id": "b46f0add-7e23-4b41-9711-8f43771685a0",
   "metadata": {},
   "outputs": [
    {
     "name": "stdout",
     "output_type": "stream",
     "text": [
      "[False, False, True, True]\n",
      "[43 44]\n"
     ]
    }
   ],
   "source": [
    "arr = np.array([41, 42, 43, 44])\n",
    "\n",
    "# Create an empty list\n",
    "filter_arr = []\n",
    "\n",
    "# go through each element in arr\n",
    "for element in arr:\n",
    "  # if the element is higher than 42, set the value to True, otherwise False:\n",
    "  if element > 42:\n",
    "    filter_arr.append(True)\n",
    "  else:\n",
    "    filter_arr.append(False)\n",
    "\n",
    "newarr = arr[filter_arr]\n",
    "\n",
    "print(filter_arr)\n",
    "print(newarr)"
   ]
  },
  {
   "cell_type": "code",
   "execution_count": 94,
   "id": "8e936d72-d001-4af4-9e12-2bd0015483c3",
   "metadata": {},
   "outputs": [
    {
     "name": "stdout",
     "output_type": "stream",
     "text": [
      "[False, True, False, True, False, True, False]\n",
      "[2 4 6]\n"
     ]
    }
   ],
   "source": [
    "arr = np.array([1, 2, 3, 4, 5, 6, 7])\n",
    "\n",
    "# Create an empty list\n",
    "filter_arr = []\n",
    "\n",
    "# go through each element in arr\n",
    "for element in arr:\n",
    "  # if the element is completely divisble by 2, set the value to True, otherwise False\n",
    "  if element % 2 == 0:\n",
    "    filter_arr.append(True)\n",
    "  else:\n",
    "    filter_arr.append(False)\n",
    "\n",
    "newarr = arr[filter_arr]\n",
    "\n",
    "print(filter_arr)\n",
    "print(newarr)"
   ]
  },
  {
   "cell_type": "code",
   "execution_count": 95,
   "id": "da2220fe-fec7-4714-b1b1-8ee71e259689",
   "metadata": {},
   "outputs": [
    {
     "name": "stdout",
     "output_type": "stream",
     "text": [
      "[False False  True  True]\n",
      "[43 44]\n"
     ]
    }
   ],
   "source": [
    "arr = np.array([41, 42, 43, 44])\n",
    "\n",
    "filter_arr = arr > 42\n",
    "\n",
    "newarr = arr[filter_arr]\n",
    "\n",
    "print(filter_arr)\n",
    "print(newarr)"
   ]
  },
  {
   "cell_type": "code",
   "execution_count": 96,
   "id": "137670ef-3f7a-4962-a67b-edc965bc293b",
   "metadata": {},
   "outputs": [
    {
     "name": "stdout",
     "output_type": "stream",
     "text": [
      "[False  True False  True]\n",
      "[42 44]\n"
     ]
    }
   ],
   "source": [
    "arr = np.array([41, 42, 43, 44])\n",
    "\n",
    "filter_arr = arr % 2 == 0\n",
    "\n",
    "newarr = arr[filter_arr]\n",
    "\n",
    "print(filter_arr)\n",
    "print(newarr)"
   ]
  },
  {
   "cell_type": "markdown",
   "id": "4e0dfe1a-0bcc-4523-a48c-59153f5ba614",
   "metadata": {},
   "source": [
    "### Generate Random Numbers"
   ]
  },
  {
   "cell_type": "code",
   "execution_count": 105,
   "id": "36ec87fe-21b9-481e-b1c4-020fade1c943",
   "metadata": {},
   "outputs": [
    {
     "name": "stdout",
     "output_type": "stream",
     "text": [
      "49\n"
     ]
    }
   ],
   "source": [
    "from numpy import random # import random\n",
    "\n",
    "x = random.randint(50)   # random int number\n",
    "\n",
    "print(x)"
   ]
  },
  {
   "cell_type": "code",
   "execution_count": 108,
   "id": "31af0129-1394-4450-9363-a8cec2101ed7",
   "metadata": {},
   "outputs": [
    {
     "name": "stdout",
     "output_type": "stream",
     "text": [
      "0.8749043924731553\n"
     ]
    }
   ],
   "source": [
    "x = random.rand()   # random float number but if we put value in it , it means that creat array of float numbers\n",
    "\n",
    "print(x)"
   ]
  },
  {
   "cell_type": "code",
   "execution_count": 101,
   "id": "d10cf3be-c3bf-4fa3-8564-f414de38fc48",
   "metadata": {},
   "outputs": [
    {
     "name": "stdout",
     "output_type": "stream",
     "text": [
      "[62 99 65 52 76]\n"
     ]
    }
   ],
   "source": [
    "x=random.randint(100, size=(5))    # random number array\n",
    "\n",
    "print(x)"
   ]
  },
  {
   "cell_type": "code",
   "execution_count": 102,
   "id": "88971b16-18ae-49cb-bb42-a6a6c1f18979",
   "metadata": {},
   "outputs": [
    {
     "name": "stdout",
     "output_type": "stream",
     "text": [
      "[[34 55 35 94  6]\n",
      " [ 1 37 53 47  8]\n",
      " [20 66 63 23 50]]\n"
     ]
    }
   ],
   "source": [
    "# Generate a 2-D array with 3 rows, each row containing 5 random integers from 0 to 100:\n",
    "\n",
    "x = random.randint(100, size=(3, 5))\n",
    "\n",
    "print(x)"
   ]
  },
  {
   "cell_type": "code",
   "execution_count": 109,
   "id": "2daa99d9-db48-4027-aad9-35a70ed669c7",
   "metadata": {},
   "outputs": [
    {
     "name": "stdout",
     "output_type": "stream",
     "text": [
      "[0.27254895 0.83103424 0.44407758 0.42812558 0.35666527]\n"
     ]
    }
   ],
   "source": [
    "x = random.rand(5)\n",
    "\n",
    "print(x)"
   ]
  },
  {
   "cell_type": "code",
   "execution_count": 110,
   "id": "be893523-c26f-498c-b11a-1c15738e7177",
   "metadata": {},
   "outputs": [
    {
     "name": "stdout",
     "output_type": "stream",
     "text": [
      "[[0.23297446 0.33558643 0.06872536 0.70576433 0.5464089 ]\n",
      " [0.07700886 0.34026647 0.15657986 0.17527437 0.23754214]\n",
      " [0.41188225 0.18545187 0.69512956 0.61289877 0.42805313]]\n"
     ]
    }
   ],
   "source": [
    "# Generate a 2-D array with 3 rows, each row containing 5 random numbers:\n",
    "x = random.rand(3, 5)\n",
    "\n",
    "print(x)"
   ]
  },
  {
   "cell_type": "code",
   "execution_count": 113,
   "id": "0b79f269-e7af-431f-86c1-75c0fca2c457",
   "metadata": {},
   "outputs": [
    {
     "name": "stdout",
     "output_type": "stream",
     "text": [
      "7\n"
     ]
    }
   ],
   "source": [
    "# Return one of the values in an array:\n",
    "\n",
    "x = random.choice([3, 5, 7, 9])\n",
    "\n",
    "print(x)"
   ]
  },
  {
   "cell_type": "code",
   "execution_count": 115,
   "id": "5e234da6-7478-455b-8fae-220d233e3a68",
   "metadata": {},
   "outputs": [
    {
     "name": "stdout",
     "output_type": "stream",
     "text": [
      "[[7 5 9 3 3]\n",
      " [9 5 5 9 7]\n",
      " [7 5 5 7 9]]\n"
     ]
    }
   ],
   "source": [
    "x = random.choice([3, 5, 7, 9], size=(3, 5))\n",
    "\n",
    "print(x)"
   ]
  },
  {
   "cell_type": "code",
   "execution_count": null,
   "id": "4097ed9d-338f-4982-afe8-0ab4d9f2fa82",
   "metadata": {},
   "outputs": [],
   "source": []
  }
 ],
 "metadata": {
  "kernelspec": {
   "display_name": "Python 3 (ipykernel)",
   "language": "python",
   "name": "python3"
  },
  "language_info": {
   "codemirror_mode": {
    "name": "ipython",
    "version": 3
   },
   "file_extension": ".py",
   "mimetype": "text/x-python",
   "name": "python",
   "nbconvert_exporter": "python",
   "pygments_lexer": "ipython3",
   "version": "3.11.7"
  }
 },
 "nbformat": 4,
 "nbformat_minor": 5
}
